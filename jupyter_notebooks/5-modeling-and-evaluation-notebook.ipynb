{
  "cells": [
    {
      "cell_type": "markdown",
      "metadata": {
        "id": "0aStgWSO0E0E"
      },
      "source": [
        "# **Modeling and Evaluation**"
      ]
    },
    {
      "cell_type": "markdown",
      "metadata": {
        "id": "1eLEkw5O0ECa"
      },
      "source": [
        "## Objectives\n",
        "\n",
        "This notebook focuses on training, optimizing, and evaluating a regression model that predicts the **sale price of houses** in Ames, Iowa. It is the core modeling step for **Business Requirement 2**, where the client wants to estimate property values based on known house attributes.\n",
        "\n",
        "Key goals include:\n",
        "- Selecting a subset of features that most strongly predict sale price\n",
        "- Trying multiple regression models and choosing the most effective\n",
        "- Evaluating the model using R², MAE, RMSE, and visualization\n",
        "- Saving the model pipeline for deployment in the Streamlit app\n",
        "\n",
        "## Inputs\n",
        "\n",
        "- outputs\\datasets\\cleaned\\TrainSetCleaned.csv\n",
        "- outputs\\datasets\\cleaned\\TestSetCleaned.csv\n",
        "\n",
        "## Outputs\n",
        "\n",
        "- `X_train.csv` and `X_test.csv`: Train/test sets with selected features\n",
        "- `y_train.csv` and `y_test.csv`: Corresponding targets (SalePrice)\n",
        "- Fitted regression pipeline (`best_regressor_pipeline.pkl`)\n",
        "- Feature importance plot (`feature_importance.png`)\n",
        "- Evaluation metrics and model summary\n"
      ]
    },
    {
      "cell_type": "markdown",
      "metadata": {
        "id": "9uWZXH9LwoQg"
      },
      "source": [
        "---"
      ]
    },
    {
      "cell_type": "markdown",
      "metadata": {
        "id": "cqP-UeN-z3i2"
      },
      "source": [
        "# Change working directory"
      ]
    },
    {
      "cell_type": "markdown",
      "metadata": {},
      "source": [
        "* We are assuming you will store the notebooks in a subfolder, therefore when running the notebook in the editor, you will need to change the working directory"
      ]
    },
    {
      "cell_type": "markdown",
      "metadata": {
        "id": "aOGIGS-uz3i2"
      },
      "source": [
        "We need to change the working directory from its current folder to its parent folder\n",
        "* We access the current directory with `os.getcwd()`"
      ]
    },
    {
      "cell_type": "code",
      "execution_count": 1,
      "metadata": {
        "id": "wZfF_j-Bz3i4",
        "outputId": "66943449-1436-4c3d-85c7-b85f9f78349b"
      },
      "outputs": [
        {
          "data": {
            "text/plain": [
              "'c:\\\\Users\\\\Arthur\\\\OneDrive\\\\Documentos\\\\Code Institute\\\\PP5\\\\PP5-heritage-housing-issues-ml\\\\jupyter_notebooks'"
            ]
          },
          "execution_count": 1,
          "metadata": {},
          "output_type": "execute_result"
        }
      ],
      "source": [
        "import os\n",
        "current_dir = os.getcwd()\n",
        "current_dir"
      ]
    },
    {
      "cell_type": "markdown",
      "metadata": {
        "id": "9MWW8E7lz3i7"
      },
      "source": [
        "We want to make the parent of the current directory the new current directory\n",
        "* `os.path.dirname()` gets the parent directory\n",
        "* `os.chir()` defines the new current directory"
      ]
    },
    {
      "cell_type": "code",
      "execution_count": 2,
      "metadata": {
        "id": "TwHsQRWjz3i9",
        "outputId": "86849db3-cd2f-4cc5-ebb8-2d0caafa1a2c"
      },
      "outputs": [
        {
          "name": "stdout",
          "output_type": "stream",
          "text": [
            "You set a new current directory\n"
          ]
        }
      ],
      "source": [
        "os.chdir(os.path.dirname(current_dir))\n",
        "print(\"You set a new current directory\")"
      ]
    },
    {
      "cell_type": "markdown",
      "metadata": {
        "id": "M_xPk_Ijz3i-"
      },
      "source": [
        "Confirm the new current directory"
      ]
    },
    {
      "cell_type": "code",
      "execution_count": 3,
      "metadata": {
        "id": "vz3S-_kjz3jA",
        "outputId": "00b79ae4-75d0-4a96-d193-ac9ef9847ea2"
      },
      "outputs": [
        {
          "name": "stdout",
          "output_type": "stream",
          "text": [
            "New working directory set to: c:\\Users\\Arthur\\OneDrive\\Documentos\\Code Institute\\PP5\\PP5-heritage-housing-issues-ml\n"
          ]
        }
      ],
      "source": [
        "print(\"New working directory set to:\", os.getcwd())"
      ]
    },
    {
      "cell_type": "markdown",
      "metadata": {},
      "source": [
        "---"
      ]
    },
    {
      "cell_type": "markdown",
      "metadata": {
        "id": "-mavJ8DibrcQ"
      },
      "source": [
        "# Load Data"
      ]
    },
    {
      "cell_type": "markdown",
      "metadata": {},
      "source": [
        "Train Set"
      ]
    },
    {
      "cell_type": "code",
      "execution_count": 4,
      "metadata": {},
      "outputs": [
        {
          "name": "stdout",
          "output_type": "stream",
          "text": [
            "(1460, 22)\n"
          ]
        },
        {
          "data": {
            "application/vnd.microsoft.datawrangler.viewer.v0+json": {
              "columns": [
                {
                  "name": "index",
                  "rawType": "int64",
                  "type": "integer"
                },
                {
                  "name": "1stFlrSF",
                  "rawType": "int64",
                  "type": "integer"
                },
                {
                  "name": "2ndFlrSF",
                  "rawType": "float64",
                  "type": "float"
                },
                {
                  "name": "BedroomAbvGr",
                  "rawType": "float64",
                  "type": "float"
                },
                {
                  "name": "BsmtExposure",
                  "rawType": "object",
                  "type": "string"
                },
                {
                  "name": "BsmtFinSF1",
                  "rawType": "int64",
                  "type": "integer"
                },
                {
                  "name": "BsmtFinType1",
                  "rawType": "object",
                  "type": "string"
                },
                {
                  "name": "BsmtUnfSF",
                  "rawType": "int64",
                  "type": "integer"
                },
                {
                  "name": "GarageArea",
                  "rawType": "int64",
                  "type": "integer"
                },
                {
                  "name": "GarageFinish",
                  "rawType": "object",
                  "type": "string"
                },
                {
                  "name": "GarageYrBlt",
                  "rawType": "float64",
                  "type": "float"
                },
                {
                  "name": "GrLivArea",
                  "rawType": "int64",
                  "type": "integer"
                },
                {
                  "name": "KitchenQual",
                  "rawType": "object",
                  "type": "string"
                },
                {
                  "name": "LotArea",
                  "rawType": "int64",
                  "type": "integer"
                },
                {
                  "name": "LotFrontage",
                  "rawType": "float64",
                  "type": "float"
                },
                {
                  "name": "MasVnrArea",
                  "rawType": "float64",
                  "type": "float"
                },
                {
                  "name": "OpenPorchSF",
                  "rawType": "int64",
                  "type": "integer"
                },
                {
                  "name": "OverallCond",
                  "rawType": "int64",
                  "type": "integer"
                },
                {
                  "name": "OverallQual",
                  "rawType": "int64",
                  "type": "integer"
                },
                {
                  "name": "TotalBsmtSF",
                  "rawType": "int64",
                  "type": "integer"
                },
                {
                  "name": "YearBuilt",
                  "rawType": "int64",
                  "type": "integer"
                },
                {
                  "name": "YearRemodAdd",
                  "rawType": "int64",
                  "type": "integer"
                },
                {
                  "name": "SalePrice",
                  "rawType": "int64",
                  "type": "integer"
                }
              ],
              "conversionMethod": "pd.DataFrame",
              "ref": "04feba95-98e9-434c-a1a6-d637ffedb3fe",
              "rows": [
                [
                  "0",
                  "856",
                  "854.0",
                  "3.0",
                  "No",
                  "706",
                  "GLQ",
                  "150",
                  "548",
                  "RFn",
                  "2003.0",
                  "1710",
                  "Gd",
                  "8450",
                  "65.0",
                  "196.0",
                  "61",
                  "5",
                  "7",
                  "856",
                  "2003",
                  "2003",
                  "208500"
                ],
                [
                  "1",
                  "1262",
                  "0.0",
                  "3.0",
                  "Gd",
                  "978",
                  "ALQ",
                  "284",
                  "460",
                  "RFn",
                  "1976.0",
                  "1262",
                  "TA",
                  "9600",
                  "80.0",
                  "0.0",
                  "0",
                  "8",
                  "6",
                  "1262",
                  "1976",
                  "1976",
                  "181500"
                ],
                [
                  "2",
                  "920",
                  "866.0",
                  "3.0",
                  "Mn",
                  "486",
                  "GLQ",
                  "434",
                  "608",
                  "RFn",
                  "2001.0",
                  "1786",
                  "Gd",
                  "11250",
                  "68.0",
                  "162.0",
                  "42",
                  "5",
                  "7",
                  "920",
                  "2001",
                  "2002",
                  "223500"
                ],
                [
                  "3",
                  "961",
                  null,
                  null,
                  "No",
                  "216",
                  "ALQ",
                  "540",
                  "642",
                  "Unf",
                  "1998.0",
                  "1717",
                  "Gd",
                  "9550",
                  "60.0",
                  "0.0",
                  "35",
                  "5",
                  "7",
                  "756",
                  "1915",
                  "1970",
                  "140000"
                ],
                [
                  "4",
                  "1145",
                  null,
                  "4.0",
                  "Av",
                  "655",
                  "GLQ",
                  "490",
                  "836",
                  "RFn",
                  "2000.0",
                  "2198",
                  "Gd",
                  "14260",
                  "84.0",
                  "350.0",
                  "84",
                  "5",
                  "8",
                  "1145",
                  "2000",
                  "2000",
                  "250000"
                ]
              ],
              "shape": {
                "columns": 22,
                "rows": 5
              }
            },
            "text/html": [
              "<div>\n",
              "<style scoped>\n",
              "    .dataframe tbody tr th:only-of-type {\n",
              "        vertical-align: middle;\n",
              "    }\n",
              "\n",
              "    .dataframe tbody tr th {\n",
              "        vertical-align: top;\n",
              "    }\n",
              "\n",
              "    .dataframe thead th {\n",
              "        text-align: right;\n",
              "    }\n",
              "</style>\n",
              "<table border=\"1\" class=\"dataframe\">\n",
              "  <thead>\n",
              "    <tr style=\"text-align: right;\">\n",
              "      <th></th>\n",
              "      <th>1stFlrSF</th>\n",
              "      <th>2ndFlrSF</th>\n",
              "      <th>BedroomAbvGr</th>\n",
              "      <th>BsmtExposure</th>\n",
              "      <th>BsmtFinSF1</th>\n",
              "      <th>BsmtFinType1</th>\n",
              "      <th>BsmtUnfSF</th>\n",
              "      <th>GarageArea</th>\n",
              "      <th>GarageFinish</th>\n",
              "      <th>GarageYrBlt</th>\n",
              "      <th>...</th>\n",
              "      <th>LotArea</th>\n",
              "      <th>LotFrontage</th>\n",
              "      <th>MasVnrArea</th>\n",
              "      <th>OpenPorchSF</th>\n",
              "      <th>OverallCond</th>\n",
              "      <th>OverallQual</th>\n",
              "      <th>TotalBsmtSF</th>\n",
              "      <th>YearBuilt</th>\n",
              "      <th>YearRemodAdd</th>\n",
              "      <th>SalePrice</th>\n",
              "    </tr>\n",
              "  </thead>\n",
              "  <tbody>\n",
              "    <tr>\n",
              "      <th>0</th>\n",
              "      <td>856</td>\n",
              "      <td>854.0</td>\n",
              "      <td>3.0</td>\n",
              "      <td>No</td>\n",
              "      <td>706</td>\n",
              "      <td>GLQ</td>\n",
              "      <td>150</td>\n",
              "      <td>548</td>\n",
              "      <td>RFn</td>\n",
              "      <td>2003.0</td>\n",
              "      <td>...</td>\n",
              "      <td>8450</td>\n",
              "      <td>65.0</td>\n",
              "      <td>196.0</td>\n",
              "      <td>61</td>\n",
              "      <td>5</td>\n",
              "      <td>7</td>\n",
              "      <td>856</td>\n",
              "      <td>2003</td>\n",
              "      <td>2003</td>\n",
              "      <td>208500</td>\n",
              "    </tr>\n",
              "    <tr>\n",
              "      <th>1</th>\n",
              "      <td>1262</td>\n",
              "      <td>0.0</td>\n",
              "      <td>3.0</td>\n",
              "      <td>Gd</td>\n",
              "      <td>978</td>\n",
              "      <td>ALQ</td>\n",
              "      <td>284</td>\n",
              "      <td>460</td>\n",
              "      <td>RFn</td>\n",
              "      <td>1976.0</td>\n",
              "      <td>...</td>\n",
              "      <td>9600</td>\n",
              "      <td>80.0</td>\n",
              "      <td>0.0</td>\n",
              "      <td>0</td>\n",
              "      <td>8</td>\n",
              "      <td>6</td>\n",
              "      <td>1262</td>\n",
              "      <td>1976</td>\n",
              "      <td>1976</td>\n",
              "      <td>181500</td>\n",
              "    </tr>\n",
              "    <tr>\n",
              "      <th>2</th>\n",
              "      <td>920</td>\n",
              "      <td>866.0</td>\n",
              "      <td>3.0</td>\n",
              "      <td>Mn</td>\n",
              "      <td>486</td>\n",
              "      <td>GLQ</td>\n",
              "      <td>434</td>\n",
              "      <td>608</td>\n",
              "      <td>RFn</td>\n",
              "      <td>2001.0</td>\n",
              "      <td>...</td>\n",
              "      <td>11250</td>\n",
              "      <td>68.0</td>\n",
              "      <td>162.0</td>\n",
              "      <td>42</td>\n",
              "      <td>5</td>\n",
              "      <td>7</td>\n",
              "      <td>920</td>\n",
              "      <td>2001</td>\n",
              "      <td>2002</td>\n",
              "      <td>223500</td>\n",
              "    </tr>\n",
              "    <tr>\n",
              "      <th>3</th>\n",
              "      <td>961</td>\n",
              "      <td>NaN</td>\n",
              "      <td>NaN</td>\n",
              "      <td>No</td>\n",
              "      <td>216</td>\n",
              "      <td>ALQ</td>\n",
              "      <td>540</td>\n",
              "      <td>642</td>\n",
              "      <td>Unf</td>\n",
              "      <td>1998.0</td>\n",
              "      <td>...</td>\n",
              "      <td>9550</td>\n",
              "      <td>60.0</td>\n",
              "      <td>0.0</td>\n",
              "      <td>35</td>\n",
              "      <td>5</td>\n",
              "      <td>7</td>\n",
              "      <td>756</td>\n",
              "      <td>1915</td>\n",
              "      <td>1970</td>\n",
              "      <td>140000</td>\n",
              "    </tr>\n",
              "    <tr>\n",
              "      <th>4</th>\n",
              "      <td>1145</td>\n",
              "      <td>NaN</td>\n",
              "      <td>4.0</td>\n",
              "      <td>Av</td>\n",
              "      <td>655</td>\n",
              "      <td>GLQ</td>\n",
              "      <td>490</td>\n",
              "      <td>836</td>\n",
              "      <td>RFn</td>\n",
              "      <td>2000.0</td>\n",
              "      <td>...</td>\n",
              "      <td>14260</td>\n",
              "      <td>84.0</td>\n",
              "      <td>350.0</td>\n",
              "      <td>84</td>\n",
              "      <td>5</td>\n",
              "      <td>8</td>\n",
              "      <td>1145</td>\n",
              "      <td>2000</td>\n",
              "      <td>2000</td>\n",
              "      <td>250000</td>\n",
              "    </tr>\n",
              "  </tbody>\n",
              "</table>\n",
              "<p>5 rows × 22 columns</p>\n",
              "</div>"
            ],
            "text/plain": [
              "   1stFlrSF  2ndFlrSF  BedroomAbvGr BsmtExposure  BsmtFinSF1 BsmtFinType1  \\\n",
              "0       856     854.0           3.0           No         706          GLQ   \n",
              "1      1262       0.0           3.0           Gd         978          ALQ   \n",
              "2       920     866.0           3.0           Mn         486          GLQ   \n",
              "3       961       NaN           NaN           No         216          ALQ   \n",
              "4      1145       NaN           4.0           Av         655          GLQ   \n",
              "\n",
              "   BsmtUnfSF  GarageArea GarageFinish  GarageYrBlt  ...  LotArea LotFrontage  \\\n",
              "0        150         548          RFn       2003.0  ...     8450        65.0   \n",
              "1        284         460          RFn       1976.0  ...     9600        80.0   \n",
              "2        434         608          RFn       2001.0  ...    11250        68.0   \n",
              "3        540         642          Unf       1998.0  ...     9550        60.0   \n",
              "4        490         836          RFn       2000.0  ...    14260        84.0   \n",
              "\n",
              "   MasVnrArea  OpenPorchSF  OverallCond  OverallQual  TotalBsmtSF  YearBuilt  \\\n",
              "0       196.0           61            5            7          856       2003   \n",
              "1         0.0            0            8            6         1262       1976   \n",
              "2       162.0           42            5            7          920       2001   \n",
              "3         0.0           35            5            7          756       1915   \n",
              "4       350.0           84            5            8         1145       2000   \n",
              "\n",
              "   YearRemodAdd  SalePrice  \n",
              "0          2003     208500  \n",
              "1          1976     181500  \n",
              "2          2002     223500  \n",
              "3          1970     140000  \n",
              "4          2000     250000  \n",
              "\n",
              "[5 rows x 22 columns]"
            ]
          },
          "execution_count": 4,
          "metadata": {},
          "output_type": "execute_result"
        }
      ],
      "source": [
        "import numpy as np\n",
        "import pandas as pd\n",
        "df = (pd.read_csv(\"outputs/datasets/collection/house_prices_records.csv\")\n",
        "      .drop(labels=['EnclosedPorch', 'WoodDeckSF'], axis=1)\n",
        "  )\n",
        "\n",
        "print(df.shape)\n",
        "df.head(5)"
      ]
    },
    {
      "cell_type": "markdown",
      "metadata": {
        "id": "ZY3l0-AxO93d"
      },
      "source": [
        "---"
      ]
    },
    {
      "cell_type": "markdown",
      "metadata": {},
      "source": [
        "# Step 2: ML Pipeline with all data"
      ]
    },
    {
      "cell_type": "markdown",
      "metadata": {},
      "source": [
        "## ML pipeline for Data Cleaning and Feature Engineering"
      ]
    },
    {
      "cell_type": "code",
      "execution_count": 14,
      "metadata": {},
      "outputs": [],
      "source": [
        "from sklearn.base import BaseEstimator, TransformerMixin\n",
        "\n",
        "class DataFrameImputer(BaseEstimator, TransformerMixin):\n",
        "    def __init__(self, imputer, column_names):\n",
        "        self.imputer = imputer\n",
        "        self.column_names = column_names\n",
        "\n",
        "    def fit(self, X, y=None):\n",
        "        self.imputer.fit(X)\n",
        "        return self\n",
        "\n",
        "    def transform(self, X):\n",
        "        array = self.imputer.transform(X)\n",
        "        return pd.DataFrame(array, columns=self.column_names, index=X.index)\n"
      ]
    },
    {
      "cell_type": "code",
      "execution_count": 16,
      "metadata": {},
      "outputs": [],
      "source": [
        "class DebugMissingChecker(BaseEstimator, TransformerMixin):\n",
        "    def fit(self, X, y=None):\n",
        "        return self\n",
        "\n",
        "    def transform(self, X):\n",
        "        missing_cols = X.columns[X.isnull().any()].tolist()\n",
        "        if missing_cols:\n",
        "            print(\"⚠️ Still missing values in:\", missing_cols)\n",
        "            raise ValueError(\"Pipeline halted: NaNs remain in the data\")\n",
        "        return X\n",
        "\n",
        "def PipelineDataCleaningAndFeatureEngineering():\n",
        "    from feature_engine.imputation import (\n",
        "        MeanMedianImputer,\n",
        "        ArbitraryNumberImputer,\n",
        "        CategoricalImputer\n",
        "    )\n",
        "    from feature_engine.encoding import OrdinalEncoder\n",
        "    from feature_engine.transformation import LogTransformer, PowerTransformer, YeoJohnsonTransformer\n",
        "    from feature_engine.selection import SmartCorrelatedSelection\n",
        "\n",
        "    num_impute_zero = ['2ndFlrSF', 'MasVnrArea', 'GarageYrBlt']\n",
        "    num_impute_median = ['BedroomAbvGr']\n",
        "    cat_impute_missing = ['BsmtExposure', 'BsmtFinType1', 'GarageFinish']\n",
        "    ordinal_encode = ['BsmtExposure', 'BsmtFinType1', 'GarageFinish', 'KitchenQual']\n",
        "\n",
        "    log_transform = ['GrLivArea']\n",
        "    log10_transform = ['1stFlrSF']\n",
        "    yeojohnson_transform = ['GarageArea', 'LotFrontage']\n",
        "    power_transform = ['TotalBsmtSF']\n",
        "\n",
        "    pipeline = PipelineDataCleaningAndFeatureEngineering([\n",
        "        (\"num_zero\", ArbitraryNumberImputer(arbitrary_number=0, variables=num_impute_zero)),\n",
        "        (\"num_median\", MeanMedianImputer(imputation_method='median', variables=num_impute_median)),\n",
        "        (\"cat_missing\", CategoricalImputer(imputation_method='missing', variables=cat_impute_missing)),\n",
        "\n",
        "        # Check that no missing values remain\n",
        "        (\"debug_nan_check\", DebugMissingChecker()),\n",
        "\n",
        "        (\"ordinal_encoder\", OrdinalEncoder(encoding_method='arbitrary', variables=ordinal_encode)),\n",
        "\n",
        "        (\"log_transform\", LogTransformer(variables=log_transform)),\n",
        "        (\"log10_transform\", LogTransformer(variables=log10_transform, base='10')),\n",
        "        (\"yeojohnson\", YeoJohnsonTransformer(variables=yeojohnson_transform)),\n",
        "        (\"power_transform\", PowerTransformer(variables=power_transform)),\n",
        "\n",
        "        (\"correlation_filter\", SmartCorrelatedSelection(\n",
        "            method='spearman',\n",
        "            threshold=0.6,\n",
        "            selection_method='variance')),\n",
        "    ])\n",
        "\n",
        "    return pipeline"
      ]
    },
    {
      "cell_type": "markdown",
      "metadata": {},
      "source": [
        "# Create ML Pipeline"
      ]
    },
    {
      "cell_type": "markdown",
      "metadata": {},
      "source": [
        "We define a flexible and modular ML pipeline using `sklearn.pipeline`. This pipeline includes encoding, transformations, multicollinearity reduction, scaling, feature selection, and the model itself.\n",
        "\n",
        "All transformation steps are based on decisions made in the Feature Engineering notebook, including:\n",
        "- Ordinal encoding for 4 categorical features\n",
        "- Log, power, and Yeo-Johnson transformations for skewed numeric features\n",
        "- SmartCorrelatedSelection with threshold = 0.6"
      ]
    },
    {
      "cell_type": "code",
      "execution_count": 17,
      "metadata": {},
      "outputs": [],
      "source": [
        "# Feat Scaling\n",
        "from sklearn.preprocessing import StandardScaler\n",
        "\n",
        "# Feat Selection\n",
        "from sklearn.feature_selection import SelectFromModel\n",
        "\n",
        "# ML algorithms\n",
        "from sklearn.linear_model import LogisticRegression\n",
        "from sklearn.tree import DecisionTreeClassifier\n",
        "from sklearn.ensemble import RandomForestClassifier\n",
        "from sklearn.ensemble import GradientBoostingClassifier\n",
        "from sklearn.ensemble import ExtraTreesClassifier\n",
        "from sklearn.ensemble import AdaBoostClassifier\n",
        "from xgboost import XGBClassifier\n",
        "\n",
        "def PipelineClf(model):\n",
        "    pipeline_base = Pipeline([\n",
        "        (\"scaler\", StandardScaler()),\n",
        "        (\"feat_selector\", SelectFromModel(model)),\n",
        "        (\"model\", model),\n",
        "    ])\n",
        "    return pipeline_base\n"
      ]
    },
    {
      "cell_type": "markdown",
      "metadata": {},
      "source": [
        "Custom Class for hyperparameter optimisation"
      ]
    },
    {
      "cell_type": "code",
      "execution_count": 18,
      "metadata": {},
      "outputs": [],
      "source": [
        "from sklearn.model_selection import GridSearchCV\n",
        "import numpy as np\n",
        "import pandas as pd\n",
        "\n",
        "class HyperparameterOptimizationSearch:\n",
        "    def __init__(self, models, params):\n",
        "        \"\"\"\n",
        "        Initializes the search with dictionaries of models and hyperparameter grids.\n",
        "        \n",
        "        Parameters:\n",
        "        - models: dict of model name → estimator (e.g., {'XGB': XGBRegressor()})\n",
        "        - params: dict of model name → dict of hyperparameter grid\n",
        "        \"\"\"\n",
        "        self.models = models\n",
        "        self.params = params\n",
        "        self.keys = models.keys()\n",
        "        self.grid_searches = {}  # Will store results after .fit()\n",
        "\n",
        "    def fit(self, X, y, cv, n_jobs, verbose=1, scoring=None, refit=False):\n",
        "        \"\"\"\n",
        "        Runs GridSearchCV for each model in self.models.\n",
        "\n",
        "        Parameters:\n",
        "        - X, y: training data\n",
        "        - cv: number of cross-validation folds\n",
        "        - n_jobs: number of cores for parallel processing\n",
        "        - verbose: verbosity level (0–3)\n",
        "        - scoring: scoring metric, e.g., 'r2'\n",
        "        - refit: whether to refit the best model on the whole data (default: False)\n",
        "        \"\"\"\n",
        "        for key in self.keys:\n",
        "            print(f\"\\nRunning GridSearchCV for {key} \\n\")\n",
        "\n",
        "            # Assumes a separate function that wraps preprocessing and the model into a pipeline\n",
        "            model = PipelineClf(self.models[key])\n",
        "\n",
        "            # Retrieve the grid of hyperparameters\n",
        "            params = self.params[key]\n",
        "\n",
        "            # Run Grid Search\n",
        "            gs = GridSearchCV(model, params, cv=cv, n_jobs=n_jobs,\n",
        "                              verbose=verbose, scoring=scoring)\n",
        "            gs.fit(X, y)\n",
        "\n",
        "            # Store result in dictionary\n",
        "            self.grid_searches[key] = gs\n",
        "\n",
        "    def score_summary(self, sort_by='mean_score'):\n",
        "        \"\"\"\n",
        "        Builds a summary DataFrame with scores and hyperparameters for all models.\n",
        "        \"\"\"\n",
        "        def row(key, scores, params):\n",
        "            \"\"\"\n",
        "            Helper function to generate one row of the results summary.\n",
        "            \"\"\"\n",
        "            d = {\n",
        "                'estimator': key,\n",
        "                'min_score': min(scores),\n",
        "                'max_score': max(scores),\n",
        "                'mean_score': np.mean(scores),\n",
        "                'std_score': np.std(scores),\n",
        "            }\n",
        "            return pd.Series({**params, **d})  # Combine param dict with scores\n",
        "\n",
        "        rows = []\n",
        "\n",
        "        for k in self.grid_searches:\n",
        "            # Get all parameter combinations tested\n",
        "            params = self.grid_searches[k].cv_results_['params']\n",
        "            scores = []\n",
        "\n",
        "            # Collect scores from each CV split (split0_test_score, split1_test_score, etc.)\n",
        "            for i in range(self.grid_searches[k].cv):\n",
        "                key = f\"split{i}_test_score\"\n",
        "                r = self.grid_searches[k].cv_results_[key]\n",
        "                scores.append(r.reshape(len(params), 1))  # reshape for stacking\n",
        "\n",
        "            all_scores = np.hstack(scores)  # Combine split scores into one array\n",
        "\n",
        "            # Build a row for each hyperparameter combination tested\n",
        "            for p, s in zip(params, all_scores):\n",
        "                rows.append((row(k, s, p)))\n",
        "\n",
        "        # Combine all rows into a summary DataFrame\n",
        "        df = pd.concat(rows, axis=1).T.sort_values([sort_by], ascending=False)\n",
        "\n",
        "        # Set column order: estimator, min/mean/max scores, std, then hyperparameters\n",
        "        columns = ['estimator', 'min_score', 'mean_score', 'max_score', 'std_score']\n",
        "        columns = columns + [c for c in df.columns if c not in columns]\n",
        "\n",
        "        return df[columns], self.grid_searches\n"
      ]
    },
    {
      "cell_type": "markdown",
      "metadata": {},
      "source": [
        "## Split Train Test Set"
      ]
    },
    {
      "cell_type": "code",
      "execution_count": 19,
      "metadata": {},
      "outputs": [
        {
          "name": "stdout",
          "output_type": "stream",
          "text": [
            "* Train set: (1168, 21) (1168,) \n",
            "* Test set: (292, 21) (292,)\n"
          ]
        }
      ],
      "source": [
        "from sklearn.model_selection import train_test_split\n",
        "X_train, X_test, y_train, y_test = train_test_split(\n",
        "    df.drop(['SalePrice'], axis=1),\n",
        "    df['SalePrice'],\n",
        "    test_size=0.2,\n",
        "    random_state=0\n",
        ")\n",
        "\n",
        "print(\"* Train set:\", X_train.shape, y_train.shape,\n",
        "      \"\\n* Test set:\",  X_test.shape, y_test.shape)\n"
      ]
    },
    {
      "cell_type": "code",
      "execution_count": 20,
      "metadata": {},
      "outputs": [
        {
          "data": {
            "application/vnd.microsoft.datawrangler.viewer.v0+json": {
              "columns": [
                {
                  "name": "index",
                  "rawType": "int64",
                  "type": "integer"
                },
                {
                  "name": "1stFlrSF",
                  "rawType": "int64",
                  "type": "integer"
                },
                {
                  "name": "2ndFlrSF",
                  "rawType": "float64",
                  "type": "float"
                },
                {
                  "name": "BedroomAbvGr",
                  "rawType": "float64",
                  "type": "float"
                },
                {
                  "name": "BsmtExposure",
                  "rawType": "object",
                  "type": "string"
                },
                {
                  "name": "BsmtFinSF1",
                  "rawType": "int64",
                  "type": "integer"
                },
                {
                  "name": "BsmtFinType1",
                  "rawType": "object",
                  "type": "unknown"
                },
                {
                  "name": "BsmtUnfSF",
                  "rawType": "int64",
                  "type": "integer"
                },
                {
                  "name": "GarageArea",
                  "rawType": "int64",
                  "type": "integer"
                },
                {
                  "name": "GarageFinish",
                  "rawType": "object",
                  "type": "unknown"
                },
                {
                  "name": "GarageYrBlt",
                  "rawType": "float64",
                  "type": "float"
                },
                {
                  "name": "GrLivArea",
                  "rawType": "int64",
                  "type": "integer"
                },
                {
                  "name": "KitchenQual",
                  "rawType": "object",
                  "type": "string"
                },
                {
                  "name": "LotArea",
                  "rawType": "int64",
                  "type": "integer"
                },
                {
                  "name": "LotFrontage",
                  "rawType": "float64",
                  "type": "float"
                },
                {
                  "name": "MasVnrArea",
                  "rawType": "float64",
                  "type": "float"
                },
                {
                  "name": "OpenPorchSF",
                  "rawType": "int64",
                  "type": "integer"
                },
                {
                  "name": "OverallCond",
                  "rawType": "int64",
                  "type": "integer"
                },
                {
                  "name": "OverallQual",
                  "rawType": "int64",
                  "type": "integer"
                },
                {
                  "name": "TotalBsmtSF",
                  "rawType": "int64",
                  "type": "integer"
                },
                {
                  "name": "YearBuilt",
                  "rawType": "int64",
                  "type": "integer"
                },
                {
                  "name": "YearRemodAdd",
                  "rawType": "int64",
                  "type": "integer"
                }
              ],
              "conversionMethod": "pd.DataFrame",
              "ref": "11245049-3fa6-4352-847d-0ac269440080",
              "rows": [
                [
                  "618",
                  "1828",
                  "0.0",
                  null,
                  "Av",
                  "48",
                  null,
                  "1774",
                  "774",
                  "Unf",
                  "2007.0",
                  "1828",
                  "Gd",
                  "11694",
                  "90.0",
                  "452.0",
                  "108",
                  "5",
                  "9",
                  "1822",
                  "2007",
                  "2007"
                ],
                [
                  "870",
                  "894",
                  "0.0",
                  "2.0",
                  "No",
                  "0",
                  "Unf",
                  "894",
                  "308",
                  null,
                  "1962.0",
                  "894",
                  "TA",
                  "6600",
                  "60.0",
                  "0.0",
                  "0",
                  "5",
                  "5",
                  "894",
                  "1962",
                  "1962"
                ],
                [
                  "92",
                  "964",
                  "0.0",
                  "2.0",
                  "No",
                  "713",
                  "ALQ",
                  "163",
                  "432",
                  "Unf",
                  "1921.0",
                  "964",
                  "TA",
                  "13360",
                  "80.0",
                  "0.0",
                  "0",
                  "7",
                  "5",
                  "876",
                  "1921",
                  "2006"
                ],
                [
                  "817",
                  "1689",
                  "0.0",
                  "3.0",
                  "No",
                  "1218",
                  "GLQ",
                  "350",
                  "857",
                  "RFn",
                  "2002.0",
                  "1689",
                  "Gd",
                  "13265",
                  null,
                  "148.0",
                  "59",
                  "5",
                  "8",
                  "1568",
                  "2002",
                  "2002"
                ],
                [
                  "302",
                  "1541",
                  "0.0",
                  "3.0",
                  "No",
                  "0",
                  "Unf",
                  "1541",
                  "843",
                  "RFn",
                  "2001.0",
                  "1541",
                  "Gd",
                  "13704",
                  "118.0",
                  "150.0",
                  "81",
                  "5",
                  "7",
                  "1541",
                  "2001",
                  "2002"
                ],
                [
                  "1454",
                  "1221",
                  "0.0",
                  "2.0",
                  "No",
                  "410",
                  "GLQ",
                  "811",
                  "400",
                  "RFn",
                  "2004.0",
                  "1221",
                  "Gd",
                  "7500",
                  "62.0",
                  "0.0",
                  "113",
                  "5",
                  "7",
                  "1221",
                  "2004",
                  "2005"
                ],
                [
                  "40",
                  "1324",
                  "0.0",
                  "3.0",
                  "No",
                  "643",
                  "Rec",
                  "445",
                  "440",
                  null,
                  "1965.0",
                  "1324",
                  "TA",
                  "8658",
                  "84.0",
                  "101.0",
                  "138",
                  "5",
                  "6",
                  "1088",
                  "1965",
                  "1965"
                ],
                [
                  "959",
                  "696",
                  "720.0",
                  "3.0",
                  "No",
                  "604",
                  "ALQ",
                  "92",
                  "484",
                  "Unf",
                  "1999.0",
                  "1416",
                  "Gd",
                  "2572",
                  "24.0",
                  "0.0",
                  "44",
                  "5",
                  "7",
                  "696",
                  "1999",
                  "1999"
                ],
                [
                  "75",
                  "526",
                  "462.0",
                  "2.0",
                  "Gd",
                  "462",
                  "GLQ",
                  "0",
                  "297",
                  "Unf",
                  "1973.0",
                  "988",
                  "TA",
                  "1596",
                  "21.0",
                  "0.0",
                  "101",
                  "5",
                  "4",
                  "462",
                  "1973",
                  "1973"
                ],
                [
                  "1389",
                  "869",
                  "349.0",
                  "3.0",
                  "No",
                  "375",
                  "ALQ",
                  "360",
                  "440",
                  "Unf",
                  "2003.0",
                  "1218",
                  "TA",
                  "6000",
                  "60.0",
                  "0.0",
                  "0",
                  "6",
                  "6",
                  "735",
                  "1941",
                  "1950"
                ]
              ],
              "shape": {
                "columns": 21,
                "rows": 10
              }
            },
            "text/html": [
              "<div>\n",
              "<style scoped>\n",
              "    .dataframe tbody tr th:only-of-type {\n",
              "        vertical-align: middle;\n",
              "    }\n",
              "\n",
              "    .dataframe tbody tr th {\n",
              "        vertical-align: top;\n",
              "    }\n",
              "\n",
              "    .dataframe thead th {\n",
              "        text-align: right;\n",
              "    }\n",
              "</style>\n",
              "<table border=\"1\" class=\"dataframe\">\n",
              "  <thead>\n",
              "    <tr style=\"text-align: right;\">\n",
              "      <th></th>\n",
              "      <th>1stFlrSF</th>\n",
              "      <th>2ndFlrSF</th>\n",
              "      <th>BedroomAbvGr</th>\n",
              "      <th>BsmtExposure</th>\n",
              "      <th>BsmtFinSF1</th>\n",
              "      <th>BsmtFinType1</th>\n",
              "      <th>BsmtUnfSF</th>\n",
              "      <th>GarageArea</th>\n",
              "      <th>GarageFinish</th>\n",
              "      <th>GarageYrBlt</th>\n",
              "      <th>...</th>\n",
              "      <th>KitchenQual</th>\n",
              "      <th>LotArea</th>\n",
              "      <th>LotFrontage</th>\n",
              "      <th>MasVnrArea</th>\n",
              "      <th>OpenPorchSF</th>\n",
              "      <th>OverallCond</th>\n",
              "      <th>OverallQual</th>\n",
              "      <th>TotalBsmtSF</th>\n",
              "      <th>YearBuilt</th>\n",
              "      <th>YearRemodAdd</th>\n",
              "    </tr>\n",
              "  </thead>\n",
              "  <tbody>\n",
              "    <tr>\n",
              "      <th>618</th>\n",
              "      <td>1828</td>\n",
              "      <td>0.0</td>\n",
              "      <td>NaN</td>\n",
              "      <td>Av</td>\n",
              "      <td>48</td>\n",
              "      <td>NaN</td>\n",
              "      <td>1774</td>\n",
              "      <td>774</td>\n",
              "      <td>Unf</td>\n",
              "      <td>2007.0</td>\n",
              "      <td>...</td>\n",
              "      <td>Gd</td>\n",
              "      <td>11694</td>\n",
              "      <td>90.0</td>\n",
              "      <td>452.0</td>\n",
              "      <td>108</td>\n",
              "      <td>5</td>\n",
              "      <td>9</td>\n",
              "      <td>1822</td>\n",
              "      <td>2007</td>\n",
              "      <td>2007</td>\n",
              "    </tr>\n",
              "    <tr>\n",
              "      <th>870</th>\n",
              "      <td>894</td>\n",
              "      <td>0.0</td>\n",
              "      <td>2.0</td>\n",
              "      <td>No</td>\n",
              "      <td>0</td>\n",
              "      <td>Unf</td>\n",
              "      <td>894</td>\n",
              "      <td>308</td>\n",
              "      <td>NaN</td>\n",
              "      <td>1962.0</td>\n",
              "      <td>...</td>\n",
              "      <td>TA</td>\n",
              "      <td>6600</td>\n",
              "      <td>60.0</td>\n",
              "      <td>0.0</td>\n",
              "      <td>0</td>\n",
              "      <td>5</td>\n",
              "      <td>5</td>\n",
              "      <td>894</td>\n",
              "      <td>1962</td>\n",
              "      <td>1962</td>\n",
              "    </tr>\n",
              "    <tr>\n",
              "      <th>92</th>\n",
              "      <td>964</td>\n",
              "      <td>0.0</td>\n",
              "      <td>2.0</td>\n",
              "      <td>No</td>\n",
              "      <td>713</td>\n",
              "      <td>ALQ</td>\n",
              "      <td>163</td>\n",
              "      <td>432</td>\n",
              "      <td>Unf</td>\n",
              "      <td>1921.0</td>\n",
              "      <td>...</td>\n",
              "      <td>TA</td>\n",
              "      <td>13360</td>\n",
              "      <td>80.0</td>\n",
              "      <td>0.0</td>\n",
              "      <td>0</td>\n",
              "      <td>7</td>\n",
              "      <td>5</td>\n",
              "      <td>876</td>\n",
              "      <td>1921</td>\n",
              "      <td>2006</td>\n",
              "    </tr>\n",
              "    <tr>\n",
              "      <th>817</th>\n",
              "      <td>1689</td>\n",
              "      <td>0.0</td>\n",
              "      <td>3.0</td>\n",
              "      <td>No</td>\n",
              "      <td>1218</td>\n",
              "      <td>GLQ</td>\n",
              "      <td>350</td>\n",
              "      <td>857</td>\n",
              "      <td>RFn</td>\n",
              "      <td>2002.0</td>\n",
              "      <td>...</td>\n",
              "      <td>Gd</td>\n",
              "      <td>13265</td>\n",
              "      <td>NaN</td>\n",
              "      <td>148.0</td>\n",
              "      <td>59</td>\n",
              "      <td>5</td>\n",
              "      <td>8</td>\n",
              "      <td>1568</td>\n",
              "      <td>2002</td>\n",
              "      <td>2002</td>\n",
              "    </tr>\n",
              "    <tr>\n",
              "      <th>302</th>\n",
              "      <td>1541</td>\n",
              "      <td>0.0</td>\n",
              "      <td>3.0</td>\n",
              "      <td>No</td>\n",
              "      <td>0</td>\n",
              "      <td>Unf</td>\n",
              "      <td>1541</td>\n",
              "      <td>843</td>\n",
              "      <td>RFn</td>\n",
              "      <td>2001.0</td>\n",
              "      <td>...</td>\n",
              "      <td>Gd</td>\n",
              "      <td>13704</td>\n",
              "      <td>118.0</td>\n",
              "      <td>150.0</td>\n",
              "      <td>81</td>\n",
              "      <td>5</td>\n",
              "      <td>7</td>\n",
              "      <td>1541</td>\n",
              "      <td>2001</td>\n",
              "      <td>2002</td>\n",
              "    </tr>\n",
              "    <tr>\n",
              "      <th>1454</th>\n",
              "      <td>1221</td>\n",
              "      <td>0.0</td>\n",
              "      <td>2.0</td>\n",
              "      <td>No</td>\n",
              "      <td>410</td>\n",
              "      <td>GLQ</td>\n",
              "      <td>811</td>\n",
              "      <td>400</td>\n",
              "      <td>RFn</td>\n",
              "      <td>2004.0</td>\n",
              "      <td>...</td>\n",
              "      <td>Gd</td>\n",
              "      <td>7500</td>\n",
              "      <td>62.0</td>\n",
              "      <td>0.0</td>\n",
              "      <td>113</td>\n",
              "      <td>5</td>\n",
              "      <td>7</td>\n",
              "      <td>1221</td>\n",
              "      <td>2004</td>\n",
              "      <td>2005</td>\n",
              "    </tr>\n",
              "    <tr>\n",
              "      <th>40</th>\n",
              "      <td>1324</td>\n",
              "      <td>0.0</td>\n",
              "      <td>3.0</td>\n",
              "      <td>No</td>\n",
              "      <td>643</td>\n",
              "      <td>Rec</td>\n",
              "      <td>445</td>\n",
              "      <td>440</td>\n",
              "      <td>NaN</td>\n",
              "      <td>1965.0</td>\n",
              "      <td>...</td>\n",
              "      <td>TA</td>\n",
              "      <td>8658</td>\n",
              "      <td>84.0</td>\n",
              "      <td>101.0</td>\n",
              "      <td>138</td>\n",
              "      <td>5</td>\n",
              "      <td>6</td>\n",
              "      <td>1088</td>\n",
              "      <td>1965</td>\n",
              "      <td>1965</td>\n",
              "    </tr>\n",
              "    <tr>\n",
              "      <th>959</th>\n",
              "      <td>696</td>\n",
              "      <td>720.0</td>\n",
              "      <td>3.0</td>\n",
              "      <td>No</td>\n",
              "      <td>604</td>\n",
              "      <td>ALQ</td>\n",
              "      <td>92</td>\n",
              "      <td>484</td>\n",
              "      <td>Unf</td>\n",
              "      <td>1999.0</td>\n",
              "      <td>...</td>\n",
              "      <td>Gd</td>\n",
              "      <td>2572</td>\n",
              "      <td>24.0</td>\n",
              "      <td>0.0</td>\n",
              "      <td>44</td>\n",
              "      <td>5</td>\n",
              "      <td>7</td>\n",
              "      <td>696</td>\n",
              "      <td>1999</td>\n",
              "      <td>1999</td>\n",
              "    </tr>\n",
              "    <tr>\n",
              "      <th>75</th>\n",
              "      <td>526</td>\n",
              "      <td>462.0</td>\n",
              "      <td>2.0</td>\n",
              "      <td>Gd</td>\n",
              "      <td>462</td>\n",
              "      <td>GLQ</td>\n",
              "      <td>0</td>\n",
              "      <td>297</td>\n",
              "      <td>Unf</td>\n",
              "      <td>1973.0</td>\n",
              "      <td>...</td>\n",
              "      <td>TA</td>\n",
              "      <td>1596</td>\n",
              "      <td>21.0</td>\n",
              "      <td>0.0</td>\n",
              "      <td>101</td>\n",
              "      <td>5</td>\n",
              "      <td>4</td>\n",
              "      <td>462</td>\n",
              "      <td>1973</td>\n",
              "      <td>1973</td>\n",
              "    </tr>\n",
              "    <tr>\n",
              "      <th>1389</th>\n",
              "      <td>869</td>\n",
              "      <td>349.0</td>\n",
              "      <td>3.0</td>\n",
              "      <td>No</td>\n",
              "      <td>375</td>\n",
              "      <td>ALQ</td>\n",
              "      <td>360</td>\n",
              "      <td>440</td>\n",
              "      <td>Unf</td>\n",
              "      <td>2003.0</td>\n",
              "      <td>...</td>\n",
              "      <td>TA</td>\n",
              "      <td>6000</td>\n",
              "      <td>60.0</td>\n",
              "      <td>0.0</td>\n",
              "      <td>0</td>\n",
              "      <td>6</td>\n",
              "      <td>6</td>\n",
              "      <td>735</td>\n",
              "      <td>1941</td>\n",
              "      <td>1950</td>\n",
              "    </tr>\n",
              "  </tbody>\n",
              "</table>\n",
              "<p>10 rows × 21 columns</p>\n",
              "</div>"
            ],
            "text/plain": [
              "      1stFlrSF  2ndFlrSF  BedroomAbvGr BsmtExposure  BsmtFinSF1 BsmtFinType1  \\\n",
              "618       1828       0.0           NaN           Av          48          NaN   \n",
              "870        894       0.0           2.0           No           0          Unf   \n",
              "92         964       0.0           2.0           No         713          ALQ   \n",
              "817       1689       0.0           3.0           No        1218          GLQ   \n",
              "302       1541       0.0           3.0           No           0          Unf   \n",
              "1454      1221       0.0           2.0           No         410          GLQ   \n",
              "40        1324       0.0           3.0           No         643          Rec   \n",
              "959        696     720.0           3.0           No         604          ALQ   \n",
              "75         526     462.0           2.0           Gd         462          GLQ   \n",
              "1389       869     349.0           3.0           No         375          ALQ   \n",
              "\n",
              "      BsmtUnfSF  GarageArea GarageFinish  GarageYrBlt  ...  KitchenQual  \\\n",
              "618        1774         774          Unf       2007.0  ...           Gd   \n",
              "870         894         308          NaN       1962.0  ...           TA   \n",
              "92          163         432          Unf       1921.0  ...           TA   \n",
              "817         350         857          RFn       2002.0  ...           Gd   \n",
              "302        1541         843          RFn       2001.0  ...           Gd   \n",
              "1454        811         400          RFn       2004.0  ...           Gd   \n",
              "40          445         440          NaN       1965.0  ...           TA   \n",
              "959          92         484          Unf       1999.0  ...           Gd   \n",
              "75            0         297          Unf       1973.0  ...           TA   \n",
              "1389        360         440          Unf       2003.0  ...           TA   \n",
              "\n",
              "     LotArea  LotFrontage  MasVnrArea  OpenPorchSF  OverallCond  OverallQual  \\\n",
              "618    11694         90.0       452.0          108            5            9   \n",
              "870     6600         60.0         0.0            0            5            5   \n",
              "92     13360         80.0         0.0            0            7            5   \n",
              "817    13265          NaN       148.0           59            5            8   \n",
              "302    13704        118.0       150.0           81            5            7   \n",
              "1454    7500         62.0         0.0          113            5            7   \n",
              "40      8658         84.0       101.0          138            5            6   \n",
              "959     2572         24.0         0.0           44            5            7   \n",
              "75      1596         21.0         0.0          101            5            4   \n",
              "1389    6000         60.0         0.0            0            6            6   \n",
              "\n",
              "      TotalBsmtSF  YearBuilt  YearRemodAdd  \n",
              "618          1822       2007          2007  \n",
              "870           894       1962          1962  \n",
              "92            876       1921          2006  \n",
              "817          1568       2002          2002  \n",
              "302          1541       2001          2002  \n",
              "1454         1221       2004          2005  \n",
              "40           1088       1965          1965  \n",
              "959           696       1999          1999  \n",
              "75            462       1973          1973  \n",
              "1389          735       1941          1950  \n",
              "\n",
              "[10 rows x 21 columns]"
            ]
          },
          "execution_count": 20,
          "metadata": {},
          "output_type": "execute_result"
        }
      ],
      "source": [
        "X_train.head(10)"
      ]
    },
    {
      "cell_type": "markdown",
      "metadata": {},
      "source": [
        "## Run PipelineDataCleaningAndFeatureEngineering"
      ]
    },
    {
      "cell_type": "code",
      "execution_count": 21,
      "metadata": {},
      "outputs": [
        {
          "ename": "TypeError",
          "evalue": "PipelineDataCleaningAndFeatureEngineering() takes 0 positional arguments but 1 was given",
          "output_type": "error",
          "traceback": [
            "\u001b[1;31m---------------------------------------------------------------------------\u001b[0m",
            "\u001b[1;31mTypeError\u001b[0m                                 Traceback (most recent call last)",
            "Cell \u001b[1;32mIn[21], line 1\u001b[0m\n\u001b[1;32m----> 1\u001b[0m pipeline_data_cleaning_feat_eng \u001b[38;5;241m=\u001b[39m \u001b[43mPipelineDataCleaningAndFeatureEngineering\u001b[49m\u001b[43m(\u001b[49m\u001b[43m)\u001b[49m\n\u001b[0;32m      2\u001b[0m X_train \u001b[38;5;241m=\u001b[39m pipeline_data_cleaning_feat_eng\u001b[38;5;241m.\u001b[39mfit_transform(X_train)\n\u001b[0;32m      3\u001b[0m X_test \u001b[38;5;241m=\u001b[39m pipeline_data_cleaning_feat_eng\u001b[38;5;241m.\u001b[39mtransform(X_test)\n",
            "Cell \u001b[1;32mIn[16], line 32\u001b[0m, in \u001b[0;36mPipelineDataCleaningAndFeatureEngineering\u001b[1;34m()\u001b[0m\n\u001b[0;32m     29\u001b[0m yeojohnson_transform \u001b[38;5;241m=\u001b[39m [\u001b[38;5;124m'\u001b[39m\u001b[38;5;124mGarageArea\u001b[39m\u001b[38;5;124m'\u001b[39m, \u001b[38;5;124m'\u001b[39m\u001b[38;5;124mLotFrontage\u001b[39m\u001b[38;5;124m'\u001b[39m]\n\u001b[0;32m     30\u001b[0m power_transform \u001b[38;5;241m=\u001b[39m [\u001b[38;5;124m'\u001b[39m\u001b[38;5;124mTotalBsmtSF\u001b[39m\u001b[38;5;124m'\u001b[39m]\n\u001b[1;32m---> 32\u001b[0m pipeline \u001b[38;5;241m=\u001b[39m \u001b[43mPipelineDataCleaningAndFeatureEngineering\u001b[49m\u001b[43m(\u001b[49m\u001b[43m[\u001b[49m\n\u001b[0;32m     33\u001b[0m \u001b[43m    \u001b[49m\u001b[43m(\u001b[49m\u001b[38;5;124;43m\"\u001b[39;49m\u001b[38;5;124;43mnum_zero\u001b[39;49m\u001b[38;5;124;43m\"\u001b[39;49m\u001b[43m,\u001b[49m\u001b[43m \u001b[49m\u001b[43mArbitraryNumberImputer\u001b[49m\u001b[43m(\u001b[49m\u001b[43marbitrary_number\u001b[49m\u001b[38;5;241;43m=\u001b[39;49m\u001b[38;5;241;43m0\u001b[39;49m\u001b[43m,\u001b[49m\u001b[43m \u001b[49m\u001b[43mvariables\u001b[49m\u001b[38;5;241;43m=\u001b[39;49m\u001b[43mnum_impute_zero\u001b[49m\u001b[43m)\u001b[49m\u001b[43m)\u001b[49m\u001b[43m,\u001b[49m\n\u001b[0;32m     34\u001b[0m \u001b[43m    \u001b[49m\u001b[43m(\u001b[49m\u001b[38;5;124;43m\"\u001b[39;49m\u001b[38;5;124;43mnum_median\u001b[39;49m\u001b[38;5;124;43m\"\u001b[39;49m\u001b[43m,\u001b[49m\u001b[43m \u001b[49m\u001b[43mMeanMedianImputer\u001b[49m\u001b[43m(\u001b[49m\u001b[43mimputation_method\u001b[49m\u001b[38;5;241;43m=\u001b[39;49m\u001b[38;5;124;43m'\u001b[39;49m\u001b[38;5;124;43mmedian\u001b[39;49m\u001b[38;5;124;43m'\u001b[39;49m\u001b[43m,\u001b[49m\u001b[43m \u001b[49m\u001b[43mvariables\u001b[49m\u001b[38;5;241;43m=\u001b[39;49m\u001b[43mnum_impute_median\u001b[49m\u001b[43m)\u001b[49m\u001b[43m)\u001b[49m\u001b[43m,\u001b[49m\n\u001b[0;32m     35\u001b[0m \u001b[43m    \u001b[49m\u001b[43m(\u001b[49m\u001b[38;5;124;43m\"\u001b[39;49m\u001b[38;5;124;43mcat_missing\u001b[39;49m\u001b[38;5;124;43m\"\u001b[39;49m\u001b[43m,\u001b[49m\u001b[43m \u001b[49m\u001b[43mCategoricalImputer\u001b[49m\u001b[43m(\u001b[49m\u001b[43mimputation_method\u001b[49m\u001b[38;5;241;43m=\u001b[39;49m\u001b[38;5;124;43m'\u001b[39;49m\u001b[38;5;124;43mmissing\u001b[39;49m\u001b[38;5;124;43m'\u001b[39;49m\u001b[43m,\u001b[49m\u001b[43m \u001b[49m\u001b[43mvariables\u001b[49m\u001b[38;5;241;43m=\u001b[39;49m\u001b[43mcat_impute_missing\u001b[49m\u001b[43m)\u001b[49m\u001b[43m)\u001b[49m\u001b[43m,\u001b[49m\n\u001b[0;32m     36\u001b[0m \n\u001b[0;32m     37\u001b[0m \u001b[43m    \u001b[49m\u001b[38;5;66;43;03m# Check that no missing values remain\u001b[39;49;00m\n\u001b[0;32m     38\u001b[0m \u001b[43m    \u001b[49m\u001b[43m(\u001b[49m\u001b[38;5;124;43m\"\u001b[39;49m\u001b[38;5;124;43mdebug_nan_check\u001b[39;49m\u001b[38;5;124;43m\"\u001b[39;49m\u001b[43m,\u001b[49m\u001b[43m \u001b[49m\u001b[43mDebugMissingChecker\u001b[49m\u001b[43m(\u001b[49m\u001b[43m)\u001b[49m\u001b[43m)\u001b[49m\u001b[43m,\u001b[49m\n\u001b[0;32m     39\u001b[0m \n\u001b[0;32m     40\u001b[0m \u001b[43m    \u001b[49m\u001b[43m(\u001b[49m\u001b[38;5;124;43m\"\u001b[39;49m\u001b[38;5;124;43mordinal_encoder\u001b[39;49m\u001b[38;5;124;43m\"\u001b[39;49m\u001b[43m,\u001b[49m\u001b[43m \u001b[49m\u001b[43mOrdinalEncoder\u001b[49m\u001b[43m(\u001b[49m\u001b[43mencoding_method\u001b[49m\u001b[38;5;241;43m=\u001b[39;49m\u001b[38;5;124;43m'\u001b[39;49m\u001b[38;5;124;43marbitrary\u001b[39;49m\u001b[38;5;124;43m'\u001b[39;49m\u001b[43m,\u001b[49m\u001b[43m \u001b[49m\u001b[43mvariables\u001b[49m\u001b[38;5;241;43m=\u001b[39;49m\u001b[43mordinal_encode\u001b[49m\u001b[43m)\u001b[49m\u001b[43m)\u001b[49m\u001b[43m,\u001b[49m\n\u001b[0;32m     41\u001b[0m \n\u001b[0;32m     42\u001b[0m \u001b[43m    \u001b[49m\u001b[43m(\u001b[49m\u001b[38;5;124;43m\"\u001b[39;49m\u001b[38;5;124;43mlog_transform\u001b[39;49m\u001b[38;5;124;43m\"\u001b[39;49m\u001b[43m,\u001b[49m\u001b[43m \u001b[49m\u001b[43mLogTransformer\u001b[49m\u001b[43m(\u001b[49m\u001b[43mvariables\u001b[49m\u001b[38;5;241;43m=\u001b[39;49m\u001b[43mlog_transform\u001b[49m\u001b[43m)\u001b[49m\u001b[43m)\u001b[49m\u001b[43m,\u001b[49m\n\u001b[0;32m     43\u001b[0m \u001b[43m    \u001b[49m\u001b[43m(\u001b[49m\u001b[38;5;124;43m\"\u001b[39;49m\u001b[38;5;124;43mlog10_transform\u001b[39;49m\u001b[38;5;124;43m\"\u001b[39;49m\u001b[43m,\u001b[49m\u001b[43m \u001b[49m\u001b[43mLogTransformer\u001b[49m\u001b[43m(\u001b[49m\u001b[43mvariables\u001b[49m\u001b[38;5;241;43m=\u001b[39;49m\u001b[43mlog10_transform\u001b[49m\u001b[43m,\u001b[49m\u001b[43m \u001b[49m\u001b[43mbase\u001b[49m\u001b[38;5;241;43m=\u001b[39;49m\u001b[38;5;124;43m'\u001b[39;49m\u001b[38;5;124;43m10\u001b[39;49m\u001b[38;5;124;43m'\u001b[39;49m\u001b[43m)\u001b[49m\u001b[43m)\u001b[49m\u001b[43m,\u001b[49m\n\u001b[0;32m     44\u001b[0m \u001b[43m    \u001b[49m\u001b[43m(\u001b[49m\u001b[38;5;124;43m\"\u001b[39;49m\u001b[38;5;124;43myeojohnson\u001b[39;49m\u001b[38;5;124;43m\"\u001b[39;49m\u001b[43m,\u001b[49m\u001b[43m \u001b[49m\u001b[43mYeoJohnsonTransformer\u001b[49m\u001b[43m(\u001b[49m\u001b[43mvariables\u001b[49m\u001b[38;5;241;43m=\u001b[39;49m\u001b[43myeojohnson_transform\u001b[49m\u001b[43m)\u001b[49m\u001b[43m)\u001b[49m\u001b[43m,\u001b[49m\n\u001b[0;32m     45\u001b[0m \u001b[43m    \u001b[49m\u001b[43m(\u001b[49m\u001b[38;5;124;43m\"\u001b[39;49m\u001b[38;5;124;43mpower_transform\u001b[39;49m\u001b[38;5;124;43m\"\u001b[39;49m\u001b[43m,\u001b[49m\u001b[43m \u001b[49m\u001b[43mPowerTransformer\u001b[49m\u001b[43m(\u001b[49m\u001b[43mvariables\u001b[49m\u001b[38;5;241;43m=\u001b[39;49m\u001b[43mpower_transform\u001b[49m\u001b[43m)\u001b[49m\u001b[43m)\u001b[49m\u001b[43m,\u001b[49m\n\u001b[0;32m     46\u001b[0m \n\u001b[0;32m     47\u001b[0m \u001b[43m    \u001b[49m\u001b[43m(\u001b[49m\u001b[38;5;124;43m\"\u001b[39;49m\u001b[38;5;124;43mcorrelation_filter\u001b[39;49m\u001b[38;5;124;43m\"\u001b[39;49m\u001b[43m,\u001b[49m\u001b[43m \u001b[49m\u001b[43mSmartCorrelatedSelection\u001b[49m\u001b[43m(\u001b[49m\n\u001b[0;32m     48\u001b[0m \u001b[43m        \u001b[49m\u001b[43mmethod\u001b[49m\u001b[38;5;241;43m=\u001b[39;49m\u001b[38;5;124;43m'\u001b[39;49m\u001b[38;5;124;43mspearman\u001b[39;49m\u001b[38;5;124;43m'\u001b[39;49m\u001b[43m,\u001b[49m\n\u001b[0;32m     49\u001b[0m \u001b[43m        \u001b[49m\u001b[43mthreshold\u001b[49m\u001b[38;5;241;43m=\u001b[39;49m\u001b[38;5;241;43m0.6\u001b[39;49m\u001b[43m,\u001b[49m\n\u001b[0;32m     50\u001b[0m \u001b[43m        \u001b[49m\u001b[43mselection_method\u001b[49m\u001b[38;5;241;43m=\u001b[39;49m\u001b[38;5;124;43m'\u001b[39;49m\u001b[38;5;124;43mvariance\u001b[39;49m\u001b[38;5;124;43m'\u001b[39;49m\u001b[43m)\u001b[49m\u001b[43m)\u001b[49m\u001b[43m,\u001b[49m\n\u001b[0;32m     51\u001b[0m \u001b[43m\u001b[49m\u001b[43m]\u001b[49m\u001b[43m)\u001b[49m\n\u001b[0;32m     53\u001b[0m \u001b[38;5;28;01mreturn\u001b[39;00m pipeline\n",
            "\u001b[1;31mTypeError\u001b[0m: PipelineDataCleaningAndFeatureEngineering() takes 0 positional arguments but 1 was given"
          ]
        }
      ],
      "source": [
        "pipeline_data_cleaning_feat_eng = PipelineDataCleaningAndFeatureEngineering()\n",
        "X_train = pipeline_data_cleaning_feat_eng.fit_transform(X_train)\n",
        "X_test = pipeline_data_cleaning_feat_eng.transform(X_test)\n",
        "print(X_train.shape, y_train.shape, X_test.shape, y_test.shape)"
      ]
    },
    {
      "cell_type": "code",
      "execution_count": null,
      "metadata": {},
      "outputs": [],
      "source": [
        "pipeline_data_cleaning_feat_eng = PipelineDataCleaningAndFeatureEngineering()\n",
        "X_train = pipeline_data_cleaning_feat_eng.fit_transform(X_train)\n",
        "X_test = pipeline_data_cleaning_feat_eng.transform(X_test)\n",
        "print(X_train.shape, y_train.shape, X_test.shape, y_test.shape)"
      ]
    },
    {
      "cell_type": "markdown",
      "metadata": {},
      "source": [
        "## Grid Search CV - Sklearn"
      ]
    },
    {
      "cell_type": "markdown",
      "metadata": {},
      "source": [
        "### Use default hyperparameters to find most suitable algorithm"
      ]
    },
    {
      "cell_type": "code",
      "execution_count": null,
      "metadata": {},
      "outputs": [],
      "source": [
        "models_quick_search = {\n",
        "    'LinearRegression': LinearRegression(),\n",
        "    \"DecisionTreeRegressor\": DecisionTreeRegressor(random_state=0),\n",
        "    \"RandomForestRegressor\": RandomForestRegressor(random_state=0),\n",
        "    \"ExtraTreesRegressor\": ExtraTreesRegressor(random_state=0),\n",
        "    \"AdaBoostRegressor\": AdaBoostRegressor(random_state=0),\n",
        "    \"GradientBoostingRegressor\": GradientBoostingRegressor(random_state=0),\n",
        "    \"XGBRegressor\": XGBRegressor(random_state=0),\n",
        "}\n",
        "\n",
        "params_quick_search = {\n",
        "    'LinearRegression': {},\n",
        "    \"DecisionTreeRegressor\": {},\n",
        "    \"RandomForestRegressor\": {},\n",
        "    \"ExtraTreesRegressor\": {},\n",
        "    \"AdaBoostRegressor\": {},\n",
        "    \"GradientBoostingRegressor\": {},\n",
        "    \"XGBRegressor\": {},\n",
        "}"
      ]
    },
    {
      "cell_type": "markdown",
      "metadata": {},
      "source": [
        "Do a hyperparameter optimisation search using default hyperparameters"
      ]
    },
    {
      "cell_type": "code",
      "execution_count": null,
      "metadata": {},
      "outputs": [],
      "source": [
        "search = HyperparameterOptimizationSearch(models=models_quick_search, params=params_quick_search)\n",
        "search.fit(X_train, y_train, scoring='r2', n_jobs=-1, cv=5)"
      ]
    },
    {
      "cell_type": "markdown",
      "metadata": {},
      "source": [
        "Check results"
      ]
    },
    {
      "cell_type": "code",
      "execution_count": null,
      "metadata": {},
      "outputs": [],
      "source": [
        "grid_search_summary, grid_search_pipelines = search.score_summary(sort_by='mean_score')\n",
        "grid_search_summary"
      ]
    }
  ],
  "metadata": {
    "accelerator": "GPU",
    "colab": {
      "name": "Data Practitioner Jupyter Notebook.ipynb",
      "provenance": [],
      "toc_visible": true
    },
    "kernelspec": {
      "display_name": ".venv",
      "language": "python",
      "name": "python3"
    },
    "language_info": {
      "codemirror_mode": {
        "name": "ipython",
        "version": 3
      },
      "file_extension": ".py",
      "mimetype": "text/x-python",
      "name": "python",
      "nbconvert_exporter": "python",
      "pygments_lexer": "ipython3",
      "version": "3.12.8"
    },
    "orig_nbformat": 2
  },
  "nbformat": 4,
  "nbformat_minor": 2
}
