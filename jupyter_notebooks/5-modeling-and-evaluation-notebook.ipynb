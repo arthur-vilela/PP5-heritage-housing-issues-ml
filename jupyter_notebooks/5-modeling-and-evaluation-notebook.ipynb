{
  "cells": [
    {
      "cell_type": "markdown",
      "metadata": {
        "id": "0aStgWSO0E0E"
      },
      "source": [
        "# **Modeling and Evaluation**"
      ]
    },
    {
      "cell_type": "markdown",
      "metadata": {
        "id": "1eLEkw5O0ECa"
      },
      "source": [
        "## Objectives\n",
        "\n",
        "This notebook focuses on training, optimizing, and evaluating a regression model that predicts the **sale price of houses** in Ames, Iowa. It is the core modeling step for **Business Requirement 2**, where the client wants to estimate property values based on known house attributes.\n",
        "\n",
        "Key goals include:\n",
        "- Selecting a subset of features that most strongly predict sale price\n",
        "- Trying multiple regression models and choosing the most effective\n",
        "- Evaluating the model using R², MAE, RMSE, and visualization\n",
        "- Saving the model pipeline for deployment in the Streamlit app\n",
        "\n",
        "## Inputs\n",
        "\n",
        "- outputs\\datasets\\cleaned\\TrainSetCleaned.csv\n",
        "- outputs\\datasets\\cleaned\\TestSetCleaned.csv\n",
        "\n",
        "## Outputs\n",
        "\n",
        "- `X_train.csv` and `X_test.csv`: Train/test sets with selected features\n",
        "- `y_train.csv` and `y_test.csv`: Corresponding targets (SalePrice)\n",
        "- Fitted regression pipeline (`best_regressor_pipeline.pkl`)\n",
        "- Feature importance plot (`feature_importance.png`)\n",
        "- Evaluation metrics and model summary\n"
      ]
    },
    {
      "cell_type": "markdown",
      "metadata": {
        "id": "9uWZXH9LwoQg"
      },
      "source": [
        "---"
      ]
    },
    {
      "cell_type": "markdown",
      "metadata": {
        "id": "cqP-UeN-z3i2"
      },
      "source": [
        "# Change working directory"
      ]
    },
    {
      "cell_type": "markdown",
      "metadata": {},
      "source": [
        "* We are assuming you will store the notebooks in a subfolder, therefore when running the notebook in the editor, you will need to change the working directory"
      ]
    },
    {
      "cell_type": "markdown",
      "metadata": {
        "id": "aOGIGS-uz3i2"
      },
      "source": [
        "We need to change the working directory from its current folder to its parent folder\n",
        "* We access the current directory with `os.getcwd()`"
      ]
    },
    {
      "cell_type": "code",
      "execution_count": 1,
      "metadata": {
        "id": "wZfF_j-Bz3i4",
        "outputId": "66943449-1436-4c3d-85c7-b85f9f78349b"
      },
      "outputs": [
        {
          "data": {
            "text/plain": [
              "'c:\\\\Users\\\\Arthur\\\\OneDrive\\\\Documentos\\\\Code Institute\\\\PP5\\\\PP5-heritage-housing-issues-ml\\\\jupyter_notebooks'"
            ]
          },
          "execution_count": 1,
          "metadata": {},
          "output_type": "execute_result"
        }
      ],
      "source": [
        "import os\n",
        "current_dir = os.getcwd()\n",
        "current_dir"
      ]
    },
    {
      "cell_type": "markdown",
      "metadata": {
        "id": "9MWW8E7lz3i7"
      },
      "source": [
        "We want to make the parent of the current directory the new current directory\n",
        "* `os.path.dirname()` gets the parent directory\n",
        "* `os.chir()` defines the new current directory"
      ]
    },
    {
      "cell_type": "code",
      "execution_count": 2,
      "metadata": {
        "id": "TwHsQRWjz3i9",
        "outputId": "86849db3-cd2f-4cc5-ebb8-2d0caafa1a2c"
      },
      "outputs": [
        {
          "name": "stdout",
          "output_type": "stream",
          "text": [
            "You set a new current directory\n"
          ]
        }
      ],
      "source": [
        "os.chdir(os.path.dirname(current_dir))\n",
        "print(\"You set a new current directory\")"
      ]
    },
    {
      "cell_type": "markdown",
      "metadata": {
        "id": "M_xPk_Ijz3i-"
      },
      "source": [
        "Confirm the new current directory"
      ]
    },
    {
      "cell_type": "code",
      "execution_count": 3,
      "metadata": {
        "id": "vz3S-_kjz3jA",
        "outputId": "00b79ae4-75d0-4a96-d193-ac9ef9847ea2"
      },
      "outputs": [
        {
          "name": "stdout",
          "output_type": "stream",
          "text": [
            "New working directory set to: c:\\Users\\Arthur\\OneDrive\\Documentos\\Code Institute\\PP5\\PP5-heritage-housing-issues-ml\n"
          ]
        }
      ],
      "source": [
        "print(\"New working directory set to:\", os.getcwd())"
      ]
    },
    {
      "cell_type": "markdown",
      "metadata": {},
      "source": [
        "---"
      ]
    },
    {
      "cell_type": "markdown",
      "metadata": {
        "id": "-mavJ8DibrcQ"
      },
      "source": [
        "# Load Data"
      ]
    },
    {
      "cell_type": "code",
      "execution_count": 4,
      "metadata": {},
      "outputs": [
        {
          "name": "stdout",
          "output_type": "stream",
          "text": [
            "(1460, 22)\n"
          ]
        },
        {
          "data": {
            "application/vnd.microsoft.datawrangler.viewer.v0+json": {
              "columns": [
                {
                  "name": "index",
                  "rawType": "int64",
                  "type": "integer"
                },
                {
                  "name": "1stFlrSF",
                  "rawType": "int64",
                  "type": "integer"
                },
                {
                  "name": "2ndFlrSF",
                  "rawType": "float64",
                  "type": "float"
                },
                {
                  "name": "BedroomAbvGr",
                  "rawType": "float64",
                  "type": "float"
                },
                {
                  "name": "BsmtExposure",
                  "rawType": "object",
                  "type": "string"
                },
                {
                  "name": "BsmtFinSF1",
                  "rawType": "int64",
                  "type": "integer"
                },
                {
                  "name": "BsmtFinType1",
                  "rawType": "object",
                  "type": "string"
                },
                {
                  "name": "BsmtUnfSF",
                  "rawType": "int64",
                  "type": "integer"
                },
                {
                  "name": "GarageArea",
                  "rawType": "int64",
                  "type": "integer"
                },
                {
                  "name": "GarageFinish",
                  "rawType": "object",
                  "type": "string"
                },
                {
                  "name": "GarageYrBlt",
                  "rawType": "float64",
                  "type": "float"
                },
                {
                  "name": "GrLivArea",
                  "rawType": "int64",
                  "type": "integer"
                },
                {
                  "name": "KitchenQual",
                  "rawType": "object",
                  "type": "string"
                },
                {
                  "name": "LotArea",
                  "rawType": "int64",
                  "type": "integer"
                },
                {
                  "name": "LotFrontage",
                  "rawType": "float64",
                  "type": "float"
                },
                {
                  "name": "MasVnrArea",
                  "rawType": "float64",
                  "type": "float"
                },
                {
                  "name": "OpenPorchSF",
                  "rawType": "int64",
                  "type": "integer"
                },
                {
                  "name": "OverallCond",
                  "rawType": "int64",
                  "type": "integer"
                },
                {
                  "name": "OverallQual",
                  "rawType": "int64",
                  "type": "integer"
                },
                {
                  "name": "TotalBsmtSF",
                  "rawType": "int64",
                  "type": "integer"
                },
                {
                  "name": "YearBuilt",
                  "rawType": "int64",
                  "type": "integer"
                },
                {
                  "name": "YearRemodAdd",
                  "rawType": "int64",
                  "type": "integer"
                },
                {
                  "name": "SalePrice",
                  "rawType": "int64",
                  "type": "integer"
                }
              ],
              "conversionMethod": "pd.DataFrame",
              "ref": "3ff67996-7ea5-4ff1-9afa-e01029923984",
              "rows": [
                [
                  "0",
                  "856",
                  "854.0",
                  "3.0",
                  "No",
                  "706",
                  "GLQ",
                  "150",
                  "548",
                  "RFn",
                  "2003.0",
                  "1710",
                  "Gd",
                  "8450",
                  "65.0",
                  "196.0",
                  "61",
                  "5",
                  "7",
                  "856",
                  "2003",
                  "2003",
                  "208500"
                ],
                [
                  "1",
                  "1262",
                  "0.0",
                  "3.0",
                  "Gd",
                  "978",
                  "ALQ",
                  "284",
                  "460",
                  "RFn",
                  "1976.0",
                  "1262",
                  "TA",
                  "9600",
                  "80.0",
                  "0.0",
                  "0",
                  "8",
                  "6",
                  "1262",
                  "1976",
                  "1976",
                  "181500"
                ],
                [
                  "2",
                  "920",
                  "866.0",
                  "3.0",
                  "Mn",
                  "486",
                  "GLQ",
                  "434",
                  "608",
                  "RFn",
                  "2001.0",
                  "1786",
                  "Gd",
                  "11250",
                  "68.0",
                  "162.0",
                  "42",
                  "5",
                  "7",
                  "920",
                  "2001",
                  "2002",
                  "223500"
                ],
                [
                  "3",
                  "961",
                  null,
                  null,
                  "No",
                  "216",
                  "ALQ",
                  "540",
                  "642",
                  "Unf",
                  "1998.0",
                  "1717",
                  "Gd",
                  "9550",
                  "60.0",
                  "0.0",
                  "35",
                  "5",
                  "7",
                  "756",
                  "1915",
                  "1970",
                  "140000"
                ],
                [
                  "4",
                  "1145",
                  null,
                  "4.0",
                  "Av",
                  "655",
                  "GLQ",
                  "490",
                  "836",
                  "RFn",
                  "2000.0",
                  "2198",
                  "Gd",
                  "14260",
                  "84.0",
                  "350.0",
                  "84",
                  "5",
                  "8",
                  "1145",
                  "2000",
                  "2000",
                  "250000"
                ]
              ],
              "shape": {
                "columns": 22,
                "rows": 5
              }
            },
            "text/html": [
              "<div>\n",
              "<style scoped>\n",
              "    .dataframe tbody tr th:only-of-type {\n",
              "        vertical-align: middle;\n",
              "    }\n",
              "\n",
              "    .dataframe tbody tr th {\n",
              "        vertical-align: top;\n",
              "    }\n",
              "\n",
              "    .dataframe thead th {\n",
              "        text-align: right;\n",
              "    }\n",
              "</style>\n",
              "<table border=\"1\" class=\"dataframe\">\n",
              "  <thead>\n",
              "    <tr style=\"text-align: right;\">\n",
              "      <th></th>\n",
              "      <th>1stFlrSF</th>\n",
              "      <th>2ndFlrSF</th>\n",
              "      <th>BedroomAbvGr</th>\n",
              "      <th>BsmtExposure</th>\n",
              "      <th>BsmtFinSF1</th>\n",
              "      <th>BsmtFinType1</th>\n",
              "      <th>BsmtUnfSF</th>\n",
              "      <th>GarageArea</th>\n",
              "      <th>GarageFinish</th>\n",
              "      <th>GarageYrBlt</th>\n",
              "      <th>...</th>\n",
              "      <th>LotArea</th>\n",
              "      <th>LotFrontage</th>\n",
              "      <th>MasVnrArea</th>\n",
              "      <th>OpenPorchSF</th>\n",
              "      <th>OverallCond</th>\n",
              "      <th>OverallQual</th>\n",
              "      <th>TotalBsmtSF</th>\n",
              "      <th>YearBuilt</th>\n",
              "      <th>YearRemodAdd</th>\n",
              "      <th>SalePrice</th>\n",
              "    </tr>\n",
              "  </thead>\n",
              "  <tbody>\n",
              "    <tr>\n",
              "      <th>0</th>\n",
              "      <td>856</td>\n",
              "      <td>854.0</td>\n",
              "      <td>3.0</td>\n",
              "      <td>No</td>\n",
              "      <td>706</td>\n",
              "      <td>GLQ</td>\n",
              "      <td>150</td>\n",
              "      <td>548</td>\n",
              "      <td>RFn</td>\n",
              "      <td>2003.0</td>\n",
              "      <td>...</td>\n",
              "      <td>8450</td>\n",
              "      <td>65.0</td>\n",
              "      <td>196.0</td>\n",
              "      <td>61</td>\n",
              "      <td>5</td>\n",
              "      <td>7</td>\n",
              "      <td>856</td>\n",
              "      <td>2003</td>\n",
              "      <td>2003</td>\n",
              "      <td>208500</td>\n",
              "    </tr>\n",
              "    <tr>\n",
              "      <th>1</th>\n",
              "      <td>1262</td>\n",
              "      <td>0.0</td>\n",
              "      <td>3.0</td>\n",
              "      <td>Gd</td>\n",
              "      <td>978</td>\n",
              "      <td>ALQ</td>\n",
              "      <td>284</td>\n",
              "      <td>460</td>\n",
              "      <td>RFn</td>\n",
              "      <td>1976.0</td>\n",
              "      <td>...</td>\n",
              "      <td>9600</td>\n",
              "      <td>80.0</td>\n",
              "      <td>0.0</td>\n",
              "      <td>0</td>\n",
              "      <td>8</td>\n",
              "      <td>6</td>\n",
              "      <td>1262</td>\n",
              "      <td>1976</td>\n",
              "      <td>1976</td>\n",
              "      <td>181500</td>\n",
              "    </tr>\n",
              "    <tr>\n",
              "      <th>2</th>\n",
              "      <td>920</td>\n",
              "      <td>866.0</td>\n",
              "      <td>3.0</td>\n",
              "      <td>Mn</td>\n",
              "      <td>486</td>\n",
              "      <td>GLQ</td>\n",
              "      <td>434</td>\n",
              "      <td>608</td>\n",
              "      <td>RFn</td>\n",
              "      <td>2001.0</td>\n",
              "      <td>...</td>\n",
              "      <td>11250</td>\n",
              "      <td>68.0</td>\n",
              "      <td>162.0</td>\n",
              "      <td>42</td>\n",
              "      <td>5</td>\n",
              "      <td>7</td>\n",
              "      <td>920</td>\n",
              "      <td>2001</td>\n",
              "      <td>2002</td>\n",
              "      <td>223500</td>\n",
              "    </tr>\n",
              "    <tr>\n",
              "      <th>3</th>\n",
              "      <td>961</td>\n",
              "      <td>NaN</td>\n",
              "      <td>NaN</td>\n",
              "      <td>No</td>\n",
              "      <td>216</td>\n",
              "      <td>ALQ</td>\n",
              "      <td>540</td>\n",
              "      <td>642</td>\n",
              "      <td>Unf</td>\n",
              "      <td>1998.0</td>\n",
              "      <td>...</td>\n",
              "      <td>9550</td>\n",
              "      <td>60.0</td>\n",
              "      <td>0.0</td>\n",
              "      <td>35</td>\n",
              "      <td>5</td>\n",
              "      <td>7</td>\n",
              "      <td>756</td>\n",
              "      <td>1915</td>\n",
              "      <td>1970</td>\n",
              "      <td>140000</td>\n",
              "    </tr>\n",
              "    <tr>\n",
              "      <th>4</th>\n",
              "      <td>1145</td>\n",
              "      <td>NaN</td>\n",
              "      <td>4.0</td>\n",
              "      <td>Av</td>\n",
              "      <td>655</td>\n",
              "      <td>GLQ</td>\n",
              "      <td>490</td>\n",
              "      <td>836</td>\n",
              "      <td>RFn</td>\n",
              "      <td>2000.0</td>\n",
              "      <td>...</td>\n",
              "      <td>14260</td>\n",
              "      <td>84.0</td>\n",
              "      <td>350.0</td>\n",
              "      <td>84</td>\n",
              "      <td>5</td>\n",
              "      <td>8</td>\n",
              "      <td>1145</td>\n",
              "      <td>2000</td>\n",
              "      <td>2000</td>\n",
              "      <td>250000</td>\n",
              "    </tr>\n",
              "  </tbody>\n",
              "</table>\n",
              "<p>5 rows × 22 columns</p>\n",
              "</div>"
            ],
            "text/plain": [
              "   1stFlrSF  2ndFlrSF  BedroomAbvGr BsmtExposure  BsmtFinSF1 BsmtFinType1  \\\n",
              "0       856     854.0           3.0           No         706          GLQ   \n",
              "1      1262       0.0           3.0           Gd         978          ALQ   \n",
              "2       920     866.0           3.0           Mn         486          GLQ   \n",
              "3       961       NaN           NaN           No         216          ALQ   \n",
              "4      1145       NaN           4.0           Av         655          GLQ   \n",
              "\n",
              "   BsmtUnfSF  GarageArea GarageFinish  GarageYrBlt  ...  LotArea LotFrontage  \\\n",
              "0        150         548          RFn       2003.0  ...     8450        65.0   \n",
              "1        284         460          RFn       1976.0  ...     9600        80.0   \n",
              "2        434         608          RFn       2001.0  ...    11250        68.0   \n",
              "3        540         642          Unf       1998.0  ...     9550        60.0   \n",
              "4        490         836          RFn       2000.0  ...    14260        84.0   \n",
              "\n",
              "   MasVnrArea  OpenPorchSF  OverallCond  OverallQual  TotalBsmtSF  YearBuilt  \\\n",
              "0       196.0           61            5            7          856       2003   \n",
              "1         0.0            0            8            6         1262       1976   \n",
              "2       162.0           42            5            7          920       2001   \n",
              "3         0.0           35            5            7          756       1915   \n",
              "4       350.0           84            5            8         1145       2000   \n",
              "\n",
              "   YearRemodAdd  SalePrice  \n",
              "0          2003     208500  \n",
              "1          1976     181500  \n",
              "2          2002     223500  \n",
              "3          1970     140000  \n",
              "4          2000     250000  \n",
              "\n",
              "[5 rows x 22 columns]"
            ]
          },
          "execution_count": 4,
          "metadata": {},
          "output_type": "execute_result"
        }
      ],
      "source": [
        "import numpy as np\n",
        "import pandas as pd\n",
        "df = (pd.read_csv(\"outputs/datasets/collection/house_prices_records.csv\")\n",
        "      .drop(labels=['EnclosedPorch', 'WoodDeckSF'], axis=1)\n",
        "  )\n",
        "\n",
        "print(df.shape)\n",
        "df.head(5)"
      ]
    },
    {
      "cell_type": "markdown",
      "metadata": {
        "id": "ZY3l0-AxO93d"
      },
      "source": [
        "---"
      ]
    },
    {
      "cell_type": "markdown",
      "metadata": {},
      "source": [
        "# ML Pipeline with all data"
      ]
    },
    {
      "cell_type": "markdown",
      "metadata": {},
      "source": [
        "# Create ML Pipeline"
      ]
    },
    {
      "cell_type": "markdown",
      "metadata": {},
      "source": [
        "We define a flexible and modular ML pipeline using `sklearn.pipeline`. This pipeline includes encoding, transformations, multicollinearity reduction, scaling, feature selection, and the model itself.\n",
        "\n",
        "All transformation steps are based on decisions made in the Feature Engineering notebook, including:\n",
        "- Ordinal encoding for 4 categorical features\n",
        "- Log, power, and Yeo-Johnson transformations for skewed numeric features\n",
        "- SmartCorrelatedSelection with threshold = 0.6"
      ]
    },
    {
      "cell_type": "code",
      "execution_count": 5,
      "metadata": {},
      "outputs": [],
      "source": [
        "from sklearn.pipeline import Pipeline\n",
        "\n",
        "# Feature Engineering\n",
        "from feature_engine.imputation import ArbitraryNumberImputer, MeanMedianImputer, CategoricalImputer\n",
        "from feature_engine.encoding import OrdinalEncoder\n",
        "from feature_engine.transformation import LogTransformer, PowerTransformer, YeoJohnsonTransformer\n",
        "from feature_engine.selection import SmartCorrelatedSelection\n",
        "\n",
        "# Feat Scaling\n",
        "from sklearn.preprocessing import StandardScaler\n",
        "\n",
        "# Feat Selection\n",
        "from sklearn.feature_selection import SelectFromModel\n",
        "\n",
        "# ML algorithms\n",
        "from sklearn.linear_model import LogisticRegression\n",
        "from sklearn.tree import DecisionTreeClassifier\n",
        "from sklearn.ensemble import RandomForestClassifier\n",
        "from sklearn.ensemble import GradientBoostingClassifier\n",
        "from sklearn.ensemble import ExtraTreesClassifier\n",
        "from sklearn.ensemble import AdaBoostClassifier\n",
        "from xgboost import XGBClassifier\n",
        "\n",
        "def PipelineOptimization(model):\n",
        "    num_impute_zero = ['2ndFlrSF', 'MasVnrArea', 'GarageYrBlt']\n",
        "    num_impute_median = ['BedroomAbvGr', 'LotFrontage']\n",
        "    cat_impute_missing = ['BsmtExposure', 'BsmtFinType1', 'GarageFinish']\n",
        "    ordinal_encode = ['BsmtExposure', 'BsmtFinType1', 'GarageFinish', 'KitchenQual']\n",
        "\n",
        "    yeojohnson_transform = ['BedroomAbvGr', 'GrLivArea', 'LotFrontage', 'LotArea', 'OverallCond', 'TotalBsmtSF', '1stFlrSF']\n",
        "    power_transform = ['BsmtFinSF1', 'BsmtUnfSF', 'MasVnrArea', 'OpenPorchSF']\n",
        "\n",
        "    pipeline = Pipeline([\n",
        "        (\"num_zero\", ArbitraryNumberImputer(arbitrary_number=0, variables=num_impute_zero)),\n",
        "        (\"num_median\", MeanMedianImputer(imputation_method='median', variables=num_impute_median)),\n",
        "        (\"cat_missing\", CategoricalImputer(imputation_method='missing', variables=cat_impute_missing)),\n",
        "\n",
        "        (\"ordinal_encoder\", OrdinalEncoder(encoding_method='arbitrary', variables=ordinal_encode)),\n",
        "\n",
        "        (\"yeojohnson\", YeoJohnsonTransformer(variables=yeojohnson_transform)),\n",
        "        (\"power_transform\", PowerTransformer(variables=power_transform)),\n",
        "\n",
        "        (\"correlation_filter\", SmartCorrelatedSelection(\n",
        "            method='spearman',\n",
        "            threshold=0.7,\n",
        "            selection_method='variance')),\n",
        "        \n",
        "        (\"feat_scaling\", StandardScaler()),\n",
        "\n",
        "        (\"feat_selection\",  SelectFromModel(model)),\n",
        "\n",
        "        (\"model\", model),\n",
        "    ])\n",
        "\n",
        "    return pipeline\n"
      ]
    },
    {
      "cell_type": "markdown",
      "metadata": {},
      "source": [
        "Custom Class for hyperparameter optimisation"
      ]
    },
    {
      "cell_type": "code",
      "execution_count": 6,
      "metadata": {},
      "outputs": [],
      "source": [
        "from sklearn.model_selection import GridSearchCV\n",
        "\n",
        "\n",
        "class HyperparameterOptimizationSearch:\n",
        "\n",
        "    def __init__(self, models, params):\n",
        "        self.models = models\n",
        "        self.params = params\n",
        "        self.keys = models.keys()\n",
        "        self.grid_searches = {}\n",
        "\n",
        "    def fit(self, X, y, cv, n_jobs, verbose=1, scoring=None, refit=False):\n",
        "        for key in self.keys:\n",
        "            print(f\"\\nRunning GridSearchCV for {key} \\n\")\n",
        "            model = PipelineOptimization(self.models[key])\n",
        "\n",
        "            params = self.params[key]\n",
        "            gs = GridSearchCV(model, params, cv=cv, n_jobs=n_jobs,\n",
        "                              verbose=verbose, scoring=scoring)\n",
        "            gs.fit(X, y)\n",
        "            self.grid_searches[key] = gs\n",
        "\n",
        "    def score_summary(self, sort_by='mean_score'):\n",
        "        def row(key, scores, params):\n",
        "            d = {\n",
        "                'estimator': key,\n",
        "                'min_score': min(scores),\n",
        "                'max_score': max(scores),\n",
        "                'mean_score': np.mean(scores),\n",
        "                'std_score': np.std(scores),\n",
        "            }\n",
        "            return pd.Series({**params, **d})\n",
        "\n",
        "        rows = []\n",
        "        for k in self.grid_searches:\n",
        "            params = self.grid_searches[k].cv_results_['params']\n",
        "            scores = []\n",
        "            for i in range(self.grid_searches[k].cv):\n",
        "                key = \"split{}_test_score\".format(i)\n",
        "                r = self.grid_searches[k].cv_results_[key]\n",
        "                scores.append(r.reshape(len(params), 1))\n",
        "\n",
        "            all_scores = np.hstack(scores)\n",
        "            for p, s in zip(params, all_scores):\n",
        "                rows.append((row(k, s, p)))\n",
        "\n",
        "        df = pd.concat(rows, axis=1).T.sort_values([sort_by], ascending=False)\n",
        "\n",
        "        columns = ['estimator', 'min_score',\n",
        "                   'mean_score', 'max_score', 'std_score']\n",
        "        columns = columns + [c for c in df.columns if c not in columns]\n",
        "\n",
        "        return df[columns], self.grid_searches\n"
      ]
    },
    {
      "cell_type": "markdown",
      "metadata": {},
      "source": [
        "## Split Train Test Set"
      ]
    },
    {
      "cell_type": "code",
      "execution_count": 7,
      "metadata": {},
      "outputs": [
        {
          "name": "stdout",
          "output_type": "stream",
          "text": [
            "* Train set: (1168, 21) (1168,) \n",
            "* Test set: (292, 21) (292,)\n"
          ]
        }
      ],
      "source": [
        "from sklearn.model_selection import train_test_split\n",
        "X_train, X_test, y_train, y_test = train_test_split(\n",
        "    df.drop(['SalePrice'], axis=1),\n",
        "    df['SalePrice'],\n",
        "    test_size=0.2,\n",
        "    random_state=0\n",
        ")\n",
        "\n",
        "print(\"* Train set:\", X_train.shape, y_train.shape,\n",
        "      \"\\n* Test set:\",  X_test.shape, y_test.shape)\n"
      ]
    },
    {
      "cell_type": "code",
      "execution_count": 8,
      "metadata": {},
      "outputs": [
        {
          "data": {
            "application/vnd.microsoft.datawrangler.viewer.v0+json": {
              "columns": [
                {
                  "name": "index",
                  "rawType": "int64",
                  "type": "integer"
                },
                {
                  "name": "1stFlrSF",
                  "rawType": "int64",
                  "type": "integer"
                },
                {
                  "name": "2ndFlrSF",
                  "rawType": "float64",
                  "type": "float"
                },
                {
                  "name": "BedroomAbvGr",
                  "rawType": "float64",
                  "type": "float"
                },
                {
                  "name": "BsmtExposure",
                  "rawType": "object",
                  "type": "string"
                },
                {
                  "name": "BsmtFinSF1",
                  "rawType": "int64",
                  "type": "integer"
                },
                {
                  "name": "BsmtFinType1",
                  "rawType": "object",
                  "type": "unknown"
                },
                {
                  "name": "BsmtUnfSF",
                  "rawType": "int64",
                  "type": "integer"
                },
                {
                  "name": "GarageArea",
                  "rawType": "int64",
                  "type": "integer"
                },
                {
                  "name": "GarageFinish",
                  "rawType": "object",
                  "type": "unknown"
                },
                {
                  "name": "GarageYrBlt",
                  "rawType": "float64",
                  "type": "float"
                },
                {
                  "name": "GrLivArea",
                  "rawType": "int64",
                  "type": "integer"
                },
                {
                  "name": "KitchenQual",
                  "rawType": "object",
                  "type": "string"
                },
                {
                  "name": "LotArea",
                  "rawType": "int64",
                  "type": "integer"
                },
                {
                  "name": "LotFrontage",
                  "rawType": "float64",
                  "type": "float"
                },
                {
                  "name": "MasVnrArea",
                  "rawType": "float64",
                  "type": "float"
                },
                {
                  "name": "OpenPorchSF",
                  "rawType": "int64",
                  "type": "integer"
                },
                {
                  "name": "OverallCond",
                  "rawType": "int64",
                  "type": "integer"
                },
                {
                  "name": "OverallQual",
                  "rawType": "int64",
                  "type": "integer"
                },
                {
                  "name": "TotalBsmtSF",
                  "rawType": "int64",
                  "type": "integer"
                },
                {
                  "name": "YearBuilt",
                  "rawType": "int64",
                  "type": "integer"
                },
                {
                  "name": "YearRemodAdd",
                  "rawType": "int64",
                  "type": "integer"
                }
              ],
              "conversionMethod": "pd.DataFrame",
              "ref": "2e16901b-c8f9-4a95-9224-68bf3577abd2",
              "rows": [
                [
                  "618",
                  "1828",
                  "0.0",
                  null,
                  "Av",
                  "48",
                  null,
                  "1774",
                  "774",
                  "Unf",
                  "2007.0",
                  "1828",
                  "Gd",
                  "11694",
                  "90.0",
                  "452.0",
                  "108",
                  "5",
                  "9",
                  "1822",
                  "2007",
                  "2007"
                ],
                [
                  "870",
                  "894",
                  "0.0",
                  "2.0",
                  "No",
                  "0",
                  "Unf",
                  "894",
                  "308",
                  null,
                  "1962.0",
                  "894",
                  "TA",
                  "6600",
                  "60.0",
                  "0.0",
                  "0",
                  "5",
                  "5",
                  "894",
                  "1962",
                  "1962"
                ],
                [
                  "92",
                  "964",
                  "0.0",
                  "2.0",
                  "No",
                  "713",
                  "ALQ",
                  "163",
                  "432",
                  "Unf",
                  "1921.0",
                  "964",
                  "TA",
                  "13360",
                  "80.0",
                  "0.0",
                  "0",
                  "7",
                  "5",
                  "876",
                  "1921",
                  "2006"
                ],
                [
                  "817",
                  "1689",
                  "0.0",
                  "3.0",
                  "No",
                  "1218",
                  "GLQ",
                  "350",
                  "857",
                  "RFn",
                  "2002.0",
                  "1689",
                  "Gd",
                  "13265",
                  null,
                  "148.0",
                  "59",
                  "5",
                  "8",
                  "1568",
                  "2002",
                  "2002"
                ],
                [
                  "302",
                  "1541",
                  "0.0",
                  "3.0",
                  "No",
                  "0",
                  "Unf",
                  "1541",
                  "843",
                  "RFn",
                  "2001.0",
                  "1541",
                  "Gd",
                  "13704",
                  "118.0",
                  "150.0",
                  "81",
                  "5",
                  "7",
                  "1541",
                  "2001",
                  "2002"
                ],
                [
                  "1454",
                  "1221",
                  "0.0",
                  "2.0",
                  "No",
                  "410",
                  "GLQ",
                  "811",
                  "400",
                  "RFn",
                  "2004.0",
                  "1221",
                  "Gd",
                  "7500",
                  "62.0",
                  "0.0",
                  "113",
                  "5",
                  "7",
                  "1221",
                  "2004",
                  "2005"
                ],
                [
                  "40",
                  "1324",
                  "0.0",
                  "3.0",
                  "No",
                  "643",
                  "Rec",
                  "445",
                  "440",
                  null,
                  "1965.0",
                  "1324",
                  "TA",
                  "8658",
                  "84.0",
                  "101.0",
                  "138",
                  "5",
                  "6",
                  "1088",
                  "1965",
                  "1965"
                ],
                [
                  "959",
                  "696",
                  "720.0",
                  "3.0",
                  "No",
                  "604",
                  "ALQ",
                  "92",
                  "484",
                  "Unf",
                  "1999.0",
                  "1416",
                  "Gd",
                  "2572",
                  "24.0",
                  "0.0",
                  "44",
                  "5",
                  "7",
                  "696",
                  "1999",
                  "1999"
                ],
                [
                  "75",
                  "526",
                  "462.0",
                  "2.0",
                  "Gd",
                  "462",
                  "GLQ",
                  "0",
                  "297",
                  "Unf",
                  "1973.0",
                  "988",
                  "TA",
                  "1596",
                  "21.0",
                  "0.0",
                  "101",
                  "5",
                  "4",
                  "462",
                  "1973",
                  "1973"
                ],
                [
                  "1389",
                  "869",
                  "349.0",
                  "3.0",
                  "No",
                  "375",
                  "ALQ",
                  "360",
                  "440",
                  "Unf",
                  "2003.0",
                  "1218",
                  "TA",
                  "6000",
                  "60.0",
                  "0.0",
                  "0",
                  "6",
                  "6",
                  "735",
                  "1941",
                  "1950"
                ]
              ],
              "shape": {
                "columns": 21,
                "rows": 10
              }
            },
            "text/html": [
              "<div>\n",
              "<style scoped>\n",
              "    .dataframe tbody tr th:only-of-type {\n",
              "        vertical-align: middle;\n",
              "    }\n",
              "\n",
              "    .dataframe tbody tr th {\n",
              "        vertical-align: top;\n",
              "    }\n",
              "\n",
              "    .dataframe thead th {\n",
              "        text-align: right;\n",
              "    }\n",
              "</style>\n",
              "<table border=\"1\" class=\"dataframe\">\n",
              "  <thead>\n",
              "    <tr style=\"text-align: right;\">\n",
              "      <th></th>\n",
              "      <th>1stFlrSF</th>\n",
              "      <th>2ndFlrSF</th>\n",
              "      <th>BedroomAbvGr</th>\n",
              "      <th>BsmtExposure</th>\n",
              "      <th>BsmtFinSF1</th>\n",
              "      <th>BsmtFinType1</th>\n",
              "      <th>BsmtUnfSF</th>\n",
              "      <th>GarageArea</th>\n",
              "      <th>GarageFinish</th>\n",
              "      <th>GarageYrBlt</th>\n",
              "      <th>...</th>\n",
              "      <th>KitchenQual</th>\n",
              "      <th>LotArea</th>\n",
              "      <th>LotFrontage</th>\n",
              "      <th>MasVnrArea</th>\n",
              "      <th>OpenPorchSF</th>\n",
              "      <th>OverallCond</th>\n",
              "      <th>OverallQual</th>\n",
              "      <th>TotalBsmtSF</th>\n",
              "      <th>YearBuilt</th>\n",
              "      <th>YearRemodAdd</th>\n",
              "    </tr>\n",
              "  </thead>\n",
              "  <tbody>\n",
              "    <tr>\n",
              "      <th>618</th>\n",
              "      <td>1828</td>\n",
              "      <td>0.0</td>\n",
              "      <td>NaN</td>\n",
              "      <td>Av</td>\n",
              "      <td>48</td>\n",
              "      <td>NaN</td>\n",
              "      <td>1774</td>\n",
              "      <td>774</td>\n",
              "      <td>Unf</td>\n",
              "      <td>2007.0</td>\n",
              "      <td>...</td>\n",
              "      <td>Gd</td>\n",
              "      <td>11694</td>\n",
              "      <td>90.0</td>\n",
              "      <td>452.0</td>\n",
              "      <td>108</td>\n",
              "      <td>5</td>\n",
              "      <td>9</td>\n",
              "      <td>1822</td>\n",
              "      <td>2007</td>\n",
              "      <td>2007</td>\n",
              "    </tr>\n",
              "    <tr>\n",
              "      <th>870</th>\n",
              "      <td>894</td>\n",
              "      <td>0.0</td>\n",
              "      <td>2.0</td>\n",
              "      <td>No</td>\n",
              "      <td>0</td>\n",
              "      <td>Unf</td>\n",
              "      <td>894</td>\n",
              "      <td>308</td>\n",
              "      <td>NaN</td>\n",
              "      <td>1962.0</td>\n",
              "      <td>...</td>\n",
              "      <td>TA</td>\n",
              "      <td>6600</td>\n",
              "      <td>60.0</td>\n",
              "      <td>0.0</td>\n",
              "      <td>0</td>\n",
              "      <td>5</td>\n",
              "      <td>5</td>\n",
              "      <td>894</td>\n",
              "      <td>1962</td>\n",
              "      <td>1962</td>\n",
              "    </tr>\n",
              "    <tr>\n",
              "      <th>92</th>\n",
              "      <td>964</td>\n",
              "      <td>0.0</td>\n",
              "      <td>2.0</td>\n",
              "      <td>No</td>\n",
              "      <td>713</td>\n",
              "      <td>ALQ</td>\n",
              "      <td>163</td>\n",
              "      <td>432</td>\n",
              "      <td>Unf</td>\n",
              "      <td>1921.0</td>\n",
              "      <td>...</td>\n",
              "      <td>TA</td>\n",
              "      <td>13360</td>\n",
              "      <td>80.0</td>\n",
              "      <td>0.0</td>\n",
              "      <td>0</td>\n",
              "      <td>7</td>\n",
              "      <td>5</td>\n",
              "      <td>876</td>\n",
              "      <td>1921</td>\n",
              "      <td>2006</td>\n",
              "    </tr>\n",
              "    <tr>\n",
              "      <th>817</th>\n",
              "      <td>1689</td>\n",
              "      <td>0.0</td>\n",
              "      <td>3.0</td>\n",
              "      <td>No</td>\n",
              "      <td>1218</td>\n",
              "      <td>GLQ</td>\n",
              "      <td>350</td>\n",
              "      <td>857</td>\n",
              "      <td>RFn</td>\n",
              "      <td>2002.0</td>\n",
              "      <td>...</td>\n",
              "      <td>Gd</td>\n",
              "      <td>13265</td>\n",
              "      <td>NaN</td>\n",
              "      <td>148.0</td>\n",
              "      <td>59</td>\n",
              "      <td>5</td>\n",
              "      <td>8</td>\n",
              "      <td>1568</td>\n",
              "      <td>2002</td>\n",
              "      <td>2002</td>\n",
              "    </tr>\n",
              "    <tr>\n",
              "      <th>302</th>\n",
              "      <td>1541</td>\n",
              "      <td>0.0</td>\n",
              "      <td>3.0</td>\n",
              "      <td>No</td>\n",
              "      <td>0</td>\n",
              "      <td>Unf</td>\n",
              "      <td>1541</td>\n",
              "      <td>843</td>\n",
              "      <td>RFn</td>\n",
              "      <td>2001.0</td>\n",
              "      <td>...</td>\n",
              "      <td>Gd</td>\n",
              "      <td>13704</td>\n",
              "      <td>118.0</td>\n",
              "      <td>150.0</td>\n",
              "      <td>81</td>\n",
              "      <td>5</td>\n",
              "      <td>7</td>\n",
              "      <td>1541</td>\n",
              "      <td>2001</td>\n",
              "      <td>2002</td>\n",
              "    </tr>\n",
              "    <tr>\n",
              "      <th>1454</th>\n",
              "      <td>1221</td>\n",
              "      <td>0.0</td>\n",
              "      <td>2.0</td>\n",
              "      <td>No</td>\n",
              "      <td>410</td>\n",
              "      <td>GLQ</td>\n",
              "      <td>811</td>\n",
              "      <td>400</td>\n",
              "      <td>RFn</td>\n",
              "      <td>2004.0</td>\n",
              "      <td>...</td>\n",
              "      <td>Gd</td>\n",
              "      <td>7500</td>\n",
              "      <td>62.0</td>\n",
              "      <td>0.0</td>\n",
              "      <td>113</td>\n",
              "      <td>5</td>\n",
              "      <td>7</td>\n",
              "      <td>1221</td>\n",
              "      <td>2004</td>\n",
              "      <td>2005</td>\n",
              "    </tr>\n",
              "    <tr>\n",
              "      <th>40</th>\n",
              "      <td>1324</td>\n",
              "      <td>0.0</td>\n",
              "      <td>3.0</td>\n",
              "      <td>No</td>\n",
              "      <td>643</td>\n",
              "      <td>Rec</td>\n",
              "      <td>445</td>\n",
              "      <td>440</td>\n",
              "      <td>NaN</td>\n",
              "      <td>1965.0</td>\n",
              "      <td>...</td>\n",
              "      <td>TA</td>\n",
              "      <td>8658</td>\n",
              "      <td>84.0</td>\n",
              "      <td>101.0</td>\n",
              "      <td>138</td>\n",
              "      <td>5</td>\n",
              "      <td>6</td>\n",
              "      <td>1088</td>\n",
              "      <td>1965</td>\n",
              "      <td>1965</td>\n",
              "    </tr>\n",
              "    <tr>\n",
              "      <th>959</th>\n",
              "      <td>696</td>\n",
              "      <td>720.0</td>\n",
              "      <td>3.0</td>\n",
              "      <td>No</td>\n",
              "      <td>604</td>\n",
              "      <td>ALQ</td>\n",
              "      <td>92</td>\n",
              "      <td>484</td>\n",
              "      <td>Unf</td>\n",
              "      <td>1999.0</td>\n",
              "      <td>...</td>\n",
              "      <td>Gd</td>\n",
              "      <td>2572</td>\n",
              "      <td>24.0</td>\n",
              "      <td>0.0</td>\n",
              "      <td>44</td>\n",
              "      <td>5</td>\n",
              "      <td>7</td>\n",
              "      <td>696</td>\n",
              "      <td>1999</td>\n",
              "      <td>1999</td>\n",
              "    </tr>\n",
              "    <tr>\n",
              "      <th>75</th>\n",
              "      <td>526</td>\n",
              "      <td>462.0</td>\n",
              "      <td>2.0</td>\n",
              "      <td>Gd</td>\n",
              "      <td>462</td>\n",
              "      <td>GLQ</td>\n",
              "      <td>0</td>\n",
              "      <td>297</td>\n",
              "      <td>Unf</td>\n",
              "      <td>1973.0</td>\n",
              "      <td>...</td>\n",
              "      <td>TA</td>\n",
              "      <td>1596</td>\n",
              "      <td>21.0</td>\n",
              "      <td>0.0</td>\n",
              "      <td>101</td>\n",
              "      <td>5</td>\n",
              "      <td>4</td>\n",
              "      <td>462</td>\n",
              "      <td>1973</td>\n",
              "      <td>1973</td>\n",
              "    </tr>\n",
              "    <tr>\n",
              "      <th>1389</th>\n",
              "      <td>869</td>\n",
              "      <td>349.0</td>\n",
              "      <td>3.0</td>\n",
              "      <td>No</td>\n",
              "      <td>375</td>\n",
              "      <td>ALQ</td>\n",
              "      <td>360</td>\n",
              "      <td>440</td>\n",
              "      <td>Unf</td>\n",
              "      <td>2003.0</td>\n",
              "      <td>...</td>\n",
              "      <td>TA</td>\n",
              "      <td>6000</td>\n",
              "      <td>60.0</td>\n",
              "      <td>0.0</td>\n",
              "      <td>0</td>\n",
              "      <td>6</td>\n",
              "      <td>6</td>\n",
              "      <td>735</td>\n",
              "      <td>1941</td>\n",
              "      <td>1950</td>\n",
              "    </tr>\n",
              "  </tbody>\n",
              "</table>\n",
              "<p>10 rows × 21 columns</p>\n",
              "</div>"
            ],
            "text/plain": [
              "      1stFlrSF  2ndFlrSF  BedroomAbvGr BsmtExposure  BsmtFinSF1 BsmtFinType1  \\\n",
              "618       1828       0.0           NaN           Av          48          NaN   \n",
              "870        894       0.0           2.0           No           0          Unf   \n",
              "92         964       0.0           2.0           No         713          ALQ   \n",
              "817       1689       0.0           3.0           No        1218          GLQ   \n",
              "302       1541       0.0           3.0           No           0          Unf   \n",
              "1454      1221       0.0           2.0           No         410          GLQ   \n",
              "40        1324       0.0           3.0           No         643          Rec   \n",
              "959        696     720.0           3.0           No         604          ALQ   \n",
              "75         526     462.0           2.0           Gd         462          GLQ   \n",
              "1389       869     349.0           3.0           No         375          ALQ   \n",
              "\n",
              "      BsmtUnfSF  GarageArea GarageFinish  GarageYrBlt  ...  KitchenQual  \\\n",
              "618        1774         774          Unf       2007.0  ...           Gd   \n",
              "870         894         308          NaN       1962.0  ...           TA   \n",
              "92          163         432          Unf       1921.0  ...           TA   \n",
              "817         350         857          RFn       2002.0  ...           Gd   \n",
              "302        1541         843          RFn       2001.0  ...           Gd   \n",
              "1454        811         400          RFn       2004.0  ...           Gd   \n",
              "40          445         440          NaN       1965.0  ...           TA   \n",
              "959          92         484          Unf       1999.0  ...           Gd   \n",
              "75            0         297          Unf       1973.0  ...           TA   \n",
              "1389        360         440          Unf       2003.0  ...           TA   \n",
              "\n",
              "     LotArea  LotFrontage  MasVnrArea  OpenPorchSF  OverallCond  OverallQual  \\\n",
              "618    11694         90.0       452.0          108            5            9   \n",
              "870     6600         60.0         0.0            0            5            5   \n",
              "92     13360         80.0         0.0            0            7            5   \n",
              "817    13265          NaN       148.0           59            5            8   \n",
              "302    13704        118.0       150.0           81            5            7   \n",
              "1454    7500         62.0         0.0          113            5            7   \n",
              "40      8658         84.0       101.0          138            5            6   \n",
              "959     2572         24.0         0.0           44            5            7   \n",
              "75      1596         21.0         0.0          101            5            4   \n",
              "1389    6000         60.0         0.0            0            6            6   \n",
              "\n",
              "      TotalBsmtSF  YearBuilt  YearRemodAdd  \n",
              "618          1822       2007          2007  \n",
              "870           894       1962          1962  \n",
              "92            876       1921          2006  \n",
              "817          1568       2002          2002  \n",
              "302          1541       2001          2002  \n",
              "1454         1221       2004          2005  \n",
              "40           1088       1965          1965  \n",
              "959           696       1999          1999  \n",
              "75            462       1973          1973  \n",
              "1389          735       1941          1950  \n",
              "\n",
              "[10 rows x 21 columns]"
            ]
          },
          "execution_count": 8,
          "metadata": {},
          "output_type": "execute_result"
        }
      ],
      "source": [
        "X_train.head(10)"
      ]
    },
    {
      "cell_type": "markdown",
      "metadata": {},
      "source": [
        "## Grid Search CV - Sklearn"
      ]
    },
    {
      "cell_type": "markdown",
      "metadata": {},
      "source": [
        "### Use default hyperparameters to find most suitable algorithm"
      ]
    },
    {
      "cell_type": "code",
      "execution_count": 9,
      "metadata": {},
      "outputs": [],
      "source": [
        "from sklearn.linear_model import LinearRegression\n",
        "from sklearn.tree import DecisionTreeRegressor\n",
        "from sklearn.ensemble import RandomForestRegressor, ExtraTreesRegressor, AdaBoostRegressor, GradientBoostingRegressor\n",
        "from xgboost import XGBRegressor\n",
        "\n",
        "models_quick_search = {\n",
        "    'LinearRegression': LinearRegression(),\n",
        "    \"DecisionTreeRegressor\": DecisionTreeRegressor(random_state=0),\n",
        "    \"RandomForestRegressor\": RandomForestRegressor(random_state=0),\n",
        "    \"ExtraTreesRegressor\": ExtraTreesRegressor(random_state=0),\n",
        "    \"AdaBoostRegressor\": AdaBoostRegressor(random_state=0),\n",
        "    \"GradientBoostingRegressor\": GradientBoostingRegressor(random_state=0),\n",
        "    \"XGBRegressor\": XGBRegressor(random_state=0),\n",
        "}\n",
        "\n",
        "params_quick_search = {\n",
        "    'LinearRegression': {},\n",
        "    \"DecisionTreeRegressor\": {},\n",
        "    \"RandomForestRegressor\": {},\n",
        "    \"ExtraTreesRegressor\": {},\n",
        "    \"AdaBoostRegressor\": {},\n",
        "    \"GradientBoostingRegressor\": {},\n",
        "    \"XGBRegressor\": {},\n",
        "}"
      ]
    },
    {
      "cell_type": "markdown",
      "metadata": {},
      "source": [
        "### Perform Quick Hyperparameter Search\n",
        "\n",
        "This cell uses the `HyperparameterOptimizationSearch` class to perform a quick grid search over default hyperparameters for multiple regression models. The goal is to identify the most suitable algorithm for predicting house prices. The search evaluates models using 5-fold cross-validation and the R² scoring metric. Results will help determine which model to focus on for further optimization."
      ]
    },
    {
      "cell_type": "code",
      "execution_count": 10,
      "metadata": {},
      "outputs": [
        {
          "name": "stdout",
          "output_type": "stream",
          "text": [
            "\n",
            "Running GridSearchCV for LinearRegression \n",
            "\n",
            "Fitting 5 folds for each of 1 candidates, totalling 5 fits\n",
            "\n",
            "Running GridSearchCV for DecisionTreeRegressor \n",
            "\n",
            "Fitting 5 folds for each of 1 candidates, totalling 5 fits\n",
            "\n",
            "Running GridSearchCV for RandomForestRegressor \n",
            "\n",
            "Fitting 5 folds for each of 1 candidates, totalling 5 fits\n",
            "\n",
            "Running GridSearchCV for ExtraTreesRegressor \n",
            "\n",
            "Fitting 5 folds for each of 1 candidates, totalling 5 fits\n",
            "\n",
            "Running GridSearchCV for AdaBoostRegressor \n",
            "\n",
            "Fitting 5 folds for each of 1 candidates, totalling 5 fits\n",
            "\n",
            "Running GridSearchCV for GradientBoostingRegressor \n",
            "\n",
            "Fitting 5 folds for each of 1 candidates, totalling 5 fits\n",
            "\n",
            "Running GridSearchCV for XGBRegressor \n",
            "\n",
            "Fitting 5 folds for each of 1 candidates, totalling 5 fits\n"
          ]
        }
      ],
      "source": [
        "import warnings\n",
        "warnings.filterwarnings(\"ignore\", category=FutureWarning)\n",
        "\n",
        "search = HyperparameterOptimizationSearch(models=models_quick_search, params=params_quick_search)\n",
        "search.fit(X_train, y_train, scoring='r2', n_jobs=-1, cv=5)"
      ]
    },
    {
      "cell_type": "markdown",
      "metadata": {},
      "source": [
        "Check results"
      ]
    },
    {
      "cell_type": "code",
      "execution_count": 11,
      "metadata": {},
      "outputs": [
        {
          "data": {
            "application/vnd.microsoft.datawrangler.viewer.v0+json": {
              "columns": [
                {
                  "name": "index",
                  "rawType": "int64",
                  "type": "integer"
                },
                {
                  "name": "estimator",
                  "rawType": "object",
                  "type": "string"
                },
                {
                  "name": "min_score",
                  "rawType": "object",
                  "type": "unknown"
                },
                {
                  "name": "mean_score",
                  "rawType": "object",
                  "type": "unknown"
                },
                {
                  "name": "max_score",
                  "rawType": "object",
                  "type": "unknown"
                },
                {
                  "name": "std_score",
                  "rawType": "object",
                  "type": "unknown"
                }
              ],
              "conversionMethod": "pd.DataFrame",
              "ref": "0d0aa5c5-4d0a-4248-8868-08f46286f385",
              "rows": [
                [
                  "3",
                  "ExtraTreesRegressor",
                  "0.6551942497730849",
                  "0.7899050408969119",
                  "0.850451937621099",
                  "0.07093347320914813"
                ],
                [
                  "0",
                  "LinearRegression",
                  "0.7331055383107044",
                  "0.7890008206191247",
                  "0.8328406105385205",
                  "0.03810405120148903"
                ],
                [
                  "2",
                  "RandomForestRegressor",
                  "0.6888217895917297",
                  "0.7710048765825526",
                  "0.8176271459060533",
                  "0.047466584512482216"
                ],
                [
                  "5",
                  "GradientBoostingRegressor",
                  "0.6117773844306522",
                  "0.7588456737309441",
                  "0.8208020127074016",
                  "0.07559573075980765"
                ],
                [
                  "4",
                  "AdaBoostRegressor",
                  "0.6702322837110559",
                  "0.7484951440175505",
                  "0.7748270374866719",
                  "0.039446471285073455"
                ],
                [
                  "6",
                  "XGBRegressor",
                  "0.5164482066297528",
                  "0.6455326500528494",
                  "0.7514549618896618",
                  "0.0844598597150514"
                ],
                [
                  "1",
                  "DecisionTreeRegressor",
                  "0.4949714144524938",
                  "0.5795469153655467",
                  "0.6673030954272998",
                  "0.06369774939301466"
                ]
              ],
              "shape": {
                "columns": 5,
                "rows": 7
              }
            },
            "text/html": [
              "<div>\n",
              "<style scoped>\n",
              "    .dataframe tbody tr th:only-of-type {\n",
              "        vertical-align: middle;\n",
              "    }\n",
              "\n",
              "    .dataframe tbody tr th {\n",
              "        vertical-align: top;\n",
              "    }\n",
              "\n",
              "    .dataframe thead th {\n",
              "        text-align: right;\n",
              "    }\n",
              "</style>\n",
              "<table border=\"1\" class=\"dataframe\">\n",
              "  <thead>\n",
              "    <tr style=\"text-align: right;\">\n",
              "      <th></th>\n",
              "      <th>estimator</th>\n",
              "      <th>min_score</th>\n",
              "      <th>mean_score</th>\n",
              "      <th>max_score</th>\n",
              "      <th>std_score</th>\n",
              "    </tr>\n",
              "  </thead>\n",
              "  <tbody>\n",
              "    <tr>\n",
              "      <th>3</th>\n",
              "      <td>ExtraTreesRegressor</td>\n",
              "      <td>0.655194</td>\n",
              "      <td>0.789905</td>\n",
              "      <td>0.850452</td>\n",
              "      <td>0.070933</td>\n",
              "    </tr>\n",
              "    <tr>\n",
              "      <th>0</th>\n",
              "      <td>LinearRegression</td>\n",
              "      <td>0.733106</td>\n",
              "      <td>0.789001</td>\n",
              "      <td>0.832841</td>\n",
              "      <td>0.038104</td>\n",
              "    </tr>\n",
              "    <tr>\n",
              "      <th>2</th>\n",
              "      <td>RandomForestRegressor</td>\n",
              "      <td>0.688822</td>\n",
              "      <td>0.771005</td>\n",
              "      <td>0.817627</td>\n",
              "      <td>0.047467</td>\n",
              "    </tr>\n",
              "    <tr>\n",
              "      <th>5</th>\n",
              "      <td>GradientBoostingRegressor</td>\n",
              "      <td>0.611777</td>\n",
              "      <td>0.758846</td>\n",
              "      <td>0.820802</td>\n",
              "      <td>0.075596</td>\n",
              "    </tr>\n",
              "    <tr>\n",
              "      <th>4</th>\n",
              "      <td>AdaBoostRegressor</td>\n",
              "      <td>0.670232</td>\n",
              "      <td>0.748495</td>\n",
              "      <td>0.774827</td>\n",
              "      <td>0.039446</td>\n",
              "    </tr>\n",
              "    <tr>\n",
              "      <th>6</th>\n",
              "      <td>XGBRegressor</td>\n",
              "      <td>0.516448</td>\n",
              "      <td>0.645533</td>\n",
              "      <td>0.751455</td>\n",
              "      <td>0.08446</td>\n",
              "    </tr>\n",
              "    <tr>\n",
              "      <th>1</th>\n",
              "      <td>DecisionTreeRegressor</td>\n",
              "      <td>0.494971</td>\n",
              "      <td>0.579547</td>\n",
              "      <td>0.667303</td>\n",
              "      <td>0.063698</td>\n",
              "    </tr>\n",
              "  </tbody>\n",
              "</table>\n",
              "</div>"
            ],
            "text/plain": [
              "                   estimator min_score mean_score max_score std_score\n",
              "3        ExtraTreesRegressor  0.655194   0.789905  0.850452  0.070933\n",
              "0           LinearRegression  0.733106   0.789001  0.832841  0.038104\n",
              "2      RandomForestRegressor  0.688822   0.771005  0.817627  0.047467\n",
              "5  GradientBoostingRegressor  0.611777   0.758846  0.820802  0.075596\n",
              "4          AdaBoostRegressor  0.670232   0.748495  0.774827  0.039446\n",
              "6               XGBRegressor  0.516448   0.645533  0.751455   0.08446\n",
              "1      DecisionTreeRegressor  0.494971   0.579547  0.667303  0.063698"
            ]
          },
          "execution_count": 11,
          "metadata": {},
          "output_type": "execute_result"
        }
      ],
      "source": [
        "grid_search_summary, grid_search_pipelines = search.score_summary(sort_by='mean_score')\n",
        "grid_search_summary"
      ]
    },
    {
      "cell_type": "markdown",
      "metadata": {},
      "source": [
        "### Do an extensive search on the most suitable model to find the best hyperparameter configuration."
      ]
    },
    {
      "cell_type": "markdown",
      "metadata": {},
      "source": [
        "Define model and parameters, for Extensive Search"
      ]
    },
    {
      "cell_type": "code",
      "execution_count": 12,
      "metadata": {
        "vscode": {
          "languageId": "javascript"
        }
      },
      "outputs": [],
      "source": [
        "models_search = {\n",
        "    \"ExtraTreesRegressor\": ExtraTreesRegressor(random_state=0),\n",
        "    \"LinearRegression\": LinearRegression(),\n",
        "    \"RandomForestRegressor\": RandomForestRegressor(random_state=0),\n",
        "    \"LinearRegression\": LinearRegression(),\n",
        "}\n",
        "\n",
        "params_search = {\n",
        "    \"ExtraTreesRegressor\": {\n",
        "        'model__n_estimators': [100, 200],\n",
        "        'model__max_depth': [10, 20],\n",
        "        'model__min_samples_split': [2, 5],\n",
        "        'model__min_samples_leaf': [1, 2],\n",
        "    },\n",
        "    \"LinearRegression\": {\n",
        "        'model__fit_intercept': [True],\n",
        "    },\n",
        "    \"RandomForestRegressor\": {\n",
        "        'model__n_estimators': [100, 200],\n",
        "        'model__max_depth': [10, 20],\n",
        "        'model__min_samples_split': [2, 5],\n",
        "        'model__min_samples_leaf': [1, 2],\n",
        "    }\n",
        "}"
      ]
    },
    {
      "cell_type": "markdown",
      "metadata": {},
      "source": [
        "Extensive GridSearch CV"
      ]
    },
    {
      "cell_type": "code",
      "execution_count": 13,
      "metadata": {},
      "outputs": [
        {
          "name": "stdout",
          "output_type": "stream",
          "text": [
            "\n",
            "Running GridSearchCV for ExtraTreesRegressor \n",
            "\n",
            "Fitting 5 folds for each of 16 candidates, totalling 80 fits\n",
            "\n",
            "Running GridSearchCV for LinearRegression \n",
            "\n",
            "Fitting 5 folds for each of 1 candidates, totalling 5 fits\n",
            "\n",
            "Running GridSearchCV for RandomForestRegressor \n",
            "\n",
            "Fitting 5 folds for each of 16 candidates, totalling 80 fits\n"
          ]
        }
      ],
      "source": [
        "import warnings # Suppress FutureWarnings for better readability\n",
        "warnings.filterwarnings(\"ignore\", category=FutureWarning)\n",
        "\n",
        "\n",
        "search = HyperparameterOptimizationSearch(models=models_search, params=params_search)\n",
        "search.fit(X_train, y_train, scoring = 'r2', n_jobs=-1, cv=5)"
      ]
    },
    {
      "cell_type": "markdown",
      "metadata": {},
      "source": [
        "Check results"
      ]
    },
    {
      "cell_type": "code",
      "execution_count": 14,
      "metadata": {},
      "outputs": [
        {
          "data": {
            "application/vnd.microsoft.datawrangler.viewer.v0+json": {
              "columns": [
                {
                  "name": "index",
                  "rawType": "int64",
                  "type": "integer"
                },
                {
                  "name": "estimator",
                  "rawType": "object",
                  "type": "string"
                },
                {
                  "name": "min_score",
                  "rawType": "object",
                  "type": "unknown"
                },
                {
                  "name": "mean_score",
                  "rawType": "object",
                  "type": "unknown"
                },
                {
                  "name": "max_score",
                  "rawType": "object",
                  "type": "unknown"
                },
                {
                  "name": "std_score",
                  "rawType": "object",
                  "type": "unknown"
                },
                {
                  "name": "model__max_depth",
                  "rawType": "object",
                  "type": "unknown"
                },
                {
                  "name": "model__min_samples_leaf",
                  "rawType": "object",
                  "type": "unknown"
                },
                {
                  "name": "model__min_samples_split",
                  "rawType": "object",
                  "type": "unknown"
                },
                {
                  "name": "model__n_estimators",
                  "rawType": "object",
                  "type": "unknown"
                },
                {
                  "name": "model__fit_intercept",
                  "rawType": "object",
                  "type": "unknown"
                }
              ],
              "conversionMethod": "pd.DataFrame",
              "ref": "6c126785-068d-4857-941e-07aa4bc1c4c2",
              "rows": [
                [
                  "15",
                  "ExtraTreesRegressor",
                  "0.7429683234034395",
                  "0.8215511353353673",
                  "0.8570914049530992",
                  "0.04550438365962858",
                  "20",
                  "2",
                  "5",
                  "200",
                  null
                ],
                [
                  "14",
                  "ExtraTreesRegressor",
                  "0.7429869745176041",
                  "0.8214172575022886",
                  "0.8572438558917167",
                  "0.04582221906080344",
                  "20",
                  "2",
                  "5",
                  "100",
                  null
                ],
                [
                  "6",
                  "ExtraTreesRegressor",
                  "0.7413527697898816",
                  "0.8212720505451273",
                  "0.8597192790034875",
                  "0.04649938795254522",
                  "10",
                  "2",
                  "5",
                  "100",
                  null
                ],
                [
                  "4",
                  "ExtraTreesRegressor",
                  "0.736011514288398",
                  "0.8207283224951547",
                  "0.862207088990816",
                  "0.04864372435792266",
                  "10",
                  "2",
                  "2",
                  "100",
                  null
                ],
                [
                  "7",
                  "ExtraTreesRegressor",
                  "0.738714456867099",
                  "0.81996297068264",
                  "0.8608548856652783",
                  "0.04793383641936101",
                  "10",
                  "2",
                  "5",
                  "200",
                  null
                ],
                [
                  "5",
                  "ExtraTreesRegressor",
                  "0.7328159553757575",
                  "0.8195804916497089",
                  "0.860616394570243",
                  "0.05004547432719936",
                  "10",
                  "2",
                  "2",
                  "200",
                  null
                ],
                [
                  "13",
                  "ExtraTreesRegressor",
                  "0.7329520419313353",
                  "0.8180761656308502",
                  "0.8546735748820324",
                  "0.04845932961541614",
                  "20",
                  "2",
                  "2",
                  "200",
                  null
                ],
                [
                  "12",
                  "ExtraTreesRegressor",
                  "0.7307469231772107",
                  "0.8175415340094835",
                  "0.8550765338848456",
                  "0.04927264722319848",
                  "20",
                  "2",
                  "2",
                  "100",
                  null
                ],
                [
                  "3",
                  "ExtraTreesRegressor",
                  "0.6959783452928029",
                  "0.8059036189425285",
                  "0.8568480602060775",
                  "0.05882644512005299",
                  "10",
                  "1",
                  "5",
                  "200",
                  null
                ],
                [
                  "2",
                  "ExtraTreesRegressor",
                  "0.6899998181148443",
                  "0.8057784685633891",
                  "0.8547405624247435",
                  "0.0609741757203012",
                  "10",
                  "1",
                  "5",
                  "100",
                  null
                ],
                [
                  "11",
                  "ExtraTreesRegressor",
                  "0.6740229627726699",
                  "0.7997319390786201",
                  "0.856534975515219",
                  "0.06750125918341524",
                  "20",
                  "1",
                  "5",
                  "200",
                  null
                ],
                [
                  "0",
                  "ExtraTreesRegressor",
                  "0.6473384530778914",
                  "0.7983579272708362",
                  "0.8550194133422259",
                  "0.0769217330020871",
                  "10",
                  "1",
                  "2",
                  "100",
                  null
                ],
                [
                  "10",
                  "ExtraTreesRegressor",
                  "0.6757692153663879",
                  "0.7977805138679194",
                  "0.8558395686541642",
                  "0.06630945532547856",
                  "20",
                  "1",
                  "5",
                  "100",
                  null
                ],
                [
                  "1",
                  "ExtraTreesRegressor",
                  "0.6471140725808495",
                  "0.797573058424133",
                  "0.857559776036002",
                  "0.0775165657340818",
                  "10",
                  "1",
                  "2",
                  "200",
                  null
                ],
                [
                  "24",
                  "RandomForestRegressor",
                  "0.7388466750177876",
                  "0.7946437120599279",
                  "0.8306467466461824",
                  "0.03525043862484933",
                  "10",
                  "2",
                  "5",
                  "200",
                  null
                ],
                [
                  "22",
                  "RandomForestRegressor",
                  "0.7400676880488042",
                  "0.7941727821293638",
                  "0.8296637736818304",
                  "0.034972781216963",
                  "10",
                  "2",
                  "2",
                  "200",
                  null
                ],
                [
                  "23",
                  "RandomForestRegressor",
                  "0.7350547501631326",
                  "0.7940191215333121",
                  "0.8315517986957128",
                  "0.0365720055950848",
                  "10",
                  "2",
                  "5",
                  "100",
                  null
                ],
                [
                  "21",
                  "RandomForestRegressor",
                  "0.7346716071886559",
                  "0.7939327887681554",
                  "0.8308255943074694",
                  "0.0364180898527102",
                  "10",
                  "2",
                  "2",
                  "100",
                  null
                ],
                [
                  "32",
                  "RandomForestRegressor",
                  "0.7371560574170112",
                  "0.7931399999871969",
                  "0.8298888949758171",
                  "0.03564858058286076",
                  "20",
                  "2",
                  "5",
                  "200",
                  null
                ],
                [
                  "31",
                  "RandomForestRegressor",
                  "0.734138135791844",
                  "0.7928939616577735",
                  "0.8304517958830181",
                  "0.03643470571996245",
                  "20",
                  "2",
                  "5",
                  "100",
                  null
                ],
                [
                  "30",
                  "RandomForestRegressor",
                  "0.7386217953236942",
                  "0.7928051133471028",
                  "0.8284261466285632",
                  "0.03526983047426956",
                  "20",
                  "2",
                  "2",
                  "200",
                  null
                ],
                [
                  "29",
                  "RandomForestRegressor",
                  "0.7339693182064624",
                  "0.7923588916029176",
                  "0.8302314908104489",
                  "0.03646729721427743",
                  "20",
                  "2",
                  "2",
                  "100",
                  null
                ],
                [
                  "16",
                  "LinearRegression",
                  "0.7331055383107044",
                  "0.7890008206191247",
                  "0.8328406105385205",
                  "0.03810405120148903",
                  null,
                  null,
                  null,
                  null,
                  "True"
                ],
                [
                  "8",
                  "ExtraTreesRegressor",
                  "0.6579557011624455",
                  "0.7889652817675488",
                  "0.8513414699934906",
                  "0.06987275044048273",
                  "20",
                  "1",
                  "2",
                  "100",
                  null
                ],
                [
                  "9",
                  "ExtraTreesRegressor",
                  "0.657604005590199",
                  "0.7882286361547799",
                  "0.852068134488912",
                  "0.070179309929353",
                  "20",
                  "1",
                  "2",
                  "200",
                  null
                ],
                [
                  "19",
                  "RandomForestRegressor",
                  "0.7097939477543762",
                  "0.7834616645825634",
                  "0.8252428944934075",
                  "0.041719957183870386",
                  "10",
                  "1",
                  "5",
                  "100",
                  null
                ],
                [
                  "20",
                  "RandomForestRegressor",
                  "0.7121240663599319",
                  "0.781973897621194",
                  "0.8237542851210902",
                  "0.041436713982163136",
                  "10",
                  "1",
                  "5",
                  "200",
                  null
                ],
                [
                  "17",
                  "RandomForestRegressor",
                  "0.697561540764803",
                  "0.7795742388074924",
                  "0.8235423626644046",
                  "0.04601414266154085",
                  "10",
                  "1",
                  "2",
                  "100",
                  null
                ],
                [
                  "27",
                  "RandomForestRegressor",
                  "0.7049991468760117",
                  "0.7793922228156152",
                  "0.8225923407698291",
                  "0.042790947824580594",
                  "20",
                  "1",
                  "5",
                  "100",
                  null
                ],
                [
                  "28",
                  "RandomForestRegressor",
                  "0.7086967454936005",
                  "0.7791397065285143",
                  "0.8215008971372548",
                  "0.04187094627137664",
                  "20",
                  "1",
                  "5",
                  "200",
                  null
                ],
                [
                  "18",
                  "RandomForestRegressor",
                  "0.7035704371727884",
                  "0.7777162596121501",
                  "0.820122951796516",
                  "0.0440985667333423",
                  "10",
                  "1",
                  "2",
                  "200",
                  null
                ],
                [
                  "26",
                  "RandomForestRegressor",
                  "0.6984919276628625",
                  "0.7728950636297258",
                  "0.8166147473323248",
                  "0.04431990047127544",
                  "20",
                  "1",
                  "2",
                  "200",
                  null
                ],
                [
                  "25",
                  "RandomForestRegressor",
                  "0.6897934535694814",
                  "0.7725959990115303",
                  "0.8174428786544561",
                  "0.046425808080290475",
                  "20",
                  "1",
                  "2",
                  "100",
                  null
                ]
              ],
              "shape": {
                "columns": 10,
                "rows": 33
              }
            },
            "text/html": [
              "<div>\n",
              "<style scoped>\n",
              "    .dataframe tbody tr th:only-of-type {\n",
              "        vertical-align: middle;\n",
              "    }\n",
              "\n",
              "    .dataframe tbody tr th {\n",
              "        vertical-align: top;\n",
              "    }\n",
              "\n",
              "    .dataframe thead th {\n",
              "        text-align: right;\n",
              "    }\n",
              "</style>\n",
              "<table border=\"1\" class=\"dataframe\">\n",
              "  <thead>\n",
              "    <tr style=\"text-align: right;\">\n",
              "      <th></th>\n",
              "      <th>estimator</th>\n",
              "      <th>min_score</th>\n",
              "      <th>mean_score</th>\n",
              "      <th>max_score</th>\n",
              "      <th>std_score</th>\n",
              "      <th>model__max_depth</th>\n",
              "      <th>model__min_samples_leaf</th>\n",
              "      <th>model__min_samples_split</th>\n",
              "      <th>model__n_estimators</th>\n",
              "      <th>model__fit_intercept</th>\n",
              "    </tr>\n",
              "  </thead>\n",
              "  <tbody>\n",
              "    <tr>\n",
              "      <th>15</th>\n",
              "      <td>ExtraTreesRegressor</td>\n",
              "      <td>0.742968</td>\n",
              "      <td>0.821551</td>\n",
              "      <td>0.857091</td>\n",
              "      <td>0.045504</td>\n",
              "      <td>20</td>\n",
              "      <td>2</td>\n",
              "      <td>5</td>\n",
              "      <td>200</td>\n",
              "      <td>NaN</td>\n",
              "    </tr>\n",
              "    <tr>\n",
              "      <th>14</th>\n",
              "      <td>ExtraTreesRegressor</td>\n",
              "      <td>0.742987</td>\n",
              "      <td>0.821417</td>\n",
              "      <td>0.857244</td>\n",
              "      <td>0.045822</td>\n",
              "      <td>20</td>\n",
              "      <td>2</td>\n",
              "      <td>5</td>\n",
              "      <td>100</td>\n",
              "      <td>NaN</td>\n",
              "    </tr>\n",
              "    <tr>\n",
              "      <th>6</th>\n",
              "      <td>ExtraTreesRegressor</td>\n",
              "      <td>0.741353</td>\n",
              "      <td>0.821272</td>\n",
              "      <td>0.859719</td>\n",
              "      <td>0.046499</td>\n",
              "      <td>10</td>\n",
              "      <td>2</td>\n",
              "      <td>5</td>\n",
              "      <td>100</td>\n",
              "      <td>NaN</td>\n",
              "    </tr>\n",
              "    <tr>\n",
              "      <th>4</th>\n",
              "      <td>ExtraTreesRegressor</td>\n",
              "      <td>0.736012</td>\n",
              "      <td>0.820728</td>\n",
              "      <td>0.862207</td>\n",
              "      <td>0.048644</td>\n",
              "      <td>10</td>\n",
              "      <td>2</td>\n",
              "      <td>2</td>\n",
              "      <td>100</td>\n",
              "      <td>NaN</td>\n",
              "    </tr>\n",
              "    <tr>\n",
              "      <th>7</th>\n",
              "      <td>ExtraTreesRegressor</td>\n",
              "      <td>0.738714</td>\n",
              "      <td>0.819963</td>\n",
              "      <td>0.860855</td>\n",
              "      <td>0.047934</td>\n",
              "      <td>10</td>\n",
              "      <td>2</td>\n",
              "      <td>5</td>\n",
              "      <td>200</td>\n",
              "      <td>NaN</td>\n",
              "    </tr>\n",
              "    <tr>\n",
              "      <th>5</th>\n",
              "      <td>ExtraTreesRegressor</td>\n",
              "      <td>0.732816</td>\n",
              "      <td>0.81958</td>\n",
              "      <td>0.860616</td>\n",
              "      <td>0.050045</td>\n",
              "      <td>10</td>\n",
              "      <td>2</td>\n",
              "      <td>2</td>\n",
              "      <td>200</td>\n",
              "      <td>NaN</td>\n",
              "    </tr>\n",
              "    <tr>\n",
              "      <th>13</th>\n",
              "      <td>ExtraTreesRegressor</td>\n",
              "      <td>0.732952</td>\n",
              "      <td>0.818076</td>\n",
              "      <td>0.854674</td>\n",
              "      <td>0.048459</td>\n",
              "      <td>20</td>\n",
              "      <td>2</td>\n",
              "      <td>2</td>\n",
              "      <td>200</td>\n",
              "      <td>NaN</td>\n",
              "    </tr>\n",
              "    <tr>\n",
              "      <th>12</th>\n",
              "      <td>ExtraTreesRegressor</td>\n",
              "      <td>0.730747</td>\n",
              "      <td>0.817542</td>\n",
              "      <td>0.855077</td>\n",
              "      <td>0.049273</td>\n",
              "      <td>20</td>\n",
              "      <td>2</td>\n",
              "      <td>2</td>\n",
              "      <td>100</td>\n",
              "      <td>NaN</td>\n",
              "    </tr>\n",
              "    <tr>\n",
              "      <th>3</th>\n",
              "      <td>ExtraTreesRegressor</td>\n",
              "      <td>0.695978</td>\n",
              "      <td>0.805904</td>\n",
              "      <td>0.856848</td>\n",
              "      <td>0.058826</td>\n",
              "      <td>10</td>\n",
              "      <td>1</td>\n",
              "      <td>5</td>\n",
              "      <td>200</td>\n",
              "      <td>NaN</td>\n",
              "    </tr>\n",
              "    <tr>\n",
              "      <th>2</th>\n",
              "      <td>ExtraTreesRegressor</td>\n",
              "      <td>0.69</td>\n",
              "      <td>0.805778</td>\n",
              "      <td>0.854741</td>\n",
              "      <td>0.060974</td>\n",
              "      <td>10</td>\n",
              "      <td>1</td>\n",
              "      <td>5</td>\n",
              "      <td>100</td>\n",
              "      <td>NaN</td>\n",
              "    </tr>\n",
              "    <tr>\n",
              "      <th>11</th>\n",
              "      <td>ExtraTreesRegressor</td>\n",
              "      <td>0.674023</td>\n",
              "      <td>0.799732</td>\n",
              "      <td>0.856535</td>\n",
              "      <td>0.067501</td>\n",
              "      <td>20</td>\n",
              "      <td>1</td>\n",
              "      <td>5</td>\n",
              "      <td>200</td>\n",
              "      <td>NaN</td>\n",
              "    </tr>\n",
              "    <tr>\n",
              "      <th>0</th>\n",
              "      <td>ExtraTreesRegressor</td>\n",
              "      <td>0.647338</td>\n",
              "      <td>0.798358</td>\n",
              "      <td>0.855019</td>\n",
              "      <td>0.076922</td>\n",
              "      <td>10</td>\n",
              "      <td>1</td>\n",
              "      <td>2</td>\n",
              "      <td>100</td>\n",
              "      <td>NaN</td>\n",
              "    </tr>\n",
              "    <tr>\n",
              "      <th>10</th>\n",
              "      <td>ExtraTreesRegressor</td>\n",
              "      <td>0.675769</td>\n",
              "      <td>0.797781</td>\n",
              "      <td>0.85584</td>\n",
              "      <td>0.066309</td>\n",
              "      <td>20</td>\n",
              "      <td>1</td>\n",
              "      <td>5</td>\n",
              "      <td>100</td>\n",
              "      <td>NaN</td>\n",
              "    </tr>\n",
              "    <tr>\n",
              "      <th>1</th>\n",
              "      <td>ExtraTreesRegressor</td>\n",
              "      <td>0.647114</td>\n",
              "      <td>0.797573</td>\n",
              "      <td>0.85756</td>\n",
              "      <td>0.077517</td>\n",
              "      <td>10</td>\n",
              "      <td>1</td>\n",
              "      <td>2</td>\n",
              "      <td>200</td>\n",
              "      <td>NaN</td>\n",
              "    </tr>\n",
              "    <tr>\n",
              "      <th>24</th>\n",
              "      <td>RandomForestRegressor</td>\n",
              "      <td>0.738847</td>\n",
              "      <td>0.794644</td>\n",
              "      <td>0.830647</td>\n",
              "      <td>0.03525</td>\n",
              "      <td>10</td>\n",
              "      <td>2</td>\n",
              "      <td>5</td>\n",
              "      <td>200</td>\n",
              "      <td>NaN</td>\n",
              "    </tr>\n",
              "    <tr>\n",
              "      <th>22</th>\n",
              "      <td>RandomForestRegressor</td>\n",
              "      <td>0.740068</td>\n",
              "      <td>0.794173</td>\n",
              "      <td>0.829664</td>\n",
              "      <td>0.034973</td>\n",
              "      <td>10</td>\n",
              "      <td>2</td>\n",
              "      <td>2</td>\n",
              "      <td>200</td>\n",
              "      <td>NaN</td>\n",
              "    </tr>\n",
              "    <tr>\n",
              "      <th>23</th>\n",
              "      <td>RandomForestRegressor</td>\n",
              "      <td>0.735055</td>\n",
              "      <td>0.794019</td>\n",
              "      <td>0.831552</td>\n",
              "      <td>0.036572</td>\n",
              "      <td>10</td>\n",
              "      <td>2</td>\n",
              "      <td>5</td>\n",
              "      <td>100</td>\n",
              "      <td>NaN</td>\n",
              "    </tr>\n",
              "    <tr>\n",
              "      <th>21</th>\n",
              "      <td>RandomForestRegressor</td>\n",
              "      <td>0.734672</td>\n",
              "      <td>0.793933</td>\n",
              "      <td>0.830826</td>\n",
              "      <td>0.036418</td>\n",
              "      <td>10</td>\n",
              "      <td>2</td>\n",
              "      <td>2</td>\n",
              "      <td>100</td>\n",
              "      <td>NaN</td>\n",
              "    </tr>\n",
              "    <tr>\n",
              "      <th>32</th>\n",
              "      <td>RandomForestRegressor</td>\n",
              "      <td>0.737156</td>\n",
              "      <td>0.79314</td>\n",
              "      <td>0.829889</td>\n",
              "      <td>0.035649</td>\n",
              "      <td>20</td>\n",
              "      <td>2</td>\n",
              "      <td>5</td>\n",
              "      <td>200</td>\n",
              "      <td>NaN</td>\n",
              "    </tr>\n",
              "    <tr>\n",
              "      <th>31</th>\n",
              "      <td>RandomForestRegressor</td>\n",
              "      <td>0.734138</td>\n",
              "      <td>0.792894</td>\n",
              "      <td>0.830452</td>\n",
              "      <td>0.036435</td>\n",
              "      <td>20</td>\n",
              "      <td>2</td>\n",
              "      <td>5</td>\n",
              "      <td>100</td>\n",
              "      <td>NaN</td>\n",
              "    </tr>\n",
              "    <tr>\n",
              "      <th>30</th>\n",
              "      <td>RandomForestRegressor</td>\n",
              "      <td>0.738622</td>\n",
              "      <td>0.792805</td>\n",
              "      <td>0.828426</td>\n",
              "      <td>0.03527</td>\n",
              "      <td>20</td>\n",
              "      <td>2</td>\n",
              "      <td>2</td>\n",
              "      <td>200</td>\n",
              "      <td>NaN</td>\n",
              "    </tr>\n",
              "    <tr>\n",
              "      <th>29</th>\n",
              "      <td>RandomForestRegressor</td>\n",
              "      <td>0.733969</td>\n",
              "      <td>0.792359</td>\n",
              "      <td>0.830231</td>\n",
              "      <td>0.036467</td>\n",
              "      <td>20</td>\n",
              "      <td>2</td>\n",
              "      <td>2</td>\n",
              "      <td>100</td>\n",
              "      <td>NaN</td>\n",
              "    </tr>\n",
              "    <tr>\n",
              "      <th>16</th>\n",
              "      <td>LinearRegression</td>\n",
              "      <td>0.733106</td>\n",
              "      <td>0.789001</td>\n",
              "      <td>0.832841</td>\n",
              "      <td>0.038104</td>\n",
              "      <td>NaN</td>\n",
              "      <td>NaN</td>\n",
              "      <td>NaN</td>\n",
              "      <td>NaN</td>\n",
              "      <td>True</td>\n",
              "    </tr>\n",
              "    <tr>\n",
              "      <th>8</th>\n",
              "      <td>ExtraTreesRegressor</td>\n",
              "      <td>0.657956</td>\n",
              "      <td>0.788965</td>\n",
              "      <td>0.851341</td>\n",
              "      <td>0.069873</td>\n",
              "      <td>20</td>\n",
              "      <td>1</td>\n",
              "      <td>2</td>\n",
              "      <td>100</td>\n",
              "      <td>NaN</td>\n",
              "    </tr>\n",
              "    <tr>\n",
              "      <th>9</th>\n",
              "      <td>ExtraTreesRegressor</td>\n",
              "      <td>0.657604</td>\n",
              "      <td>0.788229</td>\n",
              "      <td>0.852068</td>\n",
              "      <td>0.070179</td>\n",
              "      <td>20</td>\n",
              "      <td>1</td>\n",
              "      <td>2</td>\n",
              "      <td>200</td>\n",
              "      <td>NaN</td>\n",
              "    </tr>\n",
              "    <tr>\n",
              "      <th>19</th>\n",
              "      <td>RandomForestRegressor</td>\n",
              "      <td>0.709794</td>\n",
              "      <td>0.783462</td>\n",
              "      <td>0.825243</td>\n",
              "      <td>0.04172</td>\n",
              "      <td>10</td>\n",
              "      <td>1</td>\n",
              "      <td>5</td>\n",
              "      <td>100</td>\n",
              "      <td>NaN</td>\n",
              "    </tr>\n",
              "    <tr>\n",
              "      <th>20</th>\n",
              "      <td>RandomForestRegressor</td>\n",
              "      <td>0.712124</td>\n",
              "      <td>0.781974</td>\n",
              "      <td>0.823754</td>\n",
              "      <td>0.041437</td>\n",
              "      <td>10</td>\n",
              "      <td>1</td>\n",
              "      <td>5</td>\n",
              "      <td>200</td>\n",
              "      <td>NaN</td>\n",
              "    </tr>\n",
              "    <tr>\n",
              "      <th>17</th>\n",
              "      <td>RandomForestRegressor</td>\n",
              "      <td>0.697562</td>\n",
              "      <td>0.779574</td>\n",
              "      <td>0.823542</td>\n",
              "      <td>0.046014</td>\n",
              "      <td>10</td>\n",
              "      <td>1</td>\n",
              "      <td>2</td>\n",
              "      <td>100</td>\n",
              "      <td>NaN</td>\n",
              "    </tr>\n",
              "    <tr>\n",
              "      <th>27</th>\n",
              "      <td>RandomForestRegressor</td>\n",
              "      <td>0.704999</td>\n",
              "      <td>0.779392</td>\n",
              "      <td>0.822592</td>\n",
              "      <td>0.042791</td>\n",
              "      <td>20</td>\n",
              "      <td>1</td>\n",
              "      <td>5</td>\n",
              "      <td>100</td>\n",
              "      <td>NaN</td>\n",
              "    </tr>\n",
              "    <tr>\n",
              "      <th>28</th>\n",
              "      <td>RandomForestRegressor</td>\n",
              "      <td>0.708697</td>\n",
              "      <td>0.77914</td>\n",
              "      <td>0.821501</td>\n",
              "      <td>0.041871</td>\n",
              "      <td>20</td>\n",
              "      <td>1</td>\n",
              "      <td>5</td>\n",
              "      <td>200</td>\n",
              "      <td>NaN</td>\n",
              "    </tr>\n",
              "    <tr>\n",
              "      <th>18</th>\n",
              "      <td>RandomForestRegressor</td>\n",
              "      <td>0.70357</td>\n",
              "      <td>0.777716</td>\n",
              "      <td>0.820123</td>\n",
              "      <td>0.044099</td>\n",
              "      <td>10</td>\n",
              "      <td>1</td>\n",
              "      <td>2</td>\n",
              "      <td>200</td>\n",
              "      <td>NaN</td>\n",
              "    </tr>\n",
              "    <tr>\n",
              "      <th>26</th>\n",
              "      <td>RandomForestRegressor</td>\n",
              "      <td>0.698492</td>\n",
              "      <td>0.772895</td>\n",
              "      <td>0.816615</td>\n",
              "      <td>0.04432</td>\n",
              "      <td>20</td>\n",
              "      <td>1</td>\n",
              "      <td>2</td>\n",
              "      <td>200</td>\n",
              "      <td>NaN</td>\n",
              "    </tr>\n",
              "    <tr>\n",
              "      <th>25</th>\n",
              "      <td>RandomForestRegressor</td>\n",
              "      <td>0.689793</td>\n",
              "      <td>0.772596</td>\n",
              "      <td>0.817443</td>\n",
              "      <td>0.046426</td>\n",
              "      <td>20</td>\n",
              "      <td>1</td>\n",
              "      <td>2</td>\n",
              "      <td>100</td>\n",
              "      <td>NaN</td>\n",
              "    </tr>\n",
              "  </tbody>\n",
              "</table>\n",
              "</div>"
            ],
            "text/plain": [
              "                estimator min_score mean_score max_score std_score  \\\n",
              "15    ExtraTreesRegressor  0.742968   0.821551  0.857091  0.045504   \n",
              "14    ExtraTreesRegressor  0.742987   0.821417  0.857244  0.045822   \n",
              "6     ExtraTreesRegressor  0.741353   0.821272  0.859719  0.046499   \n",
              "4     ExtraTreesRegressor  0.736012   0.820728  0.862207  0.048644   \n",
              "7     ExtraTreesRegressor  0.738714   0.819963  0.860855  0.047934   \n",
              "5     ExtraTreesRegressor  0.732816    0.81958  0.860616  0.050045   \n",
              "13    ExtraTreesRegressor  0.732952   0.818076  0.854674  0.048459   \n",
              "12    ExtraTreesRegressor  0.730747   0.817542  0.855077  0.049273   \n",
              "3     ExtraTreesRegressor  0.695978   0.805904  0.856848  0.058826   \n",
              "2     ExtraTreesRegressor      0.69   0.805778  0.854741  0.060974   \n",
              "11    ExtraTreesRegressor  0.674023   0.799732  0.856535  0.067501   \n",
              "0     ExtraTreesRegressor  0.647338   0.798358  0.855019  0.076922   \n",
              "10    ExtraTreesRegressor  0.675769   0.797781   0.85584  0.066309   \n",
              "1     ExtraTreesRegressor  0.647114   0.797573   0.85756  0.077517   \n",
              "24  RandomForestRegressor  0.738847   0.794644  0.830647   0.03525   \n",
              "22  RandomForestRegressor  0.740068   0.794173  0.829664  0.034973   \n",
              "23  RandomForestRegressor  0.735055   0.794019  0.831552  0.036572   \n",
              "21  RandomForestRegressor  0.734672   0.793933  0.830826  0.036418   \n",
              "32  RandomForestRegressor  0.737156    0.79314  0.829889  0.035649   \n",
              "31  RandomForestRegressor  0.734138   0.792894  0.830452  0.036435   \n",
              "30  RandomForestRegressor  0.738622   0.792805  0.828426   0.03527   \n",
              "29  RandomForestRegressor  0.733969   0.792359  0.830231  0.036467   \n",
              "16       LinearRegression  0.733106   0.789001  0.832841  0.038104   \n",
              "8     ExtraTreesRegressor  0.657956   0.788965  0.851341  0.069873   \n",
              "9     ExtraTreesRegressor  0.657604   0.788229  0.852068  0.070179   \n",
              "19  RandomForestRegressor  0.709794   0.783462  0.825243   0.04172   \n",
              "20  RandomForestRegressor  0.712124   0.781974  0.823754  0.041437   \n",
              "17  RandomForestRegressor  0.697562   0.779574  0.823542  0.046014   \n",
              "27  RandomForestRegressor  0.704999   0.779392  0.822592  0.042791   \n",
              "28  RandomForestRegressor  0.708697    0.77914  0.821501  0.041871   \n",
              "18  RandomForestRegressor   0.70357   0.777716  0.820123  0.044099   \n",
              "26  RandomForestRegressor  0.698492   0.772895  0.816615   0.04432   \n",
              "25  RandomForestRegressor  0.689793   0.772596  0.817443  0.046426   \n",
              "\n",
              "   model__max_depth model__min_samples_leaf model__min_samples_split  \\\n",
              "15               20                       2                        5   \n",
              "14               20                       2                        5   \n",
              "6                10                       2                        5   \n",
              "4                10                       2                        2   \n",
              "7                10                       2                        5   \n",
              "5                10                       2                        2   \n",
              "13               20                       2                        2   \n",
              "12               20                       2                        2   \n",
              "3                10                       1                        5   \n",
              "2                10                       1                        5   \n",
              "11               20                       1                        5   \n",
              "0                10                       1                        2   \n",
              "10               20                       1                        5   \n",
              "1                10                       1                        2   \n",
              "24               10                       2                        5   \n",
              "22               10                       2                        2   \n",
              "23               10                       2                        5   \n",
              "21               10                       2                        2   \n",
              "32               20                       2                        5   \n",
              "31               20                       2                        5   \n",
              "30               20                       2                        2   \n",
              "29               20                       2                        2   \n",
              "16              NaN                     NaN                      NaN   \n",
              "8                20                       1                        2   \n",
              "9                20                       1                        2   \n",
              "19               10                       1                        5   \n",
              "20               10                       1                        5   \n",
              "17               10                       1                        2   \n",
              "27               20                       1                        5   \n",
              "28               20                       1                        5   \n",
              "18               10                       1                        2   \n",
              "26               20                       1                        2   \n",
              "25               20                       1                        2   \n",
              "\n",
              "   model__n_estimators model__fit_intercept  \n",
              "15                 200                  NaN  \n",
              "14                 100                  NaN  \n",
              "6                  100                  NaN  \n",
              "4                  100                  NaN  \n",
              "7                  200                  NaN  \n",
              "5                  200                  NaN  \n",
              "13                 200                  NaN  \n",
              "12                 100                  NaN  \n",
              "3                  200                  NaN  \n",
              "2                  100                  NaN  \n",
              "11                 200                  NaN  \n",
              "0                  100                  NaN  \n",
              "10                 100                  NaN  \n",
              "1                  200                  NaN  \n",
              "24                 200                  NaN  \n",
              "22                 200                  NaN  \n",
              "23                 100                  NaN  \n",
              "21                 100                  NaN  \n",
              "32                 200                  NaN  \n",
              "31                 100                  NaN  \n",
              "30                 200                  NaN  \n",
              "29                 100                  NaN  \n",
              "16                 NaN                 True  \n",
              "8                  100                  NaN  \n",
              "9                  200                  NaN  \n",
              "19                 100                  NaN  \n",
              "20                 200                  NaN  \n",
              "17                 100                  NaN  \n",
              "27                 100                  NaN  \n",
              "28                 200                  NaN  \n",
              "18                 200                  NaN  \n",
              "26                 200                  NaN  \n",
              "25                 100                  NaN  "
            ]
          },
          "execution_count": 14,
          "metadata": {},
          "output_type": "execute_result"
        }
      ],
      "source": [
        "grid_search_summary, grid_search_pipelines = search.score_summary(sort_by='mean_score')\n",
        "grid_search_summary"
      ]
    },
    {
      "cell_type": "markdown",
      "metadata": {},
      "source": [
        "Check the best model"
      ]
    },
    {
      "cell_type": "code",
      "execution_count": 15,
      "metadata": {},
      "outputs": [
        {
          "data": {
            "text/plain": [
              "'ExtraTreesRegressor'"
            ]
          },
          "execution_count": 15,
          "metadata": {},
          "output_type": "execute_result"
        }
      ],
      "source": [
        "best_model = grid_search_summary.iloc[0, 0]\n",
        "best_model"
      ]
    },
    {
      "cell_type": "markdown",
      "metadata": {},
      "source": [
        "Parameters for best model"
      ]
    },
    {
      "cell_type": "code",
      "execution_count": 16,
      "metadata": {},
      "outputs": [
        {
          "data": {
            "text/plain": [
              "{'model__max_depth': 20,\n",
              " 'model__min_samples_leaf': 2,\n",
              " 'model__min_samples_split': 5,\n",
              " 'model__n_estimators': 200}"
            ]
          },
          "execution_count": 16,
          "metadata": {},
          "output_type": "execute_result"
        }
      ],
      "source": [
        "best_parameters = grid_search_pipelines[best_model].best_params_\n",
        "best_parameters"
      ]
    },
    {
      "cell_type": "markdown",
      "metadata": {},
      "source": [
        "Define the best regressor"
      ]
    },
    {
      "cell_type": "code",
      "execution_count": 17,
      "metadata": {},
      "outputs": [
        {
          "data": {
            "text/html": [
              "<style>#sk-container-id-1 {color: black;}#sk-container-id-1 pre{padding: 0;}#sk-container-id-1 div.sk-toggleable {background-color: white;}#sk-container-id-1 label.sk-toggleable__label {cursor: pointer;display: block;width: 100%;margin-bottom: 0;padding: 0.3em;box-sizing: border-box;text-align: center;}#sk-container-id-1 label.sk-toggleable__label-arrow:before {content: \"▸\";float: left;margin-right: 0.25em;color: #696969;}#sk-container-id-1 label.sk-toggleable__label-arrow:hover:before {color: black;}#sk-container-id-1 div.sk-estimator:hover label.sk-toggleable__label-arrow:before {color: black;}#sk-container-id-1 div.sk-toggleable__content {max-height: 0;max-width: 0;overflow: hidden;text-align: left;background-color: #f0f8ff;}#sk-container-id-1 div.sk-toggleable__content pre {margin: 0.2em;color: black;border-radius: 0.25em;background-color: #f0f8ff;}#sk-container-id-1 input.sk-toggleable__control:checked~div.sk-toggleable__content {max-height: 200px;max-width: 100%;overflow: auto;}#sk-container-id-1 input.sk-toggleable__control:checked~label.sk-toggleable__label-arrow:before {content: \"▾\";}#sk-container-id-1 div.sk-estimator input.sk-toggleable__control:checked~label.sk-toggleable__label {background-color: #d4ebff;}#sk-container-id-1 div.sk-label input.sk-toggleable__control:checked~label.sk-toggleable__label {background-color: #d4ebff;}#sk-container-id-1 input.sk-hidden--visually {border: 0;clip: rect(1px 1px 1px 1px);clip: rect(1px, 1px, 1px, 1px);height: 1px;margin: -1px;overflow: hidden;padding: 0;position: absolute;width: 1px;}#sk-container-id-1 div.sk-estimator {font-family: monospace;background-color: #f0f8ff;border: 1px dotted black;border-radius: 0.25em;box-sizing: border-box;margin-bottom: 0.5em;}#sk-container-id-1 div.sk-estimator:hover {background-color: #d4ebff;}#sk-container-id-1 div.sk-parallel-item::after {content: \"\";width: 100%;border-bottom: 1px solid gray;flex-grow: 1;}#sk-container-id-1 div.sk-label:hover label.sk-toggleable__label {background-color: #d4ebff;}#sk-container-id-1 div.sk-serial::before {content: \"\";position: absolute;border-left: 1px solid gray;box-sizing: border-box;top: 0;bottom: 0;left: 50%;z-index: 0;}#sk-container-id-1 div.sk-serial {display: flex;flex-direction: column;align-items: center;background-color: white;padding-right: 0.2em;padding-left: 0.2em;position: relative;}#sk-container-id-1 div.sk-item {position: relative;z-index: 1;}#sk-container-id-1 div.sk-parallel {display: flex;align-items: stretch;justify-content: center;background-color: white;position: relative;}#sk-container-id-1 div.sk-item::before, #sk-container-id-1 div.sk-parallel-item::before {content: \"\";position: absolute;border-left: 1px solid gray;box-sizing: border-box;top: 0;bottom: 0;left: 50%;z-index: -1;}#sk-container-id-1 div.sk-parallel-item {display: flex;flex-direction: column;z-index: 1;position: relative;background-color: white;}#sk-container-id-1 div.sk-parallel-item:first-child::after {align-self: flex-end;width: 50%;}#sk-container-id-1 div.sk-parallel-item:last-child::after {align-self: flex-start;width: 50%;}#sk-container-id-1 div.sk-parallel-item:only-child::after {width: 0;}#sk-container-id-1 div.sk-dashed-wrapped {border: 1px dashed gray;margin: 0 0.4em 0.5em 0.4em;box-sizing: border-box;padding-bottom: 0.4em;background-color: white;}#sk-container-id-1 div.sk-label label {font-family: monospace;font-weight: bold;display: inline-block;line-height: 1.2em;}#sk-container-id-1 div.sk-label-container {text-align: center;}#sk-container-id-1 div.sk-container {/* jupyter's `normalize.less` sets `[hidden] { display: none; }` but bootstrap.min.css set `[hidden] { display: none !important; }` so we also need the `!important` here to be able to override the default hidden behavior on the sphinx rendered scikit-learn.org. See: https://github.com/scikit-learn/scikit-learn/issues/21755 */display: inline-block !important;position: relative;}#sk-container-id-1 div.sk-text-repr-fallback {display: none;}</style><div id=\"sk-container-id-1\" class=\"sk-top-container\"><div class=\"sk-text-repr-fallback\"><pre>Pipeline(steps=[(&#x27;num_zero&#x27;,\n",
              "                 ArbitraryNumberImputer(arbitrary_number=0,\n",
              "                                        variables=[&#x27;2ndFlrSF&#x27;, &#x27;MasVnrArea&#x27;,\n",
              "                                                   &#x27;GarageYrBlt&#x27;])),\n",
              "                (&#x27;num_median&#x27;,\n",
              "                 MeanMedianImputer(variables=[&#x27;BedroomAbvGr&#x27;, &#x27;LotFrontage&#x27;])),\n",
              "                (&#x27;cat_missing&#x27;,\n",
              "                 CategoricalImputer(variables=[&#x27;BsmtExposure&#x27;, &#x27;BsmtFinType1&#x27;,\n",
              "                                               &#x27;GarageFinish&#x27;])),\n",
              "                (&#x27;ordinal_encoder&#x27;,\n",
              "                 OrdinalEncoder(encoding_method=&#x27;arbitrary...\n",
              "                                             &#x27;MasVnrArea&#x27;, &#x27;OpenPorchSF&#x27;])),\n",
              "                (&#x27;correlation_filter&#x27;,\n",
              "                 SmartCorrelatedSelection(method=&#x27;spearman&#x27;,\n",
              "                                          selection_method=&#x27;variance&#x27;,\n",
              "                                          threshold=0.7)),\n",
              "                (&#x27;feat_scaling&#x27;, StandardScaler()),\n",
              "                (&#x27;feat_selection&#x27;,\n",
              "                 SelectFromModel(estimator=ExtraTreesRegressor(random_state=0))),\n",
              "                (&#x27;model&#x27;,\n",
              "                 ExtraTreesRegressor(max_depth=20, min_samples_leaf=2,\n",
              "                                     min_samples_split=5, n_estimators=200,\n",
              "                                     random_state=0))])</pre><b>In a Jupyter environment, please rerun this cell to show the HTML representation or trust the notebook. <br />On GitHub, the HTML representation is unable to render, please try loading this page with nbviewer.org.</b></div><div class=\"sk-container\" hidden><div class=\"sk-item sk-dashed-wrapped\"><div class=\"sk-label-container\"><div class=\"sk-label sk-toggleable\"><input class=\"sk-toggleable__control sk-hidden--visually\" id=\"sk-estimator-id-1\" type=\"checkbox\" ><label for=\"sk-estimator-id-1\" class=\"sk-toggleable__label sk-toggleable__label-arrow\">Pipeline</label><div class=\"sk-toggleable__content\"><pre>Pipeline(steps=[(&#x27;num_zero&#x27;,\n",
              "                 ArbitraryNumberImputer(arbitrary_number=0,\n",
              "                                        variables=[&#x27;2ndFlrSF&#x27;, &#x27;MasVnrArea&#x27;,\n",
              "                                                   &#x27;GarageYrBlt&#x27;])),\n",
              "                (&#x27;num_median&#x27;,\n",
              "                 MeanMedianImputer(variables=[&#x27;BedroomAbvGr&#x27;, &#x27;LotFrontage&#x27;])),\n",
              "                (&#x27;cat_missing&#x27;,\n",
              "                 CategoricalImputer(variables=[&#x27;BsmtExposure&#x27;, &#x27;BsmtFinType1&#x27;,\n",
              "                                               &#x27;GarageFinish&#x27;])),\n",
              "                (&#x27;ordinal_encoder&#x27;,\n",
              "                 OrdinalEncoder(encoding_method=&#x27;arbitrary...\n",
              "                                             &#x27;MasVnrArea&#x27;, &#x27;OpenPorchSF&#x27;])),\n",
              "                (&#x27;correlation_filter&#x27;,\n",
              "                 SmartCorrelatedSelection(method=&#x27;spearman&#x27;,\n",
              "                                          selection_method=&#x27;variance&#x27;,\n",
              "                                          threshold=0.7)),\n",
              "                (&#x27;feat_scaling&#x27;, StandardScaler()),\n",
              "                (&#x27;feat_selection&#x27;,\n",
              "                 SelectFromModel(estimator=ExtraTreesRegressor(random_state=0))),\n",
              "                (&#x27;model&#x27;,\n",
              "                 ExtraTreesRegressor(max_depth=20, min_samples_leaf=2,\n",
              "                                     min_samples_split=5, n_estimators=200,\n",
              "                                     random_state=0))])</pre></div></div></div><div class=\"sk-serial\"><div class=\"sk-item\"><div class=\"sk-estimator sk-toggleable\"><input class=\"sk-toggleable__control sk-hidden--visually\" id=\"sk-estimator-id-2\" type=\"checkbox\" ><label for=\"sk-estimator-id-2\" class=\"sk-toggleable__label sk-toggleable__label-arrow\">ArbitraryNumberImputer</label><div class=\"sk-toggleable__content\"><pre>ArbitraryNumberImputer(arbitrary_number=0,\n",
              "                       variables=[&#x27;2ndFlrSF&#x27;, &#x27;MasVnrArea&#x27;, &#x27;GarageYrBlt&#x27;])</pre></div></div></div><div class=\"sk-item\"><div class=\"sk-estimator sk-toggleable\"><input class=\"sk-toggleable__control sk-hidden--visually\" id=\"sk-estimator-id-3\" type=\"checkbox\" ><label for=\"sk-estimator-id-3\" class=\"sk-toggleable__label sk-toggleable__label-arrow\">MeanMedianImputer</label><div class=\"sk-toggleable__content\"><pre>MeanMedianImputer(variables=[&#x27;BedroomAbvGr&#x27;, &#x27;LotFrontage&#x27;])</pre></div></div></div><div class=\"sk-item\"><div class=\"sk-estimator sk-toggleable\"><input class=\"sk-toggleable__control sk-hidden--visually\" id=\"sk-estimator-id-4\" type=\"checkbox\" ><label for=\"sk-estimator-id-4\" class=\"sk-toggleable__label sk-toggleable__label-arrow\">CategoricalImputer</label><div class=\"sk-toggleable__content\"><pre>CategoricalImputer(variables=[&#x27;BsmtExposure&#x27;, &#x27;BsmtFinType1&#x27;, &#x27;GarageFinish&#x27;])</pre></div></div></div><div class=\"sk-item\"><div class=\"sk-estimator sk-toggleable\"><input class=\"sk-toggleable__control sk-hidden--visually\" id=\"sk-estimator-id-5\" type=\"checkbox\" ><label for=\"sk-estimator-id-5\" class=\"sk-toggleable__label sk-toggleable__label-arrow\">OrdinalEncoder</label><div class=\"sk-toggleable__content\"><pre>OrdinalEncoder(encoding_method=&#x27;arbitrary&#x27;,\n",
              "               variables=[&#x27;BsmtExposure&#x27;, &#x27;BsmtFinType1&#x27;, &#x27;GarageFinish&#x27;,\n",
              "                          &#x27;KitchenQual&#x27;])</pre></div></div></div><div class=\"sk-item\"><div class=\"sk-estimator sk-toggleable\"><input class=\"sk-toggleable__control sk-hidden--visually\" id=\"sk-estimator-id-6\" type=\"checkbox\" ><label for=\"sk-estimator-id-6\" class=\"sk-toggleable__label sk-toggleable__label-arrow\">YeoJohnsonTransformer</label><div class=\"sk-toggleable__content\"><pre>YeoJohnsonTransformer(variables=[&#x27;BedroomAbvGr&#x27;, &#x27;GrLivArea&#x27;, &#x27;LotFrontage&#x27;,\n",
              "                                 &#x27;LotArea&#x27;, &#x27;OverallCond&#x27;, &#x27;TotalBsmtSF&#x27;,\n",
              "                                 &#x27;1stFlrSF&#x27;])</pre></div></div></div><div class=\"sk-item\"><div class=\"sk-estimator sk-toggleable\"><input class=\"sk-toggleable__control sk-hidden--visually\" id=\"sk-estimator-id-7\" type=\"checkbox\" ><label for=\"sk-estimator-id-7\" class=\"sk-toggleable__label sk-toggleable__label-arrow\">PowerTransformer</label><div class=\"sk-toggleable__content\"><pre>PowerTransformer(variables=[&#x27;BsmtFinSF1&#x27;, &#x27;BsmtUnfSF&#x27;, &#x27;MasVnrArea&#x27;,\n",
              "                            &#x27;OpenPorchSF&#x27;])</pre></div></div></div><div class=\"sk-item\"><div class=\"sk-estimator sk-toggleable\"><input class=\"sk-toggleable__control sk-hidden--visually\" id=\"sk-estimator-id-8\" type=\"checkbox\" ><label for=\"sk-estimator-id-8\" class=\"sk-toggleable__label sk-toggleable__label-arrow\">SmartCorrelatedSelection</label><div class=\"sk-toggleable__content\"><pre>SmartCorrelatedSelection(method=&#x27;spearman&#x27;, selection_method=&#x27;variance&#x27;,\n",
              "                         threshold=0.7)</pre></div></div></div><div class=\"sk-item\"><div class=\"sk-estimator sk-toggleable\"><input class=\"sk-toggleable__control sk-hidden--visually\" id=\"sk-estimator-id-9\" type=\"checkbox\" ><label for=\"sk-estimator-id-9\" class=\"sk-toggleable__label sk-toggleable__label-arrow\">StandardScaler</label><div class=\"sk-toggleable__content\"><pre>StandardScaler()</pre></div></div></div><div class=\"sk-item sk-dashed-wrapped\"><div class=\"sk-label-container\"><div class=\"sk-label sk-toggleable\"><input class=\"sk-toggleable__control sk-hidden--visually\" id=\"sk-estimator-id-10\" type=\"checkbox\" ><label for=\"sk-estimator-id-10\" class=\"sk-toggleable__label sk-toggleable__label-arrow\">feat_selection: SelectFromModel</label><div class=\"sk-toggleable__content\"><pre>SelectFromModel(estimator=ExtraTreesRegressor(random_state=0))</pre></div></div></div><div class=\"sk-parallel\"><div class=\"sk-parallel-item\"><div class=\"sk-item\"><div class=\"sk-label-container\"><div class=\"sk-label sk-toggleable\"><input class=\"sk-toggleable__control sk-hidden--visually\" id=\"sk-estimator-id-11\" type=\"checkbox\" ><label for=\"sk-estimator-id-11\" class=\"sk-toggleable__label sk-toggleable__label-arrow\">estimator: ExtraTreesRegressor</label><div class=\"sk-toggleable__content\"><pre>ExtraTreesRegressor(random_state=0)</pre></div></div></div><div class=\"sk-serial\"><div class=\"sk-item\"><div class=\"sk-estimator sk-toggleable\"><input class=\"sk-toggleable__control sk-hidden--visually\" id=\"sk-estimator-id-12\" type=\"checkbox\" ><label for=\"sk-estimator-id-12\" class=\"sk-toggleable__label sk-toggleable__label-arrow\">ExtraTreesRegressor</label><div class=\"sk-toggleable__content\"><pre>ExtraTreesRegressor(random_state=0)</pre></div></div></div></div></div></div></div></div><div class=\"sk-item\"><div class=\"sk-estimator sk-toggleable\"><input class=\"sk-toggleable__control sk-hidden--visually\" id=\"sk-estimator-id-13\" type=\"checkbox\" ><label for=\"sk-estimator-id-13\" class=\"sk-toggleable__label sk-toggleable__label-arrow\">ExtraTreesRegressor</label><div class=\"sk-toggleable__content\"><pre>ExtraTreesRegressor(max_depth=20, min_samples_leaf=2, min_samples_split=5,\n",
              "                    n_estimators=200, random_state=0)</pre></div></div></div></div></div></div></div>"
            ],
            "text/plain": [
              "Pipeline(steps=[('num_zero',\n",
              "                 ArbitraryNumberImputer(arbitrary_number=0,\n",
              "                                        variables=['2ndFlrSF', 'MasVnrArea',\n",
              "                                                   'GarageYrBlt'])),\n",
              "                ('num_median',\n",
              "                 MeanMedianImputer(variables=['BedroomAbvGr', 'LotFrontage'])),\n",
              "                ('cat_missing',\n",
              "                 CategoricalImputer(variables=['BsmtExposure', 'BsmtFinType1',\n",
              "                                               'GarageFinish'])),\n",
              "                ('ordinal_encoder',\n",
              "                 OrdinalEncoder(encoding_method='arbitrary...\n",
              "                                             'MasVnrArea', 'OpenPorchSF'])),\n",
              "                ('correlation_filter',\n",
              "                 SmartCorrelatedSelection(method='spearman',\n",
              "                                          selection_method='variance',\n",
              "                                          threshold=0.7)),\n",
              "                ('feat_scaling', StandardScaler()),\n",
              "                ('feat_selection',\n",
              "                 SelectFromModel(estimator=ExtraTreesRegressor(random_state=0))),\n",
              "                ('model',\n",
              "                 ExtraTreesRegressor(max_depth=20, min_samples_leaf=2,\n",
              "                                     min_samples_split=5, n_estimators=200,\n",
              "                                     random_state=0))])"
            ]
          },
          "execution_count": 17,
          "metadata": {},
          "output_type": "execute_result"
        }
      ],
      "source": [
        "best_regressor_pipeline = grid_search_pipelines[best_model].best_estimator_\n",
        "best_regressor_pipeline"
      ]
    },
    {
      "cell_type": "markdown",
      "metadata": {},
      "source": [
        "## Assess feature importance"
      ]
    },
    {
      "cell_type": "markdown",
      "metadata": {},
      "source": [
        "We visualize the top 5 most important features according to the ExtraTreesRegressor model. These are the features that contributed most to predicting house prices.\n",
        "\n",
        "This helps:\n",
        "- Understand what drives model decisions\n",
        "- Align findings with domain knowledge\n",
        "- Potentially drop weak features in future optimization\n",
        "\n",
        "As expected, features like overall quality (`OverallQual`), above-ground living area (`GrLivArea`), and garage size (`GarageArea`) are key contributors.\n"
      ]
    },
    {
      "cell_type": "code",
      "execution_count": 18,
      "metadata": {},
      "outputs": [
        {
          "name": "stdout",
          "output_type": "stream",
          "text": [
            "* These are the 5 most important features in descending order. The model was trained on them: \n",
            "['OverallQual', 'GrLivArea', 'GarageArea', 'TotalBsmtSF', 'YearRemodAdd']\n"
          ]
        },
        {
          "data": {
            "image/png": "[encoded data removed]",
            "text/plain": [
              "<Figure size 640x480 with 1 Axes>"
            ]
          },
          "metadata": {},
          "output_type": "display_data"
        }
      ],
      "source": [
        "import matplotlib.pyplot as plt\n",
        "import seaborn as sns\n",
        "import warnings\n",
        "\n",
        "# Suppress FutureWarnings\n",
        "warnings.filterwarnings(\"ignore\", category=FutureWarning)\n",
        "\n",
        "sns.set_style('whitegrid')\n",
        "\n",
        "data_cleaning_feat_eng_steps = 7 # Number of steps in the pipeline before feature selection\n",
        "columns_after_data_cleaning_feat_eng = (Pipeline(best_regressor_pipeline.steps[:data_cleaning_feat_eng_steps])\n",
        "                                        .transform(X_train)\n",
        "                                        .columns)\n",
        "\n",
        "best_features = columns_after_data_cleaning_feat_eng[best_regressor_pipeline['feat_selection'].get_support(\n",
        ")].to_list()\n",
        "\n",
        "# create DataFrame to display feature importance\n",
        "df_feature_importance = (pd.DataFrame(data={\n",
        "    'Feature': columns_after_data_cleaning_feat_eng[best_regressor_pipeline['feat_selection'].get_support()],\n",
        "    'Importance': best_regressor_pipeline['model'].feature_importances_})\n",
        "    .sort_values(by='Importance', ascending=False)\n",
        ")\n",
        "\n",
        "# Most important features statement and plot\n",
        "print(f\"* These are the {len(best_features)} most important features in descending order. \"\n",
        "      f\"The model was trained on them: \\n{df_feature_importance['Feature'].to_list()}\")\n",
        "\n",
        "df_feature_importance.plot(kind='bar', x='Feature', y='Importance')\n",
        "plt.show()\n"
      ]
    },
    {
      "cell_type": "markdown",
      "metadata": {},
      "source": [
        "From the chart above, we observe that `OverallQual` dominates in importance, indicating that overall construction and finish quality are the strongest indicator of sale price in Ames, Iowa. This insight could also guide further feature selection or transformation in future iterations."
      ]
    },
    {
      "cell_type": "markdown",
      "metadata": {},
      "source": [
        "## Evaluate Regressor on Train and Tests Sets"
      ]
    },
    {
      "cell_type": "code",
      "execution_count": 19,
      "metadata": {},
      "outputs": [],
      "source": [
        "from sklearn.metrics import r2_score, mean_squared_error, mean_absolute_error\n",
        "import numpy as np\n",
        "\n",
        "# Suppress FutureWarnings\n",
        "warnings.filterwarnings(\"ignore\", category=FutureWarning)\n",
        "\n",
        "def regression_performance(X_train, y_train, X_test, y_test, pipeline):\n",
        "    print(\"Model Evaluation \\n\")\n",
        "    print(\"* Train Set\")\n",
        "    regression_evaluation(X_train, y_train, pipeline)\n",
        "    print(\"* Test Set\")\n",
        "    regression_evaluation(X_test, y_test, pipeline)\n",
        "\n",
        "\n",
        "def regression_evaluation(X, y, pipeline):\n",
        "    prediction = pipeline.predict(X)\n",
        "    print('R2 Score:', r2_score(y, prediction).round(3))\n",
        "    print('Mean Absolute Error:', mean_absolute_error(y, prediction).round(3))\n",
        "    print('Mean Squared Error:', mean_squared_error(y, prediction).round(3))\n",
        "    print('Root Mean Squared Error:', np.sqrt(\n",
        "        mean_squared_error(y, prediction)).round(3))\n",
        "    print(\"\\n\")\n",
        "\n",
        "\n",
        "def regression_evaluation_plots(X_train, y_train, X_test, y_test, pipeline, alpha_scatter=0.5):\n",
        "    pred_train = pipeline.predict(X_train)\n",
        "    pred_test = pipeline.predict(X_test)\n",
        "\n",
        "    fig, axes = plt.subplots(nrows=1, ncols=2, figsize=(12, 6))\n",
        "    sns.scatterplot(x=y_train, y=pred_train, alpha=alpha_scatter, ax=axes[0])\n",
        "    sns.lineplot(x=y_train, y=y_train, color='red', ax=axes[0])\n",
        "    axes[0].set_xlabel(\"Actual\")\n",
        "    axes[0].set_ylabel(\"Predictions\")\n",
        "    axes[0].set_title(\"Train Set\")\n",
        "\n",
        "    sns.scatterplot(x=y_test, y=pred_test, alpha=alpha_scatter, ax=axes[1])\n",
        "    sns.lineplot(x=y_test, y=y_test, color='red', ax=axes[1])\n",
        "    axes[1].set_xlabel(\"Actual\")\n",
        "    axes[1].set_ylabel(\"Predictions\")\n",
        "    axes[1].set_title(\"Test Set\")\n",
        "\n",
        "    plt.show()\n"
      ]
    },
    {
      "cell_type": "markdown",
      "metadata": {},
      "source": [
        "Evaluate Performance"
      ]
    },
    {
      "cell_type": "code",
      "execution_count": 20,
      "metadata": {},
      "outputs": [
        {
          "name": "stdout",
          "output_type": "stream",
          "text": [
            "Model Evaluation \n",
            "\n",
            "* Train Set\n",
            "R2 Score: 0.955\n",
            "Mean Absolute Error: 10588.573\n",
            "Mean Squared Error: 279262076.064\n",
            "Root Mean Squared Error: 16711.136\n",
            "\n",
            "\n",
            "* Test Set\n",
            "R2 Score: 0.841\n",
            "Mean Absolute Error: 19974.215\n",
            "Mean Squared Error: 1098375372.574\n",
            "Root Mean Squared Error: 33141.747\n",
            "\n",
            "\n"
          ]
        },
        {
          "data": {
            "image/png": "[encoded data removed]",
            "text/plain": [
              "<Figure size 1200x600 with 2 Axes>"
            ]
          },
          "metadata": {},
          "output_type": "display_data"
        }
      ],
      "source": [
        "regression_performance(X_train, y_train, X_test, y_test,best_regressor_pipeline)\n",
        "regression_evaluation_plots(X_train, y_train, X_test, y_test,\n",
        "                            best_regressor_pipeline)"
      ]
    },
    {
      "cell_type": "markdown",
      "metadata": {},
      "source": [
        "# Refit a Simpler Pipeline with Only Top Features\n",
        "\n",
        "We rebuild the pipeline using only the most important features to evaluate performance and interpretability trade-offs. This helps simplify the model without sacrificing too much accuracy.\n"
      ]
    },
    {
      "cell_type": "markdown",
      "metadata": {},
      "source": [
        "## Rewrite Pipeline"
      ]
    },
    {
      "cell_type": "code",
      "execution_count": 21,
      "metadata": {},
      "outputs": [],
      "source": [
        "def PipelineOptimization(model):\n",
        "    yeojohnson_transform = ['TotalBsmtSF','GrLivArea']\n",
        "\n",
        "    pipeline = Pipeline([\n",
        "        (\"yeojohnson\", YeoJohnsonTransformer(variables=yeojohnson_transform)),\n",
        "        \n",
        "        (\"feat_scaling\", StandardScaler()),\n",
        "\n",
        "        (\"model\", model),\n",
        "    ])\n",
        "\n",
        "    return pipeline"
      ]
    },
    {
      "cell_type": "markdown",
      "metadata": {},
      "source": [
        "## Split Train Test Set, only with best features"
      ]
    },
    {
      "cell_type": "code",
      "execution_count": 22,
      "metadata": {},
      "outputs": [
        {
          "name": "stdout",
          "output_type": "stream",
          "text": [
            "* Train set: (1168, 21) (1168,) \n",
            "* Test set: (292, 21) (292,)\n"
          ]
        }
      ],
      "source": [
        "X_train, X_test, y_train, y_test = train_test_split(\n",
        "    df.drop(['SalePrice'], axis=1),\n",
        "    df['SalePrice'],\n",
        "    test_size=0.2,\n",
        "    random_state=0\n",
        ")\n",
        "\n",
        "print(\"* Train set:\", X_train.shape, y_train.shape,\n",
        "      \"\\n* Test set:\",  X_test.shape, y_test.shape)\n"
      ]
    },
    {
      "cell_type": "markdown",
      "metadata": {},
      "source": [
        "### Subset Best Features\n",
        "\n",
        "We now limit the dataset to only the top 5 most important features (from the previous ExtraTrees model). This lets us test how much performance is retained with fewer predictors."
      ]
    },
    {
      "cell_type": "code",
      "execution_count": 23,
      "metadata": {},
      "outputs": [
        {
          "name": "stdout",
          "output_type": "stream",
          "text": [
            "* Train set: (1168, 5) (1168,) \n",
            "* Test set: (292, 5) (292,)\n"
          ]
        },
        {
          "data": {
            "application/vnd.microsoft.datawrangler.viewer.v0+json": {
              "columns": [
                {
                  "name": "index",
                  "rawType": "int64",
                  "type": "integer"
                },
                {
                  "name": "GarageArea",
                  "rawType": "int64",
                  "type": "integer"
                },
                {
                  "name": "GrLivArea",
                  "rawType": "int64",
                  "type": "integer"
                },
                {
                  "name": "OverallQual",
                  "rawType": "int64",
                  "type": "integer"
                },
                {
                  "name": "TotalBsmtSF",
                  "rawType": "int64",
                  "type": "integer"
                },
                {
                  "name": "YearRemodAdd",
                  "rawType": "int64",
                  "type": "integer"
                }
              ],
              "conversionMethod": "pd.DataFrame",
              "ref": "7e8a878d-603c-46c3-a76b-0805e89a8986",
              "rows": [
                [
                  "618",
                  "774",
                  "1828",
                  "9",
                  "1822",
                  "2007"
                ],
                [
                  "870",
                  "308",
                  "894",
                  "5",
                  "894",
                  "1962"
                ],
                [
                  "92",
                  "432",
                  "964",
                  "5",
                  "876",
                  "2006"
                ]
              ],
              "shape": {
                "columns": 5,
                "rows": 3
              }
            },
            "text/html": [
              "<div>\n",
              "<style scoped>\n",
              "    .dataframe tbody tr th:only-of-type {\n",
              "        vertical-align: middle;\n",
              "    }\n",
              "\n",
              "    .dataframe tbody tr th {\n",
              "        vertical-align: top;\n",
              "    }\n",
              "\n",
              "    .dataframe thead th {\n",
              "        text-align: right;\n",
              "    }\n",
              "</style>\n",
              "<table border=\"1\" class=\"dataframe\">\n",
              "  <thead>\n",
              "    <tr style=\"text-align: right;\">\n",
              "      <th></th>\n",
              "      <th>GarageArea</th>\n",
              "      <th>GrLivArea</th>\n",
              "      <th>OverallQual</th>\n",
              "      <th>TotalBsmtSF</th>\n",
              "      <th>YearRemodAdd</th>\n",
              "    </tr>\n",
              "  </thead>\n",
              "  <tbody>\n",
              "    <tr>\n",
              "      <th>618</th>\n",
              "      <td>774</td>\n",
              "      <td>1828</td>\n",
              "      <td>9</td>\n",
              "      <td>1822</td>\n",
              "      <td>2007</td>\n",
              "    </tr>\n",
              "    <tr>\n",
              "      <th>870</th>\n",
              "      <td>308</td>\n",
              "      <td>894</td>\n",
              "      <td>5</td>\n",
              "      <td>894</td>\n",
              "      <td>1962</td>\n",
              "    </tr>\n",
              "    <tr>\n",
              "      <th>92</th>\n",
              "      <td>432</td>\n",
              "      <td>964</td>\n",
              "      <td>5</td>\n",
              "      <td>876</td>\n",
              "      <td>2006</td>\n",
              "    </tr>\n",
              "  </tbody>\n",
              "</table>\n",
              "</div>"
            ],
            "text/plain": [
              "     GarageArea  GrLivArea  OverallQual  TotalBsmtSF  YearRemodAdd\n",
              "618         774       1828            9         1822          2007\n",
              "870         308        894            5          894          1962\n",
              "92          432        964            5          876          2006"
            ]
          },
          "execution_count": 23,
          "metadata": {},
          "output_type": "execute_result"
        }
      ],
      "source": [
        "X_train = X_train[best_features]\n",
        "X_test = X_test[best_features]\n",
        "\n",
        "print(\"* Train set:\", X_train.shape, y_train.shape, \"\\n* Test set:\", X_test.shape, y_test.shape)\n",
        "X_train.head(3)"
      ]
    },
    {
      "cell_type": "markdown",
      "metadata": {},
      "source": [
        "## Grid Search CV – Sklearn"
      ]
    },
    {
      "cell_type": "markdown",
      "metadata": {},
      "source": [
        "We are using the same model from the previous GridCV search"
      ]
    },
    {
      "cell_type": "code",
      "execution_count": 24,
      "metadata": {},
      "outputs": [
        {
          "data": {
            "text/plain": [
              "'ExtraTreesRegressor'"
            ]
          },
          "execution_count": 24,
          "metadata": {},
          "output_type": "execute_result"
        }
      ],
      "source": [
        "best_model"
      ]
    },
    {
      "cell_type": "markdown",
      "metadata": {},
      "source": [
        "And we are gonna check for the best parameters just as in the previous GridCV search"
      ]
    },
    {
      "cell_type": "code",
      "execution_count": 25,
      "metadata": {},
      "outputs": [
        {
          "data": {
            "text/plain": [
              "{'model__max_depth': 20,\n",
              " 'model__min_samples_leaf': 2,\n",
              " 'model__min_samples_split': 5,\n",
              " 'model__n_estimators': 200}"
            ]
          },
          "execution_count": 25,
          "metadata": {},
          "output_type": "execute_result"
        }
      ],
      "source": [
        "best_parameters"
      ]
    },
    {
      "cell_type": "markdown",
      "metadata": {},
      "source": [
        "### Define Hyperparameter Grid for Top 5 Features\n",
        "\n",
        "This cell defines the hyperparameter grid (`params_top5`) for the `ExtraTreesRegressor` model, which was identified as the best-performing model in the previous grid search.\n",
        "\n",
        "These hyperparameters will be used in a new grid search to optimize the model's performance when trained on the top 5 most important features. This step ensures that the model is fine-tuned for the reduced feature set."
      ]
    },
    {
      "cell_type": "code",
      "execution_count": 26,
      "metadata": {},
      "outputs": [
        {
          "data": {
            "text/plain": [
              "{'ExtraTreesRegressor': {'model__n_estimators': [100, 200],\n",
              "  'model__max_depth': [10, 20],\n",
              "  'model__min_samples_split': [2, 5],\n",
              "  'model__min_samples_leaf': [1, 2]}}"
            ]
          },
          "execution_count": 26,
          "metadata": {},
          "output_type": "execute_result"
        }
      ],
      "source": [
        "params_top5 = {\n",
        "    \"ExtraTreesRegressor\": {\n",
        "        'model__n_estimators': [100, 200],\n",
        "        'model__max_depth': [10, 20],\n",
        "        'model__min_samples_split': [2, 5],\n",
        "        'model__min_samples_leaf': [1, 2],\n",
        "    }\n",
        "}\n",
        "params_top5"
      ]
    },
    {
      "cell_type": "markdown",
      "metadata": {
        "vscode": {
          "languageId": "bat"
        }
      },
      "source": [
        "### Perform Hyperparameter Optimization for Top 5 Features\n",
        "\n",
        "The results of the grid search will help identify the best hyperparameter configuration for the `ExtraTreesRegressor` model when trained on the reduced feature set."
      ]
    },
    {
      "cell_type": "code",
      "execution_count": 27,
      "metadata": {},
      "outputs": [
        {
          "data": {
            "application/vnd.microsoft.datawrangler.viewer.v0+json": {
              "columns": [
                {
                  "name": "index",
                  "rawType": "int64",
                  "type": "integer"
                },
                {
                  "name": "GarageArea",
                  "rawType": "int64",
                  "type": "integer"
                },
                {
                  "name": "GrLivArea",
                  "rawType": "int64",
                  "type": "integer"
                },
                {
                  "name": "OverallQual",
                  "rawType": "int64",
                  "type": "integer"
                },
                {
                  "name": "TotalBsmtSF",
                  "rawType": "int64",
                  "type": "integer"
                },
                {
                  "name": "YearRemodAdd",
                  "rawType": "int64",
                  "type": "integer"
                }
              ],
              "conversionMethod": "pd.DataFrame",
              "ref": "3c559702-2602-4c38-b368-40c6d6126a33",
              "rows": [
                [
                  "618",
                  "774",
                  "1828",
                  "9",
                  "1822",
                  "2007"
                ],
                [
                  "870",
                  "308",
                  "894",
                  "5",
                  "894",
                  "1962"
                ],
                [
                  "92",
                  "432",
                  "964",
                  "5",
                  "876",
                  "2006"
                ]
              ],
              "shape": {
                "columns": 5,
                "rows": 3
              }
            },
            "text/html": [
              "<div>\n",
              "<style scoped>\n",
              "    .dataframe tbody tr th:only-of-type {\n",
              "        vertical-align: middle;\n",
              "    }\n",
              "\n",
              "    .dataframe tbody tr th {\n",
              "        vertical-align: top;\n",
              "    }\n",
              "\n",
              "    .dataframe thead th {\n",
              "        text-align: right;\n",
              "    }\n",
              "</style>\n",
              "<table border=\"1\" class=\"dataframe\">\n",
              "  <thead>\n",
              "    <tr style=\"text-align: right;\">\n",
              "      <th></th>\n",
              "      <th>GarageArea</th>\n",
              "      <th>GrLivArea</th>\n",
              "      <th>OverallQual</th>\n",
              "      <th>TotalBsmtSF</th>\n",
              "      <th>YearRemodAdd</th>\n",
              "    </tr>\n",
              "  </thead>\n",
              "  <tbody>\n",
              "    <tr>\n",
              "      <th>618</th>\n",
              "      <td>774</td>\n",
              "      <td>1828</td>\n",
              "      <td>9</td>\n",
              "      <td>1822</td>\n",
              "      <td>2007</td>\n",
              "    </tr>\n",
              "    <tr>\n",
              "      <th>870</th>\n",
              "      <td>308</td>\n",
              "      <td>894</td>\n",
              "      <td>5</td>\n",
              "      <td>894</td>\n",
              "      <td>1962</td>\n",
              "    </tr>\n",
              "    <tr>\n",
              "      <th>92</th>\n",
              "      <td>432</td>\n",
              "      <td>964</td>\n",
              "      <td>5</td>\n",
              "      <td>876</td>\n",
              "      <td>2006</td>\n",
              "    </tr>\n",
              "  </tbody>\n",
              "</table>\n",
              "</div>"
            ],
            "text/plain": [
              "     GarageArea  GrLivArea  OverallQual  TotalBsmtSF  YearRemodAdd\n",
              "618         774       1828            9         1822          2007\n",
              "870         308        894            5          894          1962\n",
              "92          432        964            5          876          2006"
            ]
          },
          "execution_count": 27,
          "metadata": {},
          "output_type": "execute_result"
        }
      ],
      "source": [
        "X_train.head(3)"
      ]
    },
    {
      "cell_type": "code",
      "execution_count": 28,
      "metadata": {},
      "outputs": [
        {
          "name": "stdout",
          "output_type": "stream",
          "text": [
            "Columns in X_train: ['GarageArea', 'GrLivArea', 'OverallQual', 'TotalBsmtSF', 'YearRemodAdd']\n"
          ]
        }
      ],
      "source": [
        "print(\"Columns in X_train:\", X_train.columns.tolist())\n"
      ]
    },
    {
      "cell_type": "code",
      "execution_count": 29,
      "metadata": {},
      "outputs": [
        {
          "name": "stdout",
          "output_type": "stream",
          "text": [
            "\n",
            "Running GridSearchCV for ExtraTreesRegressor \n",
            "\n",
            "Fitting 5 folds for each of 16 candidates, totalling 80 fits\n"
          ]
        }
      ],
      "source": [
        "models_top5 = {\n",
        "    \"ExtraTreesRegressor\": ExtraTreesRegressor(random_state=0)\n",
        "    }\n",
        "\n",
        "search = HyperparameterOptimizationSearch(models=models_top5, params=params_top5)\n",
        "search.fit(X_train, y_train,\n",
        "                 scoring='r2',\n",
        "                 n_jobs=-1,\n",
        "                 cv=5)"
      ]
    },
    {
      "cell_type": "markdown",
      "metadata": {},
      "source": [
        "View Results and Select Best Pipeline"
      ]
    },
    {
      "cell_type": "code",
      "execution_count": 30,
      "metadata": {},
      "outputs": [
        {
          "data": {
            "application/vnd.microsoft.datawrangler.viewer.v0+json": {
              "columns": [
                {
                  "name": "index",
                  "rawType": "int64",
                  "type": "integer"
                },
                {
                  "name": "estimator",
                  "rawType": "object",
                  "type": "string"
                },
                {
                  "name": "min_score",
                  "rawType": "object",
                  "type": "unknown"
                },
                {
                  "name": "mean_score",
                  "rawType": "object",
                  "type": "unknown"
                },
                {
                  "name": "max_score",
                  "rawType": "object",
                  "type": "unknown"
                },
                {
                  "name": "std_score",
                  "rawType": "object",
                  "type": "unknown"
                },
                {
                  "name": "model__max_depth",
                  "rawType": "object",
                  "type": "unknown"
                },
                {
                  "name": "model__min_samples_leaf",
                  "rawType": "object",
                  "type": "unknown"
                },
                {
                  "name": "model__min_samples_split",
                  "rawType": "object",
                  "type": "unknown"
                },
                {
                  "name": "model__n_estimators",
                  "rawType": "object",
                  "type": "unknown"
                }
              ],
              "conversionMethod": "pd.DataFrame",
              "ref": "cdd0f936-f2da-4744-9648-121346ca2b7b",
              "rows": [
                [
                  "6",
                  "ExtraTreesRegressor",
                  "0.7511304549215141",
                  "0.8321126119141254",
                  "0.8694722074853036",
                  "0.044290891902893065",
                  "10",
                  "2",
                  "5",
                  "100"
                ],
                [
                  "7",
                  "ExtraTreesRegressor",
                  "0.7504722225950988",
                  "0.8320913596319176",
                  "0.869217043554631",
                  "0.044444911072573666",
                  "10",
                  "2",
                  "5",
                  "200"
                ],
                [
                  "15",
                  "ExtraTreesRegressor",
                  "0.7515462299765702",
                  "0.8315484345807954",
                  "0.8705472265066085",
                  "0.04462560576080175",
                  "20",
                  "2",
                  "5",
                  "200"
                ],
                [
                  "5",
                  "ExtraTreesRegressor",
                  "0.7458282611668683",
                  "0.830477979360775",
                  "0.8691401205381308",
                  "0.045726531643702925",
                  "10",
                  "2",
                  "2",
                  "200"
                ],
                [
                  "14",
                  "ExtraTreesRegressor",
                  "0.7498612933155375",
                  "0.8297322975652172",
                  "0.8706717512191974",
                  "0.045317674261477724",
                  "20",
                  "2",
                  "5",
                  "100"
                ],
                [
                  "4",
                  "ExtraTreesRegressor",
                  "0.7441455062844642",
                  "0.8289903239297759",
                  "0.8682511627843538",
                  "0.04578554075946984",
                  "10",
                  "2",
                  "2",
                  "100"
                ],
                [
                  "13",
                  "ExtraTreesRegressor",
                  "0.7479729165248328",
                  "0.8286310415992577",
                  "0.8701692980375675",
                  "0.04505331094668528",
                  "20",
                  "2",
                  "2",
                  "200"
                ],
                [
                  "12",
                  "ExtraTreesRegressor",
                  "0.7480536889033536",
                  "0.8266647582962363",
                  "0.8684982105218433",
                  "0.04467099293363193",
                  "20",
                  "2",
                  "2",
                  "100"
                ],
                [
                  "10",
                  "ExtraTreesRegressor",
                  "0.7127724230706611",
                  "0.8262320549157149",
                  "0.8725113763433407",
                  "0.058680103042992815",
                  "20",
                  "1",
                  "5",
                  "100"
                ],
                [
                  "3",
                  "ExtraTreesRegressor",
                  "0.7166612973611735",
                  "0.8253072137848715",
                  "0.8692218497174439",
                  "0.05631724193051129",
                  "10",
                  "1",
                  "5",
                  "200"
                ],
                [
                  "11",
                  "ExtraTreesRegressor",
                  "0.7136467961935302",
                  "0.824400378659355",
                  "0.870743044521514",
                  "0.05792071384508998",
                  "20",
                  "1",
                  "5",
                  "200"
                ],
                [
                  "2",
                  "ExtraTreesRegressor",
                  "0.7086878020380136",
                  "0.8229738467675303",
                  "0.8697500416812018",
                  "0.05961263403645962",
                  "10",
                  "1",
                  "5",
                  "100"
                ],
                [
                  "1",
                  "ExtraTreesRegressor",
                  "0.6995886387435719",
                  "0.8204258042868865",
                  "0.8670714187800428",
                  "0.06268842540063381",
                  "10",
                  "1",
                  "2",
                  "200"
                ],
                [
                  "0",
                  "ExtraTreesRegressor",
                  "0.6896343324862136",
                  "0.8188270368596436",
                  "0.8679955941960515",
                  "0.06647293447926246",
                  "10",
                  "1",
                  "2",
                  "100"
                ],
                [
                  "9",
                  "ExtraTreesRegressor",
                  "0.6820476663380624",
                  "0.8162957627116679",
                  "0.867037022508903",
                  "0.06830919014461329",
                  "20",
                  "1",
                  "2",
                  "200"
                ],
                [
                  "8",
                  "ExtraTreesRegressor",
                  "0.6860630520286589",
                  "0.8157516746674698",
                  "0.8630026162288984",
                  "0.06599738160606398",
                  "20",
                  "1",
                  "2",
                  "100"
                ]
              ],
              "shape": {
                "columns": 9,
                "rows": 16
              }
            },
            "text/html": [
              "<div>\n",
              "<style scoped>\n",
              "    .dataframe tbody tr th:only-of-type {\n",
              "        vertical-align: middle;\n",
              "    }\n",
              "\n",
              "    .dataframe tbody tr th {\n",
              "        vertical-align: top;\n",
              "    }\n",
              "\n",
              "    .dataframe thead th {\n",
              "        text-align: right;\n",
              "    }\n",
              "</style>\n",
              "<table border=\"1\" class=\"dataframe\">\n",
              "  <thead>\n",
              "    <tr style=\"text-align: right;\">\n",
              "      <th></th>\n",
              "      <th>estimator</th>\n",
              "      <th>min_score</th>\n",
              "      <th>mean_score</th>\n",
              "      <th>max_score</th>\n",
              "      <th>std_score</th>\n",
              "      <th>model__max_depth</th>\n",
              "      <th>model__min_samples_leaf</th>\n",
              "      <th>model__min_samples_split</th>\n",
              "      <th>model__n_estimators</th>\n",
              "    </tr>\n",
              "  </thead>\n",
              "  <tbody>\n",
              "    <tr>\n",
              "      <th>6</th>\n",
              "      <td>ExtraTreesRegressor</td>\n",
              "      <td>0.75113</td>\n",
              "      <td>0.832113</td>\n",
              "      <td>0.869472</td>\n",
              "      <td>0.044291</td>\n",
              "      <td>10</td>\n",
              "      <td>2</td>\n",
              "      <td>5</td>\n",
              "      <td>100</td>\n",
              "    </tr>\n",
              "    <tr>\n",
              "      <th>7</th>\n",
              "      <td>ExtraTreesRegressor</td>\n",
              "      <td>0.750472</td>\n",
              "      <td>0.832091</td>\n",
              "      <td>0.869217</td>\n",
              "      <td>0.044445</td>\n",
              "      <td>10</td>\n",
              "      <td>2</td>\n",
              "      <td>5</td>\n",
              "      <td>200</td>\n",
              "    </tr>\n",
              "    <tr>\n",
              "      <th>15</th>\n",
              "      <td>ExtraTreesRegressor</td>\n",
              "      <td>0.751546</td>\n",
              "      <td>0.831548</td>\n",
              "      <td>0.870547</td>\n",
              "      <td>0.044626</td>\n",
              "      <td>20</td>\n",
              "      <td>2</td>\n",
              "      <td>5</td>\n",
              "      <td>200</td>\n",
              "    </tr>\n",
              "    <tr>\n",
              "      <th>5</th>\n",
              "      <td>ExtraTreesRegressor</td>\n",
              "      <td>0.745828</td>\n",
              "      <td>0.830478</td>\n",
              "      <td>0.86914</td>\n",
              "      <td>0.045727</td>\n",
              "      <td>10</td>\n",
              "      <td>2</td>\n",
              "      <td>2</td>\n",
              "      <td>200</td>\n",
              "    </tr>\n",
              "    <tr>\n",
              "      <th>14</th>\n",
              "      <td>ExtraTreesRegressor</td>\n",
              "      <td>0.749861</td>\n",
              "      <td>0.829732</td>\n",
              "      <td>0.870672</td>\n",
              "      <td>0.045318</td>\n",
              "      <td>20</td>\n",
              "      <td>2</td>\n",
              "      <td>5</td>\n",
              "      <td>100</td>\n",
              "    </tr>\n",
              "    <tr>\n",
              "      <th>4</th>\n",
              "      <td>ExtraTreesRegressor</td>\n",
              "      <td>0.744146</td>\n",
              "      <td>0.82899</td>\n",
              "      <td>0.868251</td>\n",
              "      <td>0.045786</td>\n",
              "      <td>10</td>\n",
              "      <td>2</td>\n",
              "      <td>2</td>\n",
              "      <td>100</td>\n",
              "    </tr>\n",
              "    <tr>\n",
              "      <th>13</th>\n",
              "      <td>ExtraTreesRegressor</td>\n",
              "      <td>0.747973</td>\n",
              "      <td>0.828631</td>\n",
              "      <td>0.870169</td>\n",
              "      <td>0.045053</td>\n",
              "      <td>20</td>\n",
              "      <td>2</td>\n",
              "      <td>2</td>\n",
              "      <td>200</td>\n",
              "    </tr>\n",
              "    <tr>\n",
              "      <th>12</th>\n",
              "      <td>ExtraTreesRegressor</td>\n",
              "      <td>0.748054</td>\n",
              "      <td>0.826665</td>\n",
              "      <td>0.868498</td>\n",
              "      <td>0.044671</td>\n",
              "      <td>20</td>\n",
              "      <td>2</td>\n",
              "      <td>2</td>\n",
              "      <td>100</td>\n",
              "    </tr>\n",
              "    <tr>\n",
              "      <th>10</th>\n",
              "      <td>ExtraTreesRegressor</td>\n",
              "      <td>0.712772</td>\n",
              "      <td>0.826232</td>\n",
              "      <td>0.872511</td>\n",
              "      <td>0.05868</td>\n",
              "      <td>20</td>\n",
              "      <td>1</td>\n",
              "      <td>5</td>\n",
              "      <td>100</td>\n",
              "    </tr>\n",
              "    <tr>\n",
              "      <th>3</th>\n",
              "      <td>ExtraTreesRegressor</td>\n",
              "      <td>0.716661</td>\n",
              "      <td>0.825307</td>\n",
              "      <td>0.869222</td>\n",
              "      <td>0.056317</td>\n",
              "      <td>10</td>\n",
              "      <td>1</td>\n",
              "      <td>5</td>\n",
              "      <td>200</td>\n",
              "    </tr>\n",
              "    <tr>\n",
              "      <th>11</th>\n",
              "      <td>ExtraTreesRegressor</td>\n",
              "      <td>0.713647</td>\n",
              "      <td>0.8244</td>\n",
              "      <td>0.870743</td>\n",
              "      <td>0.057921</td>\n",
              "      <td>20</td>\n",
              "      <td>1</td>\n",
              "      <td>5</td>\n",
              "      <td>200</td>\n",
              "    </tr>\n",
              "    <tr>\n",
              "      <th>2</th>\n",
              "      <td>ExtraTreesRegressor</td>\n",
              "      <td>0.708688</td>\n",
              "      <td>0.822974</td>\n",
              "      <td>0.86975</td>\n",
              "      <td>0.059613</td>\n",
              "      <td>10</td>\n",
              "      <td>1</td>\n",
              "      <td>5</td>\n",
              "      <td>100</td>\n",
              "    </tr>\n",
              "    <tr>\n",
              "      <th>1</th>\n",
              "      <td>ExtraTreesRegressor</td>\n",
              "      <td>0.699589</td>\n",
              "      <td>0.820426</td>\n",
              "      <td>0.867071</td>\n",
              "      <td>0.062688</td>\n",
              "      <td>10</td>\n",
              "      <td>1</td>\n",
              "      <td>2</td>\n",
              "      <td>200</td>\n",
              "    </tr>\n",
              "    <tr>\n",
              "      <th>0</th>\n",
              "      <td>ExtraTreesRegressor</td>\n",
              "      <td>0.689634</td>\n",
              "      <td>0.818827</td>\n",
              "      <td>0.867996</td>\n",
              "      <td>0.066473</td>\n",
              "      <td>10</td>\n",
              "      <td>1</td>\n",
              "      <td>2</td>\n",
              "      <td>100</td>\n",
              "    </tr>\n",
              "    <tr>\n",
              "      <th>9</th>\n",
              "      <td>ExtraTreesRegressor</td>\n",
              "      <td>0.682048</td>\n",
              "      <td>0.816296</td>\n",
              "      <td>0.867037</td>\n",
              "      <td>0.068309</td>\n",
              "      <td>20</td>\n",
              "      <td>1</td>\n",
              "      <td>2</td>\n",
              "      <td>200</td>\n",
              "    </tr>\n",
              "    <tr>\n",
              "      <th>8</th>\n",
              "      <td>ExtraTreesRegressor</td>\n",
              "      <td>0.686063</td>\n",
              "      <td>0.815752</td>\n",
              "      <td>0.863003</td>\n",
              "      <td>0.065997</td>\n",
              "      <td>20</td>\n",
              "      <td>1</td>\n",
              "      <td>2</td>\n",
              "      <td>100</td>\n",
              "    </tr>\n",
              "  </tbody>\n",
              "</table>\n",
              "</div>"
            ],
            "text/plain": [
              "              estimator min_score mean_score max_score std_score  \\\n",
              "6   ExtraTreesRegressor   0.75113   0.832113  0.869472  0.044291   \n",
              "7   ExtraTreesRegressor  0.750472   0.832091  0.869217  0.044445   \n",
              "15  ExtraTreesRegressor  0.751546   0.831548  0.870547  0.044626   \n",
              "5   ExtraTreesRegressor  0.745828   0.830478   0.86914  0.045727   \n",
              "14  ExtraTreesRegressor  0.749861   0.829732  0.870672  0.045318   \n",
              "4   ExtraTreesRegressor  0.744146    0.82899  0.868251  0.045786   \n",
              "13  ExtraTreesRegressor  0.747973   0.828631  0.870169  0.045053   \n",
              "12  ExtraTreesRegressor  0.748054   0.826665  0.868498  0.044671   \n",
              "10  ExtraTreesRegressor  0.712772   0.826232  0.872511   0.05868   \n",
              "3   ExtraTreesRegressor  0.716661   0.825307  0.869222  0.056317   \n",
              "11  ExtraTreesRegressor  0.713647     0.8244  0.870743  0.057921   \n",
              "2   ExtraTreesRegressor  0.708688   0.822974   0.86975  0.059613   \n",
              "1   ExtraTreesRegressor  0.699589   0.820426  0.867071  0.062688   \n",
              "0   ExtraTreesRegressor  0.689634   0.818827  0.867996  0.066473   \n",
              "9   ExtraTreesRegressor  0.682048   0.816296  0.867037  0.068309   \n",
              "8   ExtraTreesRegressor  0.686063   0.815752  0.863003  0.065997   \n",
              "\n",
              "   model__max_depth model__min_samples_leaf model__min_samples_split  \\\n",
              "6                10                       2                        5   \n",
              "7                10                       2                        5   \n",
              "15               20                       2                        5   \n",
              "5                10                       2                        2   \n",
              "14               20                       2                        5   \n",
              "4                10                       2                        2   \n",
              "13               20                       2                        2   \n",
              "12               20                       2                        2   \n",
              "10               20                       1                        5   \n",
              "3                10                       1                        5   \n",
              "11               20                       1                        5   \n",
              "2                10                       1                        5   \n",
              "1                10                       1                        2   \n",
              "0                10                       1                        2   \n",
              "9                20                       1                        2   \n",
              "8                20                       1                        2   \n",
              "\n",
              "   model__n_estimators  \n",
              "6                  100  \n",
              "7                  200  \n",
              "15                 200  \n",
              "5                  200  \n",
              "14                 100  \n",
              "4                  100  \n",
              "13                 200  \n",
              "12                 100  \n",
              "10                 100  \n",
              "3                  200  \n",
              "11                 200  \n",
              "2                  100  \n",
              "1                  200  \n",
              "0                  100  \n",
              "9                  200  \n",
              "8                  100  "
            ]
          },
          "execution_count": 30,
          "metadata": {},
          "output_type": "execute_result"
        }
      ],
      "source": [
        "grid_search_summary, grid_search_pipelines = search.score_summary(sort_by='mean_score')\n",
        "grid_search_summary"
      ]
    },
    {
      "cell_type": "markdown",
      "metadata": {},
      "source": [
        "Check the best model"
      ]
    },
    {
      "cell_type": "code",
      "execution_count": 31,
      "metadata": {},
      "outputs": [
        {
          "data": {
            "text/html": [
              "<style>#sk-container-id-2 {color: black;}#sk-container-id-2 pre{padding: 0;}#sk-container-id-2 div.sk-toggleable {background-color: white;}#sk-container-id-2 label.sk-toggleable__label {cursor: pointer;display: block;width: 100%;margin-bottom: 0;padding: 0.3em;box-sizing: border-box;text-align: center;}#sk-container-id-2 label.sk-toggleable__label-arrow:before {content: \"▸\";float: left;margin-right: 0.25em;color: #696969;}#sk-container-id-2 label.sk-toggleable__label-arrow:hover:before {color: black;}#sk-container-id-2 div.sk-estimator:hover label.sk-toggleable__label-arrow:before {color: black;}#sk-container-id-2 div.sk-toggleable__content {max-height: 0;max-width: 0;overflow: hidden;text-align: left;background-color: #f0f8ff;}#sk-container-id-2 div.sk-toggleable__content pre {margin: 0.2em;color: black;border-radius: 0.25em;background-color: #f0f8ff;}#sk-container-id-2 input.sk-toggleable__control:checked~div.sk-toggleable__content {max-height: 200px;max-width: 100%;overflow: auto;}#sk-container-id-2 input.sk-toggleable__control:checked~label.sk-toggleable__label-arrow:before {content: \"▾\";}#sk-container-id-2 div.sk-estimator input.sk-toggleable__control:checked~label.sk-toggleable__label {background-color: #d4ebff;}#sk-container-id-2 div.sk-label input.sk-toggleable__control:checked~label.sk-toggleable__label {background-color: #d4ebff;}#sk-container-id-2 input.sk-hidden--visually {border: 0;clip: rect(1px 1px 1px 1px);clip: rect(1px, 1px, 1px, 1px);height: 1px;margin: -1px;overflow: hidden;padding: 0;position: absolute;width: 1px;}#sk-container-id-2 div.sk-estimator {font-family: monospace;background-color: #f0f8ff;border: 1px dotted black;border-radius: 0.25em;box-sizing: border-box;margin-bottom: 0.5em;}#sk-container-id-2 div.sk-estimator:hover {background-color: #d4ebff;}#sk-container-id-2 div.sk-parallel-item::after {content: \"\";width: 100%;border-bottom: 1px solid gray;flex-grow: 1;}#sk-container-id-2 div.sk-label:hover label.sk-toggleable__label {background-color: #d4ebff;}#sk-container-id-2 div.sk-serial::before {content: \"\";position: absolute;border-left: 1px solid gray;box-sizing: border-box;top: 0;bottom: 0;left: 50%;z-index: 0;}#sk-container-id-2 div.sk-serial {display: flex;flex-direction: column;align-items: center;background-color: white;padding-right: 0.2em;padding-left: 0.2em;position: relative;}#sk-container-id-2 div.sk-item {position: relative;z-index: 1;}#sk-container-id-2 div.sk-parallel {display: flex;align-items: stretch;justify-content: center;background-color: white;position: relative;}#sk-container-id-2 div.sk-item::before, #sk-container-id-2 div.sk-parallel-item::before {content: \"\";position: absolute;border-left: 1px solid gray;box-sizing: border-box;top: 0;bottom: 0;left: 50%;z-index: -1;}#sk-container-id-2 div.sk-parallel-item {display: flex;flex-direction: column;z-index: 1;position: relative;background-color: white;}#sk-container-id-2 div.sk-parallel-item:first-child::after {align-self: flex-end;width: 50%;}#sk-container-id-2 div.sk-parallel-item:last-child::after {align-self: flex-start;width: 50%;}#sk-container-id-2 div.sk-parallel-item:only-child::after {width: 0;}#sk-container-id-2 div.sk-dashed-wrapped {border: 1px dashed gray;margin: 0 0.4em 0.5em 0.4em;box-sizing: border-box;padding-bottom: 0.4em;background-color: white;}#sk-container-id-2 div.sk-label label {font-family: monospace;font-weight: bold;display: inline-block;line-height: 1.2em;}#sk-container-id-2 div.sk-label-container {text-align: center;}#sk-container-id-2 div.sk-container {/* jupyter's `normalize.less` sets `[hidden] { display: none; }` but bootstrap.min.css set `[hidden] { display: none !important; }` so we also need the `!important` here to be able to override the default hidden behavior on the sphinx rendered scikit-learn.org. See: https://github.com/scikit-learn/scikit-learn/issues/21755 */display: inline-block !important;position: relative;}#sk-container-id-2 div.sk-text-repr-fallback {display: none;}</style><div id=\"sk-container-id-2\" class=\"sk-top-container\"><div class=\"sk-text-repr-fallback\"><pre>Pipeline(steps=[(&#x27;yeojohnson&#x27;,\n",
              "                 YeoJohnsonTransformer(variables=[&#x27;TotalBsmtSF&#x27;, &#x27;GrLivArea&#x27;])),\n",
              "                (&#x27;feat_scaling&#x27;, StandardScaler()),\n",
              "                (&#x27;model&#x27;,\n",
              "                 ExtraTreesRegressor(max_depth=10, min_samples_leaf=2,\n",
              "                                     min_samples_split=5, random_state=0))])</pre><b>In a Jupyter environment, please rerun this cell to show the HTML representation or trust the notebook. <br />On GitHub, the HTML representation is unable to render, please try loading this page with nbviewer.org.</b></div><div class=\"sk-container\" hidden><div class=\"sk-item sk-dashed-wrapped\"><div class=\"sk-label-container\"><div class=\"sk-label sk-toggleable\"><input class=\"sk-toggleable__control sk-hidden--visually\" id=\"sk-estimator-id-14\" type=\"checkbox\" ><label for=\"sk-estimator-id-14\" class=\"sk-toggleable__label sk-toggleable__label-arrow\">Pipeline</label><div class=\"sk-toggleable__content\"><pre>Pipeline(steps=[(&#x27;yeojohnson&#x27;,\n",
              "                 YeoJohnsonTransformer(variables=[&#x27;TotalBsmtSF&#x27;, &#x27;GrLivArea&#x27;])),\n",
              "                (&#x27;feat_scaling&#x27;, StandardScaler()),\n",
              "                (&#x27;model&#x27;,\n",
              "                 ExtraTreesRegressor(max_depth=10, min_samples_leaf=2,\n",
              "                                     min_samples_split=5, random_state=0))])</pre></div></div></div><div class=\"sk-serial\"><div class=\"sk-item\"><div class=\"sk-estimator sk-toggleable\"><input class=\"sk-toggleable__control sk-hidden--visually\" id=\"sk-estimator-id-15\" type=\"checkbox\" ><label for=\"sk-estimator-id-15\" class=\"sk-toggleable__label sk-toggleable__label-arrow\">YeoJohnsonTransformer</label><div class=\"sk-toggleable__content\"><pre>YeoJohnsonTransformer(variables=[&#x27;TotalBsmtSF&#x27;, &#x27;GrLivArea&#x27;])</pre></div></div></div><div class=\"sk-item\"><div class=\"sk-estimator sk-toggleable\"><input class=\"sk-toggleable__control sk-hidden--visually\" id=\"sk-estimator-id-16\" type=\"checkbox\" ><label for=\"sk-estimator-id-16\" class=\"sk-toggleable__label sk-toggleable__label-arrow\">StandardScaler</label><div class=\"sk-toggleable__content\"><pre>StandardScaler()</pre></div></div></div><div class=\"sk-item\"><div class=\"sk-estimator sk-toggleable\"><input class=\"sk-toggleable__control sk-hidden--visually\" id=\"sk-estimator-id-17\" type=\"checkbox\" ><label for=\"sk-estimator-id-17\" class=\"sk-toggleable__label sk-toggleable__label-arrow\">ExtraTreesRegressor</label><div class=\"sk-toggleable__content\"><pre>ExtraTreesRegressor(max_depth=10, min_samples_leaf=2, min_samples_split=5,\n",
              "                    random_state=0)</pre></div></div></div></div></div></div></div>"
            ],
            "text/plain": [
              "Pipeline(steps=[('yeojohnson',\n",
              "                 YeoJohnsonTransformer(variables=['TotalBsmtSF', 'GrLivArea'])),\n",
              "                ('feat_scaling', StandardScaler()),\n",
              "                ('model',\n",
              "                 ExtraTreesRegressor(max_depth=10, min_samples_leaf=2,\n",
              "                                     min_samples_split=5, random_state=0))])"
            ]
          },
          "execution_count": 31,
          "metadata": {},
          "output_type": "execute_result"
        }
      ],
      "source": [
        "best_model = grid_search_summary.iloc[0,0]\n",
        "best_model\n",
        "best_pipeline_top5 = grid_search_pipelines[best_model].best_estimator_\n",
        "best_pipeline_top5"
      ]
    },
    {
      "cell_type": "markdown",
      "metadata": {},
      "source": [
        "## Assess feature importance"
      ]
    },
    {
      "cell_type": "code",
      "execution_count": 41,
      "metadata": {},
      "outputs": [
        {
          "name": "stdout",
          "output_type": "stream",
          "text": [
            "* These are the 5 most important features in descending order. The model was trained on them: \n",
            "['OverallQual', 'GrLivArea', 'GarageArea', 'TotalBsmtSF', 'YearRemodAdd']\n"
          ]
        },
        {
          "data": {
            "image/png": "[encoded data removed]",
            "text/plain": [
              "<Figure size 640x480 with 1 Axes>"
            ]
          },
          "metadata": {},
          "output_type": "display_data"
        }
      ],
      "source": [
        "from sklearn.ensemble import ExtraTreesRegressor\n",
        "\n",
        "# Define the pipeline_selected using the best model\n",
        "pipeline_selected = PipelineOptimization(ExtraTreesRegressor(\n",
        "    max_depth=10, min_samples_leaf=2, min_samples_split=5, n_estimators=100, random_state=0))\n",
        "\n",
        "# Fit the pipeline on the training data\n",
        "pipeline_selected.fit(X_train, y_train)\n",
        "\n",
        "# number of data cleaning and feature engineering steps in the pipeline\n",
        "data_cleaning_feat_eng_steps = 1\n",
        "columns_after_data_cleaning_feat_eng = (Pipeline(pipeline_selected.steps[:data_cleaning_feat_eng_steps])\n",
        "                                        .fit(X_train, y_train)\n",
        "                                        .transform(X_train)\n",
        "                                        .columns)\n",
        "\n",
        "best_features = columns_after_data_cleaning_feat_eng\n",
        "\n",
        "# create DataFrame to display feature importance\n",
        "df_feature_importance = (pd.DataFrame(data={\n",
        "    'Feature': columns_after_data_cleaning_feat_eng,\n",
        "    'Importance': pipeline_selected['model'].feature_importances_})\n",
        "    .sort_values(by='Importance', ascending=False)\n",
        ")\n",
        "\n",
        "# Most important features statement and plot\n",
        "print(f\"* These are the {len(best_features)} most important features in descending order. \"\n",
        "      f\"The model was trained on them: \\n{df_feature_importance['Feature'].to_list()}\")\n",
        "\n",
        "df_feature_importance.plot(kind='bar', x='Feature', y='Importance')\n",
        "plt.show()\n"
      ]
    },
    {
      "cell_type": "markdown",
      "metadata": {},
      "source": [
        "The importance levels are virtually unchanged in relation to each other."
      ]
    },
    {
      "cell_type": "markdown",
      "metadata": {},
      "source": [
        "## Evaluate Classifier on Train and Test Sets"
      ]
    },
    {
      "cell_type": "code",
      "execution_count": 33,
      "metadata": {},
      "outputs": [
        {
          "name": "stdout",
          "output_type": "stream",
          "text": [
            "Model Evaluation \n",
            "\n",
            "* Train Set\n",
            "R2 Score: 0.935\n",
            "Mean Absolute Error: 13565.652\n",
            "Mean Squared Error: 402589838.852\n",
            "Root Mean Squared Error: 20064.642\n",
            "\n",
            "\n",
            "* Test Set\n",
            "R2 Score: 0.84\n",
            "Mean Absolute Error: 19830.181\n",
            "Mean Squared Error: 1107888671.353\n",
            "Root Mean Squared Error: 33284.962\n",
            "\n",
            "\n"
          ]
        },
        {
          "data": {
            "image/png": "[encoded data removed]",
            "text/plain": [
              "<Figure size 1200x600 with 2 Axes>"
            ]
          },
          "metadata": {},
          "output_type": "display_data"
        }
      ],
      "source": [
        "regression_performance(X_train, y_train, X_test, y_test,best_pipeline_top5)\n",
        "regression_evaluation_plots(X_train, y_train, X_test, y_test,\n",
        "                            best_pipeline_top5)"
      ]
    },
    {
      "cell_type": "markdown",
      "metadata": {},
      "source": [
        "Although we dropped many features, the model performance remained stable, showing **slight increase in R² Score from 0.84 to 0.844**. This suggests the removed features were not adding significant predictive value, confirming that ExtraTrees is robust and able to focus on strong predictors."
      ]
    },
    {
      "cell_type": "markdown",
      "metadata": {},
      "source": [
        "---"
      ]
    },
    {
      "cell_type": "markdown",
      "metadata": {},
      "source": [
        "# Save Artifacts for Deployment and Dashboard"
      ]
    },
    {
      "cell_type": "markdown",
      "metadata": {},
      "source": [
        "These outputs will allow the Streamlit app to:\n",
        "\n",
        "- Load the final trained pipeline\n",
        "- Access the top 5 features\n",
        "- Read input format from training data\n",
        "- Visualize model insights like feature importance"
      ]
    },
    {
      "cell_type": "markdown",
      "metadata": {},
      "source": [
        "## Create Output Directory"
      ]
    },
    {
      "cell_type": "code",
      "execution_count": 42,
      "metadata": {},
      "outputs": [
        {
          "name": "stdout",
          "output_type": "stream",
          "text": [
            "✅ Output directory created at: outputs/ml_pipeline/predict_house_price/v2\n"
          ]
        }
      ],
      "source": [
        "import os\n",
        "import joblib\n",
        "\n",
        "version = \"v2\"\n",
        "output_dir = f\"outputs/ml_pipeline/predict_house_price/{version}\"\n",
        "\n",
        "try:\n",
        "  os.makedirs(name=output_dir, exist_ok=True)\n",
        "except Exception as e:\n",
        "  print(e)\n",
        "\n",
        "print(f\"✅ Output directory created at: {output_dir}\")\n"
      ]
    },
    {
      "cell_type": "markdown",
      "metadata": {},
      "source": [
        "## Save Train and Test Sets"
      ]
    },
    {
      "cell_type": "code",
      "execution_count": 43,
      "metadata": {},
      "outputs": [
        {
          "name": "stdout",
          "output_type": "stream",
          "text": [
            "✅ Train/test sets saved.\n"
          ]
        }
      ],
      "source": [
        "# Save features\n",
        "X_train.to_csv(f\"{output_dir}/X_train.csv\", index=False)\n",
        "X_test.to_csv(f\"{output_dir}/X_test.csv\", index=False)\n",
        "\n",
        "# Save targets\n",
        "y_train.to_csv(f\"{output_dir}/y_train.csv\", index=False)\n",
        "y_test.to_csv(f\"{output_dir}/y_test.csv\", index=False)\n",
        "\n",
        "print(\"✅ Train/test sets saved.\")"
      ]
    },
    {
      "cell_type": "markdown",
      "metadata": {},
      "source": [
        "## Save Final Model Pipeline"
      ]
    },
    {
      "cell_type": "code",
      "execution_count": 44,
      "metadata": {},
      "outputs": [
        {
          "name": "stdout",
          "output_type": "stream",
          "text": [
            "✅ Final model pipeline saved.\n"
          ]
        }
      ],
      "source": [
        "joblib.dump(value=best_pipeline_top5, filename=f\"{output_dir}/pipeline_top5.pkl\")\n",
        "\n",
        "print(\"✅ Final model pipeline saved.\")"
      ]
    },
    {
      "cell_type": "markdown",
      "metadata": {},
      "source": [
        "## Save Feature Importance Plot"
      ]
    },
    {
      "cell_type": "code",
      "execution_count": 45,
      "metadata": {},
      "outputs": [
        {
          "data": {
            "image/png": "[encoded data removed]",
            "text/plain": [
              "<Figure size 800x400 with 1 Axes>"
            ]
          },
          "metadata": {},
          "output_type": "display_data"
        },
        {
          "name": "stdout",
          "output_type": "stream",
          "text": [
            "✅ Feature importance plot saved.\n"
          ]
        }
      ],
      "source": [
        "# Top 5 features were already used to train the pipeline\n",
        "df_feature_importance_top5 = df_feature_importance[df_feature_importance[\"Feature\"].isin(X_train.columns)]\n",
        "\n",
        "df_feature_importance_top5.plot(kind='bar', x='Feature', y='Importance', figsize=(8, 4))\n",
        "plt.title(\"Top 5 Features - Feature Importance\")\n",
        "plt.tight_layout()\n",
        "plt.savefig(f\"{output_dir}/feature_importance_top5.png\", bbox_inches='tight')\n",
        "plt.show()\n",
        "\n",
        "print(\"✅ Feature importance plot saved.\")"
      ]
    },
    {
      "cell_type": "markdown",
      "metadata": {},
      "source": [
        "## Save Feature List (for dashboard inputs)"
      ]
    },
    {
      "cell_type": "code",
      "execution_count": 46,
      "metadata": {},
      "outputs": [
        {
          "name": "stdout",
          "output_type": "stream",
          "text": [
            "✅ Feature list saved for dashboard.\n"
          ]
        }
      ],
      "source": [
        "joblib.dump(value=list(X_train.columns), filename=f\"{output_dir}/feature_list.pkl\")\n",
        "\n",
        "print(\"✅ Feature list saved for dashboard.\")"
      ]
    },
    {
      "cell_type": "markdown",
      "metadata": {},
      "source": [
        "## Save evaluation metrics to `.json`"
      ]
    },
    {
      "cell_type": "code",
      "execution_count": 47,
      "metadata": {},
      "outputs": [
        {
          "name": "stdout",
          "output_type": "stream",
          "text": [
            "✅ Model metrics saved as JSON.\n"
          ]
        }
      ],
      "source": [
        "import json\n",
        "\n",
        "model_metrics = {\n",
        "    \"train\": {\n",
        "        \"r2\": round(r2_score(y_train, best_pipeline_top5.predict(X_train)), 3),\n",
        "        \"mae\": round(mean_absolute_error(y_train, best_pipeline_top5.predict(X_train)), 3),\n",
        "        \"rmse\": round(np.sqrt(mean_squared_error(y_train, best_pipeline_top5.predict(X_train))), 3),\n",
        "    },\n",
        "    \"test\": {\n",
        "        \"r2\": round(r2_score(y_test, best_pipeline_top5.predict(X_test)), 3),\n",
        "        \"mae\": round(mean_absolute_error(y_test, best_pipeline_top5.predict(X_test)), 3),\n",
        "        \"rmse\": round(np.sqrt(mean_squared_error(y_test, best_pipeline_top5.predict(X_test))), 3),\n",
        "    },\n",
        "    \"feature_importance\": df_feature_importance.head(5).to_dict(orient=\"records\")\n",
        "}\n",
        "\n",
        "output_dir = \"outputs/ml_pipeline/predict_house_price/v1\"\n",
        "os.makedirs(output_dir, exist_ok=True)\n",
        "\n",
        "# Save to JSON file\n",
        "with open(f\"{output_dir}/model_metrics.json\", \"w\") as f:\n",
        "    json.dump(model_metrics, f, indent=4)\n",
        "\n",
        "print(\"✅ Model metrics saved as JSON.\")\n"
      ]
    },
    {
      "cell_type": "markdown",
      "metadata": {},
      "source": [
        "## Save scatterplot comparing actual vs. predicted values"
      ]
    },
    {
      "cell_type": "code",
      "execution_count": 48,
      "metadata": {},
      "outputs": [
        {
          "name": "stdout",
          "output_type": "stream",
          "text": [
            "✅ Plot saved to: outputs/ml_pipeline/predict_house_price/v1/regression_scatterplot.png\n"
          ]
        }
      ],
      "source": [
        "\n",
        "import matplotlib.pyplot as plt\n",
        "import seaborn as sns\n",
        "\n",
        "def save_regression_plot(X_train, y_train, X_test, y_test, pipeline, output_path, alpha_scatter=0.5):\n",
        "    pred_train = pipeline.predict(X_train)\n",
        "    pred_test = pipeline.predict(X_test)\n",
        "\n",
        "    fig, axes = plt.subplots(nrows=1, ncols=2, figsize=(12, 6))\n",
        "    sns.scatterplot(x=y_train, y=pred_train, alpha=alpha_scatter, ax=axes[0])\n",
        "    sns.lineplot(x=y_train, y=y_train, color='red', ax=axes[0])\n",
        "    axes[0].set_xlabel(\"Actual\")\n",
        "    axes[0].set_ylabel(\"Predicted\")\n",
        "    axes[0].set_title(\"Train Set\")\n",
        "\n",
        "    sns.scatterplot(x=y_test, y=pred_test, alpha=alpha_scatter, ax=axes[1])\n",
        "    sns.lineplot(x=y_test, y=y_test, color='red', ax=axes[1])\n",
        "    axes[1].set_xlabel(\"Actual\")\n",
        "    axes[1].set_ylabel(\"Predicted\")\n",
        "    axes[1].set_title(\"Test Set\")\n",
        "\n",
        "    plt.tight_layout()\n",
        "    plt.savefig(output_path)\n",
        "    plt.close()\n",
        "    print(f\"✅ Plot saved to: {output_path}\")\n",
        "\n",
        "# === Save it ===\n",
        "save_regression_plot(\n",
        "    X_train, y_train, X_test, y_test,\n",
        "    pipeline=best_pipeline_top5,\n",
        "    output_path=\"outputs/ml_pipeline/predict_house_price/v1/regression_scatterplot.png\"\n",
        ")\n"
      ]
    }
  ],
  "metadata": {
    "accelerator": "GPU",
    "colab": {
      "name": "Data Practitioner Jupyter Notebook.ipynb",
      "provenance": [],
      "toc_visible": true
    },
    "kernelspec": {
      "display_name": ".venv",
      "language": "python",
      "name": "python3"
    },
    "language_info": {
      "codemirror_mode": {
        "name": "ipython",
        "version": 3
      },
      "file_extension": ".py",
      "mimetype": "text/x-python",
      "name": "python",
      "nbconvert_exporter": "python",
      "pygments_lexer": "ipython3",
      "version": "3.12.8"
    },
    "orig_nbformat": 2
  },
  "nbformat": 4,
  "nbformat_minor": 2
}
