{
  "cells": [
    {
      "cell_type": "markdown",
      "metadata": {
        "id": "0aStgWSO0E0E"
      },
      "source": [
        "# **Data Collection Notebook**"
      ]
    },
    {
      "cell_type": "markdown",
      "metadata": {
        "id": "1eLEkw5O0ECa"
      },
      "source": [
        "## Objectives\n",
        "\n",
        "* Fetch data from Kaggle and save it as raw data.\n",
        "* Inspect the data and save it under outputs/datasets/collection\n",
        "\n",
        "## Inputs\n",
        "\n",
        "* Kaggle JSON file - the authentication token.\n",
        "\n",
        "## Outputs\n",
        "\n",
        "* Generate Dataset\n",
        "\n"
      ]
    },
    {
      "cell_type": "markdown",
      "metadata": {
        "id": "9uWZXH9LwoQg"
      },
      "source": [
        "---"
      ]
    },
    {
      "cell_type": "markdown",
      "metadata": {
        "id": "cqP-UeN-z3i2"
      },
      "source": [
        "# Change working directory"
      ]
    },
    {
      "cell_type": "markdown",
      "metadata": {
        "id": "aOGIGS-uz3i2"
      },
      "source": [
        "We need to change the working directory from its current folder to its parent folder\n",
        "* We access the current directory with `os.getcwd()`"
      ]
    },
    {
      "cell_type": "code",
      "execution_count": 1,
      "metadata": {
        "id": "wZfF_j-Bz3i4",
        "outputId": "66943449-1436-4c3d-85c7-b85f9f78349b"
      },
      "outputs": [
        {
          "data": {
            "text/plain": [
              "'c:\\\\Users\\\\Arthur\\\\OneDrive\\\\Documentos\\\\Code Institute\\\\PP5\\\\PP5-heritage-housing-issues-ml\\\\jupyter_notebooks'"
            ]
          },
          "execution_count": 1,
          "metadata": {},
          "output_type": "execute_result"
        }
      ],
      "source": [
        "import os\n",
        "current_dir = os.getcwd()\n",
        "current_dir"
      ]
    },
    {
      "cell_type": "markdown",
      "metadata": {
        "id": "9MWW8E7lz3i7"
      },
      "source": [
        "We want to make the parent of the current directory the new current directory\n",
        "* `os.path.dirname()` gets the parent directory\n",
        "* `os.chir()` defines the new current directory"
      ]
    },
    {
      "cell_type": "code",
      "execution_count": 2,
      "metadata": {
        "id": "TwHsQRWjz3i9",
        "outputId": "86849db3-cd2f-4cc5-ebb8-2d0caafa1a2c"
      },
      "outputs": [
        {
          "name": "stdout",
          "output_type": "stream",
          "text": [
            "You set a new current directory\n"
          ]
        }
      ],
      "source": [
        "os.chdir(os.path.dirname(current_dir))\n",
        "print(\"You set a new current directory\")"
      ]
    },
    {
      "cell_type": "markdown",
      "metadata": {
        "id": "M_xPk_Ijz3i-"
      },
      "source": [
        "Confirm the new current directory"
      ]
    },
    {
      "cell_type": "code",
      "execution_count": 3,
      "metadata": {
        "id": "vz3S-_kjz3jA",
        "outputId": "00b79ae4-75d0-4a96-d193-ac9ef9847ea2"
      },
      "outputs": [
        {
          "data": {
            "text/plain": [
              "'c:\\\\Users\\\\Arthur\\\\OneDrive\\\\Documentos\\\\Code Institute\\\\PP5\\\\PP5-heritage-housing-issues-ml'"
            ]
          },
          "execution_count": 3,
          "metadata": {},
          "output_type": "execute_result"
        }
      ],
      "source": [
        "current_dir = os.getcwd()\n",
        "current_dir"
      ]
    },
    {
      "cell_type": "markdown",
      "metadata": {
        "id": "-mavJ8DibrcQ"
      },
      "source": [
        "# Fetch Data from Kaggle"
      ]
    },
    {
      "cell_type": "markdown",
      "metadata": {},
      "source": [
        "Install Kaggle package to fetch data"
      ]
    },
    {
      "cell_type": "code",
      "execution_count": 4,
      "metadata": {},
      "outputs": [
        {
          "name": "stdout",
          "output_type": "stream",
          "text": [
            "Collecting kaggle==1.5.12\n",
            "  Using cached kaggle-1.5.12-py3-none-any.whl\n",
            "Requirement already satisfied: six>=1.10 in c:\\users\\arthur\\appdata\\local\\programs\\python\\python312\\lib\\site-packages (from kaggle==1.5.12) (1.17.0)\n",
            "Requirement already satisfied: certifi in c:\\users\\arthur\\appdata\\local\\programs\\python\\python312\\lib\\site-packages (from kaggle==1.5.12) (2025.1.31)\n",
            "Requirement already satisfied: python-dateutil in c:\\users\\arthur\\appdata\\local\\programs\\python\\python312\\lib\\site-packages (from kaggle==1.5.12) (2.9.0.post0)\n",
            "Requirement already satisfied: requests in c:\\users\\arthur\\appdata\\local\\programs\\python\\python312\\lib\\site-packages (from kaggle==1.5.12) (2.32.3)\n",
            "Requirement already satisfied: tqdm in c:\\users\\arthur\\appdata\\local\\programs\\python\\python312\\lib\\site-packages (from kaggle==1.5.12) (4.67.1)\n",
            "Collecting python-slugify (from kaggle==1.5.12)\n",
            "  Using cached python_slugify-8.0.4-py2.py3-none-any.whl.metadata (8.5 kB)\n",
            "Requirement already satisfied: urllib3 in c:\\users\\arthur\\appdata\\local\\programs\\python\\python312\\lib\\site-packages (from kaggle==1.5.12) (2.4.0)\n",
            "Collecting text-unidecode>=1.3 (from python-slugify->kaggle==1.5.12)\n",
            "  Using cached text_unidecode-1.3-py2.py3-none-any.whl.metadata (2.4 kB)\n",
            "Requirement already satisfied: charset-normalizer<4,>=2 in c:\\users\\arthur\\appdata\\local\\programs\\python\\python312\\lib\\site-packages (from requests->kaggle==1.5.12) (3.4.1)\n",
            "Requirement already satisfied: idna<4,>=2.5 in c:\\users\\arthur\\appdata\\local\\programs\\python\\python312\\lib\\site-packages (from requests->kaggle==1.5.12) (3.10)\n",
            "Requirement already satisfied: colorama in c:\\users\\arthur\\appdata\\local\\programs\\python\\python312\\lib\\site-packages (from tqdm->kaggle==1.5.12) (0.4.6)\n",
            "Using cached python_slugify-8.0.4-py2.py3-none-any.whl (10 kB)\n",
            "Using cached text_unidecode-1.3-py2.py3-none-any.whl (78 kB)\n",
            "Installing collected packages: text-unidecode, python-slugify, kaggle\n",
            "Successfully installed kaggle-1.5.12 python-slugify-8.0.4 text-unidecode-1.3\n",
            "Note: you may need to restart the kernel to use updated packages.\n"
          ]
        }
      ],
      "source": [
        "%pip install kaggle==1.5.12"
      ]
    },
    {
      "cell_type": "markdown",
      "metadata": {
        "id": "ZY3l0-AxO93d"
      },
      "source": [
        "A **JSON file (authentication token)** is needed to authenticate Kaggle to download data in this session. The Kaggle token was added in the `kaggle.json` file. The following cell is for recognizing it in this session.\n",
        "I added an `if` statement for it to be able to run on Windows or Linux."
      ]
    },
    {
      "cell_type": "code",
      "execution_count": 5,
      "metadata": {},
      "outputs": [],
      "source": [
        "import os\n",
        "import platform\n",
        "\n",
        "# Set Kaggle config path\n",
        "os.environ['KAGGLE_CONFIG_DIR'] = os.getcwd()\n",
        "\n",
        "# Only run chmod on Unix-based systems\n",
        "if platform.system() != 'Windows':\n",
        "    os.system('chmod 600 kaggle.json')"
      ]
    },
    {
      "cell_type": "markdown",
      "metadata": {},
      "source": [
        "We are using the following [Kaggle URL](https://www.kaggle.com/codeinstitute/housing-prices-data)"
      ]
    },
    {
      "cell_type": "markdown",
      "metadata": {},
      "source": [
        "![kaggle dataset page screenshot](..\\docs\\screenshot-kaggle-dataset.png)"
      ]
    },
    {
      "cell_type": "markdown",
      "metadata": {},
      "source": [
        "Get the dataset path from the Kaggle url\n",
        "* When you are viewing the dataset at Kaggle, check what is after https://www.kaggle.com/ .\n",
        "\n",
        "Define the Kaggle dataset, and destination folder and download it."
      ]
    },
    {
      "cell_type": "code",
      "execution_count": 6,
      "metadata": {},
      "outputs": [
        {
          "name": "stdout",
          "output_type": "stream",
          "text": [
            "Downloading housing-prices-data.zip to inputs/datasets/raw\n",
            "\n"
          ]
        },
        {
          "name": "stderr",
          "output_type": "stream",
          "text": [
            "\n",
            "  0%|          | 0.00/49.6k [00:00<?, ?B/s]\n",
            "100%|██████████| 49.6k/49.6k [00:00<00:00, 427kB/s]\n",
            "100%|██████████| 49.6k/49.6k [00:00<00:00, 427kB/s]\n"
          ]
        }
      ],
      "source": [
        "# Define Kaggle dataset path and local destination folder\n",
        "KaggleDatasetPath = \"codeinstitute/housing-prices-data\"\n",
        "DestinationFolder = \"inputs/datasets/raw\"\n",
        "\n",
        "# Download dataset from Kaggle\n",
        "!kaggle datasets download -d {KaggleDatasetPath} -p {DestinationFolder}\n"
      ]
    },
    {
      "cell_type": "markdown",
      "metadata": {},
      "source": [
        "Unzip the downloaded file, delete the zip file and delete the kaggle.json file"
      ]
    },
    {
      "cell_type": "code",
      "execution_count": 7,
      "metadata": {},
      "outputs": [],
      "source": [
        "import zipfile\n",
        "import glob\n",
        "\n",
        "# Unzip any zip files in the destination folder\n",
        "for zip_file in glob.glob(f\"{DestinationFolder}/*.zip\"):\n",
        "    with zipfile.ZipFile(zip_file, 'r') as zip_ref:\n",
        "        zip_ref.extractall(DestinationFolder)\n",
        "    os.remove(zip_file)\n",
        "\n",
        "# Delete the kaggle.json file\n",
        "if os.path.exists(\"kaggle.json\"):\n",
        "    os.remove(\"kaggle.json\")\n"
      ]
    },
    {
      "cell_type": "markdown",
      "metadata": {},
      "source": [
        "---"
      ]
    },
    {
      "cell_type": "markdown",
      "metadata": {
        "id": "uFQo3ycuO-v6"
      },
      "source": [
        "# Load and Inspect Kaggle data"
      ]
    },
    {
      "cell_type": "markdown",
      "metadata": {},
      "source": [
        "We import Pandas for data manipulation and load the raw dataset into a DataFrame. Afterwards, we display the first few rows to get an initial look at the data"
      ]
    },
    {
      "cell_type": "code",
      "execution_count": 13,
      "metadata": {},
      "outputs": [
        {
          "data": {
            "text/html": [
              "<div>\n",
              "<style scoped>\n",
              "    .dataframe tbody tr th:only-of-type {\n",
              "        vertical-align: middle;\n",
              "    }\n",
              "\n",
              "    .dataframe tbody tr th {\n",
              "        vertical-align: top;\n",
              "    }\n",
              "\n",
              "    .dataframe thead th {\n",
              "        text-align: right;\n",
              "    }\n",
              "</style>\n",
              "<table border=\"1\" class=\"dataframe\">\n",
              "  <thead>\n",
              "    <tr style=\"text-align: right;\">\n",
              "      <th></th>\n",
              "      <th>1stFlrSF</th>\n",
              "      <th>2ndFlrSF</th>\n",
              "      <th>BedroomAbvGr</th>\n",
              "      <th>BsmtExposure</th>\n",
              "      <th>BsmtFinSF1</th>\n",
              "      <th>BsmtFinType1</th>\n",
              "      <th>BsmtUnfSF</th>\n",
              "      <th>EnclosedPorch</th>\n",
              "      <th>GarageArea</th>\n",
              "      <th>GarageFinish</th>\n",
              "      <th>...</th>\n",
              "      <th>LotFrontage</th>\n",
              "      <th>MasVnrArea</th>\n",
              "      <th>OpenPorchSF</th>\n",
              "      <th>OverallCond</th>\n",
              "      <th>OverallQual</th>\n",
              "      <th>TotalBsmtSF</th>\n",
              "      <th>WoodDeckSF</th>\n",
              "      <th>YearBuilt</th>\n",
              "      <th>YearRemodAdd</th>\n",
              "      <th>SalePrice</th>\n",
              "    </tr>\n",
              "  </thead>\n",
              "  <tbody>\n",
              "    <tr>\n",
              "      <th>0</th>\n",
              "      <td>856</td>\n",
              "      <td>854.0</td>\n",
              "      <td>3.0</td>\n",
              "      <td>No</td>\n",
              "      <td>706</td>\n",
              "      <td>GLQ</td>\n",
              "      <td>150</td>\n",
              "      <td>0.0</td>\n",
              "      <td>548</td>\n",
              "      <td>RFn</td>\n",
              "      <td>...</td>\n",
              "      <td>65.0</td>\n",
              "      <td>196.0</td>\n",
              "      <td>61</td>\n",
              "      <td>5</td>\n",
              "      <td>7</td>\n",
              "      <td>856</td>\n",
              "      <td>0.0</td>\n",
              "      <td>2003</td>\n",
              "      <td>2003</td>\n",
              "      <td>208500</td>\n",
              "    </tr>\n",
              "    <tr>\n",
              "      <th>1</th>\n",
              "      <td>1262</td>\n",
              "      <td>0.0</td>\n",
              "      <td>3.0</td>\n",
              "      <td>Gd</td>\n",
              "      <td>978</td>\n",
              "      <td>ALQ</td>\n",
              "      <td>284</td>\n",
              "      <td>NaN</td>\n",
              "      <td>460</td>\n",
              "      <td>RFn</td>\n",
              "      <td>...</td>\n",
              "      <td>80.0</td>\n",
              "      <td>0.0</td>\n",
              "      <td>0</td>\n",
              "      <td>8</td>\n",
              "      <td>6</td>\n",
              "      <td>1262</td>\n",
              "      <td>NaN</td>\n",
              "      <td>1976</td>\n",
              "      <td>1976</td>\n",
              "      <td>181500</td>\n",
              "    </tr>\n",
              "    <tr>\n",
              "      <th>2</th>\n",
              "      <td>920</td>\n",
              "      <td>866.0</td>\n",
              "      <td>3.0</td>\n",
              "      <td>Mn</td>\n",
              "      <td>486</td>\n",
              "      <td>GLQ</td>\n",
              "      <td>434</td>\n",
              "      <td>0.0</td>\n",
              "      <td>608</td>\n",
              "      <td>RFn</td>\n",
              "      <td>...</td>\n",
              "      <td>68.0</td>\n",
              "      <td>162.0</td>\n",
              "      <td>42</td>\n",
              "      <td>5</td>\n",
              "      <td>7</td>\n",
              "      <td>920</td>\n",
              "      <td>NaN</td>\n",
              "      <td>2001</td>\n",
              "      <td>2002</td>\n",
              "      <td>223500</td>\n",
              "    </tr>\n",
              "    <tr>\n",
              "      <th>3</th>\n",
              "      <td>961</td>\n",
              "      <td>NaN</td>\n",
              "      <td>NaN</td>\n",
              "      <td>No</td>\n",
              "      <td>216</td>\n",
              "      <td>ALQ</td>\n",
              "      <td>540</td>\n",
              "      <td>NaN</td>\n",
              "      <td>642</td>\n",
              "      <td>Unf</td>\n",
              "      <td>...</td>\n",
              "      <td>60.0</td>\n",
              "      <td>0.0</td>\n",
              "      <td>35</td>\n",
              "      <td>5</td>\n",
              "      <td>7</td>\n",
              "      <td>756</td>\n",
              "      <td>NaN</td>\n",
              "      <td>1915</td>\n",
              "      <td>1970</td>\n",
              "      <td>140000</td>\n",
              "    </tr>\n",
              "    <tr>\n",
              "      <th>4</th>\n",
              "      <td>1145</td>\n",
              "      <td>NaN</td>\n",
              "      <td>4.0</td>\n",
              "      <td>Av</td>\n",
              "      <td>655</td>\n",
              "      <td>GLQ</td>\n",
              "      <td>490</td>\n",
              "      <td>0.0</td>\n",
              "      <td>836</td>\n",
              "      <td>RFn</td>\n",
              "      <td>...</td>\n",
              "      <td>84.0</td>\n",
              "      <td>350.0</td>\n",
              "      <td>84</td>\n",
              "      <td>5</td>\n",
              "      <td>8</td>\n",
              "      <td>1145</td>\n",
              "      <td>NaN</td>\n",
              "      <td>2000</td>\n",
              "      <td>2000</td>\n",
              "      <td>250000</td>\n",
              "    </tr>\n",
              "    <tr>\n",
              "      <th>5</th>\n",
              "      <td>796</td>\n",
              "      <td>566.0</td>\n",
              "      <td>1.0</td>\n",
              "      <td>No</td>\n",
              "      <td>732</td>\n",
              "      <td>GLQ</td>\n",
              "      <td>64</td>\n",
              "      <td>NaN</td>\n",
              "      <td>480</td>\n",
              "      <td>Unf</td>\n",
              "      <td>...</td>\n",
              "      <td>85.0</td>\n",
              "      <td>0.0</td>\n",
              "      <td>30</td>\n",
              "      <td>5</td>\n",
              "      <td>5</td>\n",
              "      <td>796</td>\n",
              "      <td>NaN</td>\n",
              "      <td>1993</td>\n",
              "      <td>1995</td>\n",
              "      <td>143000</td>\n",
              "    </tr>\n",
              "    <tr>\n",
              "      <th>6</th>\n",
              "      <td>1694</td>\n",
              "      <td>0.0</td>\n",
              "      <td>3.0</td>\n",
              "      <td>Av</td>\n",
              "      <td>1369</td>\n",
              "      <td>GLQ</td>\n",
              "      <td>317</td>\n",
              "      <td>NaN</td>\n",
              "      <td>636</td>\n",
              "      <td>RFn</td>\n",
              "      <td>...</td>\n",
              "      <td>75.0</td>\n",
              "      <td>186.0</td>\n",
              "      <td>57</td>\n",
              "      <td>5</td>\n",
              "      <td>8</td>\n",
              "      <td>1686</td>\n",
              "      <td>NaN</td>\n",
              "      <td>2004</td>\n",
              "      <td>2005</td>\n",
              "      <td>307000</td>\n",
              "    </tr>\n",
              "    <tr>\n",
              "      <th>7</th>\n",
              "      <td>1107</td>\n",
              "      <td>983.0</td>\n",
              "      <td>3.0</td>\n",
              "      <td>Mn</td>\n",
              "      <td>859</td>\n",
              "      <td>ALQ</td>\n",
              "      <td>216</td>\n",
              "      <td>NaN</td>\n",
              "      <td>484</td>\n",
              "      <td>NaN</td>\n",
              "      <td>...</td>\n",
              "      <td>NaN</td>\n",
              "      <td>240.0</td>\n",
              "      <td>204</td>\n",
              "      <td>6</td>\n",
              "      <td>7</td>\n",
              "      <td>1107</td>\n",
              "      <td>NaN</td>\n",
              "      <td>1973</td>\n",
              "      <td>1973</td>\n",
              "      <td>200000</td>\n",
              "    </tr>\n",
              "    <tr>\n",
              "      <th>8</th>\n",
              "      <td>1022</td>\n",
              "      <td>752.0</td>\n",
              "      <td>2.0</td>\n",
              "      <td>No</td>\n",
              "      <td>0</td>\n",
              "      <td>Unf</td>\n",
              "      <td>952</td>\n",
              "      <td>NaN</td>\n",
              "      <td>468</td>\n",
              "      <td>Unf</td>\n",
              "      <td>...</td>\n",
              "      <td>51.0</td>\n",
              "      <td>0.0</td>\n",
              "      <td>0</td>\n",
              "      <td>5</td>\n",
              "      <td>7</td>\n",
              "      <td>952</td>\n",
              "      <td>NaN</td>\n",
              "      <td>1931</td>\n",
              "      <td>1950</td>\n",
              "      <td>129900</td>\n",
              "    </tr>\n",
              "    <tr>\n",
              "      <th>9</th>\n",
              "      <td>1077</td>\n",
              "      <td>0.0</td>\n",
              "      <td>2.0</td>\n",
              "      <td>No</td>\n",
              "      <td>851</td>\n",
              "      <td>GLQ</td>\n",
              "      <td>140</td>\n",
              "      <td>NaN</td>\n",
              "      <td>205</td>\n",
              "      <td>RFn</td>\n",
              "      <td>...</td>\n",
              "      <td>50.0</td>\n",
              "      <td>0.0</td>\n",
              "      <td>4</td>\n",
              "      <td>6</td>\n",
              "      <td>5</td>\n",
              "      <td>991</td>\n",
              "      <td>NaN</td>\n",
              "      <td>1939</td>\n",
              "      <td>1950</td>\n",
              "      <td>118000</td>\n",
              "    </tr>\n",
              "    <tr>\n",
              "      <th>10</th>\n",
              "      <td>1040</td>\n",
              "      <td>0.0</td>\n",
              "      <td>3.0</td>\n",
              "      <td>No</td>\n",
              "      <td>906</td>\n",
              "      <td>Rec</td>\n",
              "      <td>134</td>\n",
              "      <td>NaN</td>\n",
              "      <td>384</td>\n",
              "      <td>Unf</td>\n",
              "      <td>...</td>\n",
              "      <td>70.0</td>\n",
              "      <td>0.0</td>\n",
              "      <td>0</td>\n",
              "      <td>5</td>\n",
              "      <td>5</td>\n",
              "      <td>1040</td>\n",
              "      <td>NaN</td>\n",
              "      <td>1965</td>\n",
              "      <td>1965</td>\n",
              "      <td>129500</td>\n",
              "    </tr>\n",
              "    <tr>\n",
              "      <th>11</th>\n",
              "      <td>1182</td>\n",
              "      <td>1142.0</td>\n",
              "      <td>4.0</td>\n",
              "      <td>No</td>\n",
              "      <td>998</td>\n",
              "      <td>NaN</td>\n",
              "      <td>177</td>\n",
              "      <td>NaN</td>\n",
              "      <td>736</td>\n",
              "      <td>Fin</td>\n",
              "      <td>...</td>\n",
              "      <td>85.0</td>\n",
              "      <td>286.0</td>\n",
              "      <td>21</td>\n",
              "      <td>5</td>\n",
              "      <td>9</td>\n",
              "      <td>1175</td>\n",
              "      <td>NaN</td>\n",
              "      <td>2005</td>\n",
              "      <td>2006</td>\n",
              "      <td>345000</td>\n",
              "    </tr>\n",
              "    <tr>\n",
              "      <th>12</th>\n",
              "      <td>912</td>\n",
              "      <td>0.0</td>\n",
              "      <td>2.0</td>\n",
              "      <td>No</td>\n",
              "      <td>737</td>\n",
              "      <td>ALQ</td>\n",
              "      <td>175</td>\n",
              "      <td>NaN</td>\n",
              "      <td>352</td>\n",
              "      <td>NaN</td>\n",
              "      <td>...</td>\n",
              "      <td>NaN</td>\n",
              "      <td>0.0</td>\n",
              "      <td>0</td>\n",
              "      <td>6</td>\n",
              "      <td>5</td>\n",
              "      <td>912</td>\n",
              "      <td>NaN</td>\n",
              "      <td>1962</td>\n",
              "      <td>1962</td>\n",
              "      <td>144000</td>\n",
              "    </tr>\n",
              "    <tr>\n",
              "      <th>13</th>\n",
              "      <td>1494</td>\n",
              "      <td>0.0</td>\n",
              "      <td>3.0</td>\n",
              "      <td>Av</td>\n",
              "      <td>0</td>\n",
              "      <td>Unf</td>\n",
              "      <td>1494</td>\n",
              "      <td>NaN</td>\n",
              "      <td>840</td>\n",
              "      <td>RFn</td>\n",
              "      <td>...</td>\n",
              "      <td>91.0</td>\n",
              "      <td>306.0</td>\n",
              "      <td>33</td>\n",
              "      <td>5</td>\n",
              "      <td>7</td>\n",
              "      <td>1494</td>\n",
              "      <td>160.0</td>\n",
              "      <td>2006</td>\n",
              "      <td>2007</td>\n",
              "      <td>279500</td>\n",
              "    </tr>\n",
              "    <tr>\n",
              "      <th>14</th>\n",
              "      <td>1253</td>\n",
              "      <td>0.0</td>\n",
              "      <td>NaN</td>\n",
              "      <td>No</td>\n",
              "      <td>733</td>\n",
              "      <td>BLQ</td>\n",
              "      <td>520</td>\n",
              "      <td>NaN</td>\n",
              "      <td>352</td>\n",
              "      <td>RFn</td>\n",
              "      <td>...</td>\n",
              "      <td>NaN</td>\n",
              "      <td>212.0</td>\n",
              "      <td>213</td>\n",
              "      <td>5</td>\n",
              "      <td>6</td>\n",
              "      <td>1253</td>\n",
              "      <td>NaN</td>\n",
              "      <td>1960</td>\n",
              "      <td>1960</td>\n",
              "      <td>157000</td>\n",
              "    </tr>\n",
              "    <tr>\n",
              "      <th>15</th>\n",
              "      <td>854</td>\n",
              "      <td>0.0</td>\n",
              "      <td>2.0</td>\n",
              "      <td>No</td>\n",
              "      <td>0</td>\n",
              "      <td>Unf</td>\n",
              "      <td>832</td>\n",
              "      <td>NaN</td>\n",
              "      <td>576</td>\n",
              "      <td>Unf</td>\n",
              "      <td>...</td>\n",
              "      <td>51.0</td>\n",
              "      <td>0.0</td>\n",
              "      <td>112</td>\n",
              "      <td>8</td>\n",
              "      <td>7</td>\n",
              "      <td>832</td>\n",
              "      <td>NaN</td>\n",
              "      <td>1929</td>\n",
              "      <td>2001</td>\n",
              "      <td>132000</td>\n",
              "    </tr>\n",
              "    <tr>\n",
              "      <th>16</th>\n",
              "      <td>1004</td>\n",
              "      <td>0.0</td>\n",
              "      <td>2.0</td>\n",
              "      <td>No</td>\n",
              "      <td>578</td>\n",
              "      <td>ALQ</td>\n",
              "      <td>426</td>\n",
              "      <td>NaN</td>\n",
              "      <td>480</td>\n",
              "      <td>Fin</td>\n",
              "      <td>...</td>\n",
              "      <td>NaN</td>\n",
              "      <td>180.0</td>\n",
              "      <td>0</td>\n",
              "      <td>7</td>\n",
              "      <td>6</td>\n",
              "      <td>1004</td>\n",
              "      <td>NaN</td>\n",
              "      <td>1970</td>\n",
              "      <td>1970</td>\n",
              "      <td>149000</td>\n",
              "    </tr>\n",
              "    <tr>\n",
              "      <th>17</th>\n",
              "      <td>1296</td>\n",
              "      <td>0.0</td>\n",
              "      <td>2.0</td>\n",
              "      <td>NaN</td>\n",
              "      <td>0</td>\n",
              "      <td>NaN</td>\n",
              "      <td>0</td>\n",
              "      <td>NaN</td>\n",
              "      <td>516</td>\n",
              "      <td>Unf</td>\n",
              "      <td>...</td>\n",
              "      <td>72.0</td>\n",
              "      <td>0.0</td>\n",
              "      <td>0</td>\n",
              "      <td>5</td>\n",
              "      <td>4</td>\n",
              "      <td>0</td>\n",
              "      <td>NaN</td>\n",
              "      <td>1967</td>\n",
              "      <td>1967</td>\n",
              "      <td>90000</td>\n",
              "    </tr>\n",
              "    <tr>\n",
              "      <th>18</th>\n",
              "      <td>1114</td>\n",
              "      <td>NaN</td>\n",
              "      <td>NaN</td>\n",
              "      <td>No</td>\n",
              "      <td>646</td>\n",
              "      <td>GLQ</td>\n",
              "      <td>468</td>\n",
              "      <td>NaN</td>\n",
              "      <td>576</td>\n",
              "      <td>Unf</td>\n",
              "      <td>...</td>\n",
              "      <td>66.0</td>\n",
              "      <td>0.0</td>\n",
              "      <td>102</td>\n",
              "      <td>5</td>\n",
              "      <td>5</td>\n",
              "      <td>1114</td>\n",
              "      <td>NaN</td>\n",
              "      <td>2004</td>\n",
              "      <td>2004</td>\n",
              "      <td>159000</td>\n",
              "    </tr>\n",
              "    <tr>\n",
              "      <th>19</th>\n",
              "      <td>1339</td>\n",
              "      <td>0.0</td>\n",
              "      <td>3.0</td>\n",
              "      <td>No</td>\n",
              "      <td>504</td>\n",
              "      <td>LwQ</td>\n",
              "      <td>525</td>\n",
              "      <td>NaN</td>\n",
              "      <td>294</td>\n",
              "      <td>Unf</td>\n",
              "      <td>...</td>\n",
              "      <td>70.0</td>\n",
              "      <td>0.0</td>\n",
              "      <td>0</td>\n",
              "      <td>6</td>\n",
              "      <td>5</td>\n",
              "      <td>1029</td>\n",
              "      <td>NaN</td>\n",
              "      <td>1958</td>\n",
              "      <td>1965</td>\n",
              "      <td>139000</td>\n",
              "    </tr>\n",
              "  </tbody>\n",
              "</table>\n",
              "<p>20 rows × 24 columns</p>\n",
              "</div>"
            ],
            "text/plain": [
              "    1stFlrSF  2ndFlrSF  BedroomAbvGr BsmtExposure  BsmtFinSF1 BsmtFinType1  \\\n",
              "0        856     854.0           3.0           No         706          GLQ   \n",
              "1       1262       0.0           3.0           Gd         978          ALQ   \n",
              "2        920     866.0           3.0           Mn         486          GLQ   \n",
              "3        961       NaN           NaN           No         216          ALQ   \n",
              "4       1145       NaN           4.0           Av         655          GLQ   \n",
              "5        796     566.0           1.0           No         732          GLQ   \n",
              "6       1694       0.0           3.0           Av        1369          GLQ   \n",
              "7       1107     983.0           3.0           Mn         859          ALQ   \n",
              "8       1022     752.0           2.0           No           0          Unf   \n",
              "9       1077       0.0           2.0           No         851          GLQ   \n",
              "10      1040       0.0           3.0           No         906          Rec   \n",
              "11      1182    1142.0           4.0           No         998          NaN   \n",
              "12       912       0.0           2.0           No         737          ALQ   \n",
              "13      1494       0.0           3.0           Av           0          Unf   \n",
              "14      1253       0.0           NaN           No         733          BLQ   \n",
              "15       854       0.0           2.0           No           0          Unf   \n",
              "16      1004       0.0           2.0           No         578          ALQ   \n",
              "17      1296       0.0           2.0          NaN           0          NaN   \n",
              "18      1114       NaN           NaN           No         646          GLQ   \n",
              "19      1339       0.0           3.0           No         504          LwQ   \n",
              "\n",
              "    BsmtUnfSF  EnclosedPorch  GarageArea GarageFinish  ...  LotFrontage  \\\n",
              "0         150            0.0         548          RFn  ...         65.0   \n",
              "1         284            NaN         460          RFn  ...         80.0   \n",
              "2         434            0.0         608          RFn  ...         68.0   \n",
              "3         540            NaN         642          Unf  ...         60.0   \n",
              "4         490            0.0         836          RFn  ...         84.0   \n",
              "5          64            NaN         480          Unf  ...         85.0   \n",
              "6         317            NaN         636          RFn  ...         75.0   \n",
              "7         216            NaN         484          NaN  ...          NaN   \n",
              "8         952            NaN         468          Unf  ...         51.0   \n",
              "9         140            NaN         205          RFn  ...         50.0   \n",
              "10        134            NaN         384          Unf  ...         70.0   \n",
              "11        177            NaN         736          Fin  ...         85.0   \n",
              "12        175            NaN         352          NaN  ...          NaN   \n",
              "13       1494            NaN         840          RFn  ...         91.0   \n",
              "14        520            NaN         352          RFn  ...          NaN   \n",
              "15        832            NaN         576          Unf  ...         51.0   \n",
              "16        426            NaN         480          Fin  ...          NaN   \n",
              "17          0            NaN         516          Unf  ...         72.0   \n",
              "18        468            NaN         576          Unf  ...         66.0   \n",
              "19        525            NaN         294          Unf  ...         70.0   \n",
              "\n",
              "    MasVnrArea OpenPorchSF  OverallCond  OverallQual  TotalBsmtSF  WoodDeckSF  \\\n",
              "0        196.0          61            5            7          856         0.0   \n",
              "1          0.0           0            8            6         1262         NaN   \n",
              "2        162.0          42            5            7          920         NaN   \n",
              "3          0.0          35            5            7          756         NaN   \n",
              "4        350.0          84            5            8         1145         NaN   \n",
              "5          0.0          30            5            5          796         NaN   \n",
              "6        186.0          57            5            8         1686         NaN   \n",
              "7        240.0         204            6            7         1107         NaN   \n",
              "8          0.0           0            5            7          952         NaN   \n",
              "9          0.0           4            6            5          991         NaN   \n",
              "10         0.0           0            5            5         1040         NaN   \n",
              "11       286.0          21            5            9         1175         NaN   \n",
              "12         0.0           0            6            5          912         NaN   \n",
              "13       306.0          33            5            7         1494       160.0   \n",
              "14       212.0         213            5            6         1253         NaN   \n",
              "15         0.0         112            8            7          832         NaN   \n",
              "16       180.0           0            7            6         1004         NaN   \n",
              "17         0.0           0            5            4            0         NaN   \n",
              "18         0.0         102            5            5         1114         NaN   \n",
              "19         0.0           0            6            5         1029         NaN   \n",
              "\n",
              "    YearBuilt  YearRemodAdd  SalePrice  \n",
              "0        2003          2003     208500  \n",
              "1        1976          1976     181500  \n",
              "2        2001          2002     223500  \n",
              "3        1915          1970     140000  \n",
              "4        2000          2000     250000  \n",
              "5        1993          1995     143000  \n",
              "6        2004          2005     307000  \n",
              "7        1973          1973     200000  \n",
              "8        1931          1950     129900  \n",
              "9        1939          1950     118000  \n",
              "10       1965          1965     129500  \n",
              "11       2005          2006     345000  \n",
              "12       1962          1962     144000  \n",
              "13       2006          2007     279500  \n",
              "14       1960          1960     157000  \n",
              "15       1929          2001     132000  \n",
              "16       1970          1970     149000  \n",
              "17       1967          1967      90000  \n",
              "18       2004          2004     159000  \n",
              "19       1958          1965     139000  \n",
              "\n",
              "[20 rows x 24 columns]"
            ]
          },
          "execution_count": 13,
          "metadata": {},
          "output_type": "execute_result"
        }
      ],
      "source": [
        "import pandas as pd\n",
        "df = pd.read_csv(f\"inputs/datasets/raw/house-price-20211124T154130Z-001/house-price/house_prices_records.csv\")\n",
        "df.head(20)"
      ]
    },
    {
      "cell_type": "markdown",
      "metadata": {},
      "source": [
        "This dataset contains housing records for Ames, Iowa. Each row represents a single house sale, and each column describes an attribute of the house (e.g., size, quality, number of bedrooms, etc.).\n",
        "\n",
        "We then check basic structure, number of entries, data types, and missing values with a DataFrame summary."
      ]
    },
    {
      "cell_type": "code",
      "execution_count": 12,
      "metadata": {},
      "outputs": [
        {
          "name": "stdout",
          "output_type": "stream",
          "text": [
            "<class 'pandas.core.frame.DataFrame'>\n",
            "RangeIndex: 1460 entries, 0 to 1459\n",
            "Data columns (total 24 columns):\n",
            " #   Column         Non-Null Count  Dtype  \n",
            "---  ------         --------------  -----  \n",
            " 0   1stFlrSF       1460 non-null   int64  \n",
            " 1   2ndFlrSF       1374 non-null   float64\n",
            " 2   BedroomAbvGr   1361 non-null   float64\n",
            " 3   BsmtExposure   1422 non-null   object \n",
            " 4   BsmtFinSF1     1460 non-null   int64  \n",
            " 5   BsmtFinType1   1315 non-null   object \n",
            " 6   BsmtUnfSF      1460 non-null   int64  \n",
            " 7   EnclosedPorch  136 non-null    float64\n",
            " 8   GarageArea     1460 non-null   int64  \n",
            " 9   GarageFinish   1225 non-null   object \n",
            " 10  GarageYrBlt    1379 non-null   float64\n",
            " 11  GrLivArea      1460 non-null   int64  \n",
            " 12  KitchenQual    1460 non-null   object \n",
            " 13  LotArea        1460 non-null   int64  \n",
            " 14  LotFrontage    1201 non-null   float64\n",
            " 15  MasVnrArea     1452 non-null   float64\n",
            " 16  OpenPorchSF    1460 non-null   int64  \n",
            " 17  OverallCond    1460 non-null   int64  \n",
            " 18  OverallQual    1460 non-null   int64  \n",
            " 19  TotalBsmtSF    1460 non-null   int64  \n",
            " 20  WoodDeckSF     155 non-null    float64\n",
            " 21  YearBuilt      1460 non-null   int64  \n",
            " 22  YearRemodAdd   1460 non-null   int64  \n",
            " 23  SalePrice      1460 non-null   int64  \n",
            "dtypes: float64(7), int64(13), object(4)\n",
            "memory usage: 273.9+ KB\n"
          ]
        }
      ],
      "source": [
        "df.info()"
      ]
    },
    {
      "cell_type": "markdown",
      "metadata": {},
      "source": [
        "**Output Notes:**\n",
        "\n",
        "- The dataset contains 1,460 entries and 24 columns.\n",
        "\n",
        "- Most features are numerical (`int64` and `float64`), with a few categorical (`object`).\n",
        "\n",
        "- Some columns have missing values:\n",
        "\n",
        "    - `2ndFlrSF`, `BedroomAbvGr`, `GarageYrBlt`, and `LotFrontage` have some missing numeric values\n",
        "\n",
        "    - `BsmtExposure`, `BsmtFinType1`, and `GarageFinish` are categorical features with missing entries\n",
        "\n",
        "    - `EnclosedPorch` and `WoodDeckSF` appear to have a very low number of valid entries (136 and 155 out of 1460, respectively)\n",
        "\n",
        "This information will guide the data cleaning steps in the next notebook phase, where we'll handle missing data, outliers, and formatting inconsistencies."
      ]
    },
    {
      "cell_type": "markdown",
      "metadata": {},
      "source": [
        "---"
      ]
    },
    {
      "cell_type": "markdown",
      "metadata": {
        "id": "ltNetd085qHf"
      },
      "source": [
        "# Push files to Repo"
      ]
    },
    {
      "cell_type": "markdown",
      "metadata": {},
      "source": [
        "Create an output folder to keep track of the dataset as it is worked on."
      ]
    },
    {
      "cell_type": "code",
      "execution_count": 14,
      "metadata": {
        "id": "aKlnIozA4eQO",
        "outputId": "fd09bc1f-adb1-4511-f6ce-492a6af570c0"
      },
      "outputs": [],
      "source": [
        "import os\n",
        "try:\n",
        "  os.makedirs(name='outputs/datasets/collection') # create an output folder\n",
        "except Exception as e:\n",
        "  print(e)\n",
        "\n",
        "df.to_csv(f\"outputs/datasets/collection/house_prices_records.csv\",index=False)"
      ]
    },
    {
      "cell_type": "markdown",
      "metadata": {},
      "source": [
        "Add, commit and push your files to your repo."
      ]
    },
    {
      "cell_type": "code",
      "execution_count": null,
      "metadata": {},
      "outputs": [],
      "source": [
        "git add .\n",
        "git commit -m \"Added the house prices dataset\"\n",
        "git push origin main"
      ]
    },
    {
      "cell_type": "markdown",
      "metadata": {},
      "source": [
        "---"
      ]
    },
    {
      "cell_type": "markdown",
      "metadata": {},
      "source": [
        "# Conclusions and Next Steps"
      ]
    },
    {
      "cell_type": "markdown",
      "metadata": {},
      "source": [
        "In this initial phase, we successfully loaded and inspected the raw dataset. The dataset consists of 1,460 house sale records and 24 features, including a mix of numerical and categorical variables. We identified several features with missing values, particularly in `2ndFlrSF`, `BedroomAbvGr`, and some categorical fields like `BsmtFinType1` and `GarageFinish`.\n",
        "\n",
        "We also noted that some numerical columns are stored as `float64` due to missing values, even though they represent whole numbers. These will be converted to integers after handling missing data.\n",
        "\n",
        "**Next steps:**\n",
        "- Analyze and visualize the distribution of missing values\n",
        "- Decide on appropriate strategies for imputing or dropping missing data\n",
        "- Begin exploratory analysis to understand the relationships between features and `SalePrice`"
      ]
    }
  ],
  "metadata": {
    "accelerator": "GPU",
    "colab": {
      "name": "Data Practitioner Jupyter Notebook.ipynb",
      "provenance": [],
      "toc_visible": true
    },
    "kernelspec": {
      "display_name": "Python 3",
      "language": "python",
      "name": "python3"
    },
    "language_info": {
      "codemirror_mode": {
        "name": "ipython",
        "version": 3
      },
      "file_extension": ".py",
      "mimetype": "text/x-python",
      "name": "python",
      "nbconvert_exporter": "python",
      "pygments_lexer": "ipython3",
      "version": "3.12.8"
    },
    "orig_nbformat": 2
  },
  "nbformat": 4,
  "nbformat_minor": 2
}
